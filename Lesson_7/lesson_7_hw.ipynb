{
 "cells": [
  {
   "cell_type": "markdown",
   "metadata": {},
   "source": [
    "# Спортивный анализ данных. Платформа Kaggle"
   ]
  },
  {
   "cell_type": "markdown",
   "metadata": {},
   "source": [
    "## Урок 7. Тюнинг гиперпараметров, построение ансамблей алгоритмов."
   ]
  },
  {
   "cell_type": "markdown",
   "metadata": {},
   "source": [
    "### Домашнее задание:"
   ]
  },
  {
   "cell_type": "markdown",
   "metadata": {},
   "source": [
    "Чтобы было больше времени на выполнение курсовой работы, задание выполнить на __наборе данных для соревнования__:\n",
    "\n",
    "__Тестовая выборка__ - это выборка для применения модели и загрузки на ЛБ.\n",
    "\n",
    "**[Задание 1](#task1):**\n",
    "Обучить алгоритмы LightGBM и XGBoost, получить OOF прогнозы, оценить корреляцию прогнозов на обучающей выборке. Применить модели на тестовую выборку и оценить корреляцию.\n",
    "\n",
    "**[Задание 2](#task2):**\n",
    "Усреднить прогнозы с помощью арифмитического среднего, геометрического среднего и усреднить ранги, сделать выводы о качестве отдельных моделей и о качестве комбинации.\n",
    "\n",
    "**[Задание 3](#task3):**\n",
    "Обучить CatBoost, получить OOF прогнозы и выполнить задание 1 для трех моделей.\n",
    "Выполнить задание 2 для трех моделей.\n",
    "\n",
    "**[Задание 4](#task4):**\n",
    "(опция) Объединить OOF-прогнозы для трех моделей и обучить алгоритм Логистической регрессии (и любой другой, на ваше усмотрение). Сделать выводы о достигаемом качестве, сравнить достигаемое качество с качеством отдельных моделей и моделей, полученных в п.2 и п.4.\n",
    "\n",
    "**[Задание 5](#task5):**\n",
    "(опция) Обучить алгоритмRandomForest (желательно подтюнить параметры) и добавить к построенным ранее моделям. Выполнить задание 5."
   ]
  },
  {
   "cell_type": "code",
   "execution_count": 1,
   "metadata": {},
   "outputs": [],
   "source": [
    "import pandas as pd \n",
    "import numpy as np\n",
    "# Модель\n",
    "import xgboost as xgb\n",
    "\n",
    "from sklearn.model_selection import KFold, StratifiedKFold, train_test_split, cross_val_score"
   ]
  },
  {
   "cell_type": "code",
   "execution_count": 2,
   "metadata": {},
   "outputs": [],
   "source": [
    "def reduce_mem_usage(df):\n",
    "    '''Сокращение размера датафрейма за счёт изменения типа данных'''\n",
    "    \n",
    "    start_mem = df.memory_usage().sum() / 1024**2\n",
    "    print('Memory usage of dataframe is {:.2f} MB'.format(start_mem))\n",
    "    \n",
    "    for col in df.columns:\n",
    "        col_type = df[col].dtype\n",
    "        \n",
    "        if col_type != object:\n",
    "            c_min = df[col].min()\n",
    "            c_max = df[col].max()\n",
    "            if str(col_type)[:3] == 'int':\n",
    "                if c_min > np.iinfo(np.int8).min and c_max < np.iinfo(np.int8).max:\n",
    "                    df[col] = df[col].astype(np.int8)\n",
    "                elif c_min > np.iinfo(np.int16).min and c_max < np.iinfo(np.int16).max:\n",
    "                    df[col] = df[col].astype(np.int16)\n",
    "                elif c_min > np.iinfo(np.int32).min and c_max < np.iinfo(np.int32).max:\n",
    "                    df[col] = df[col].astype(np.int32)\n",
    "                elif c_min > np.iinfo(np.int64).min and c_max < np.iinfo(np.int64).max:\n",
    "                    df[col] = df[col].astype(np.int64)  \n",
    "            else:\n",
    "                if c_min > np.finfo(np.float32).min and c_max < np.finfo(np.float32).max:\n",
    "                    df[col] = df[col].astype(np.float32)\n",
    "                else:\n",
    "                    df[col] = df[col].astype(np.float64)\n",
    "        else:\n",
    "            df[col] = df[col].astype('category')\n",
    "\n",
    "    end_mem = df.memory_usage().sum() / 1024**2\n",
    "    print('Memory usage after optimization is: {:.2f} MB'.format(end_mem))\n",
    "    print('Decreased by {:.1f}%'.format(100 * (start_mem - end_mem) / start_mem))\n",
    "    \n",
    "    return df"
   ]
  },
  {
   "cell_type": "code",
   "execution_count": 3,
   "metadata": {},
   "outputs": [],
   "source": [
    "TRAIN_DATASET_PATH = '../../data/train.csv'\n",
    "TEST_DATASET_PATH = '../../data/test.csv'\n",
    "BKI_DATASET_PATH = '../../data/bki.csv'\n",
    "applications_history_DATASET_PATH = '../../data/applications_history.csv'\n",
    "client_profile_DATASET_PATH = '../../data/client_profile.csv'\n",
    "payments_DATASET_PATH = '../../data/payments.csv'\n",
    "sample_submit_DATASET_PATH = '../../data/sample_submit.csv'\n",
    "\n",
    "ID_COLUMN = 'APPLICATION_NUMBER'\n",
    "ID_COLUMN_PR = 'PREV_APPLICATION_NUMBER'\n",
    "TARGET = 'TARGET'"
   ]
  },
  {
   "cell_type": "code",
   "execution_count": 4,
   "metadata": {},
   "outputs": [
    {
     "name": "stdout",
     "output_type": "stream",
     "text": [
      "Memory usage of dataframe is 2.52 MB\n",
      "Memory usage after optimization is: 0.63 MB\n",
      "Decreased by 75.0%\n",
      "Memory usage of dataframe is 2.52 MB\n",
      "Memory usage after optimization is: 0.79 MB\n",
      "Decreased by 68.7%\n",
      "Memory usage of dataframe is 122.60 MB\n",
      "Memory usage after optimization is: 48.68 MB\n",
      "Decreased by 60.3%\n",
      "Memory usage of dataframe is 45.78 MB\n",
      "Memory usage after optimization is: 18.12 MB\n",
      "Decreased by 60.4%\n",
      "Memory usage of dataframe is 62.50 MB\n",
      "Memory usage after optimization is: 29.30 MB\n",
      "Decreased by 53.1%\n",
      "Memory usage of dataframe is 331.31 MB\n",
      "Memory usage after optimization is: 114.69 MB\n",
      "Decreased by 65.4%\n"
     ]
    }
   ],
   "source": [
    "train = pd.read_csv(TRAIN_DATASET_PATH)\n",
    "df_train =reduce_mem_usage(train)  # Уменьшаем размер данных\n",
    "#df_train.info()\n",
    "\n",
    "\n",
    "test = pd.read_csv(TEST_DATASET_PATH)\n",
    "df_test =reduce_mem_usage(test)  # Уменьшаем размер данных\n",
    "\n",
    "bki = pd.read_csv(BKI_DATASET_PATH)\n",
    "df_bki =reduce_mem_usage(bki)  # Уменьшаем размер данных\n",
    "#df_bki.info()\n",
    "\n",
    "client_profile = pd.read_csv(client_profile_DATASET_PATH)\n",
    "df_client_profile =reduce_mem_usage(client_profile)  # Уменьшаем размер данных\n",
    "#df_client_profile.info()\n",
    "\n",
    "payments = pd.read_csv(payments_DATASET_PATH)\n",
    "df_payments =reduce_mem_usage(payments)  # Уменьшаем размер данных\n",
    "#df_payments.info()\n",
    "\n",
    "applications_history = pd.read_csv(applications_history_DATASET_PATH)\n",
    "df_applications_history =reduce_mem_usage(applications_history)  # Уменьшаем размер данных\n",
    "#df_applications_history.info()"
   ]
  },
  {
   "cell_type": "code",
   "execution_count": 5,
   "metadata": {},
   "outputs": [
    {
     "data": {
      "text/plain": [
       "0    101196\n",
       "1      8897\n",
       "Name: TARGET, dtype: int64"
      ]
     },
     "execution_count": 5,
     "metadata": {},
     "output_type": "execute_result"
    }
   ],
   "source": [
    "df_train['TARGET'].value_counts()  # Количество различных значений признака 'TARGET'"
   ]
  },
  {
   "cell_type": "code",
   "execution_count": 6,
   "metadata": {},
   "outputs": [],
   "source": [
    "train_df = df_train.merge(bki, on=ID_COLUMN, how='left')\n",
    "train_df = train_df.merge(client_profile, on=ID_COLUMN, how='left')\n",
    "train_df = train_df.merge(bki, on=ID_COLUMN, how='left')"
   ]
  },
  {
   "cell_type": "code",
   "execution_count": 7,
   "metadata": {},
   "outputs": [],
   "source": [
    "test_df = df_test.merge(bki, on=ID_COLUMN, how='left')\n",
    "test_df = test_df.merge(client_profile, on=ID_COLUMN, how='left')\n",
    "test_df = test_df.merge(bki, on=ID_COLUMN, how='left')\n",
    "#test_df.info()"
   ]
  },
  {
   "cell_type": "code",
   "execution_count": 8,
   "metadata": {},
   "outputs": [],
   "source": [
    "train_df.set_index('APPLICATION_NUMBER', inplace=True)"
   ]
  },
  {
   "cell_type": "code",
   "execution_count": 9,
   "metadata": {},
   "outputs": [],
   "source": [
    "X = train_df.drop('TARGET', axis=1)#.fillna(-1)\n",
    "y = train_df['TARGET']"
   ]
  },
  {
   "cell_type": "code",
   "execution_count": 10,
   "metadata": {},
   "outputs": [],
   "source": [
    "numerical_features = train_df.select_dtypes(exclude=[\"category\"])\n",
    "numerical_features = numerical_features.columns.tolist()\n",
    "#numerical_features.remove('APPLICATION_NUMBER')\n",
    "numerical_features.remove('TARGET')"
   ]
  },
  {
   "cell_type": "code",
   "execution_count": 11,
   "metadata": {},
   "outputs": [],
   "source": [
    "ids = test_df['APPLICATION_NUMBER'].values\n",
    "test_df.set_index('APPLICATION_NUMBER', inplace=True)\n",
    "X_test = test_df[numerical_features]"
   ]
  },
  {
   "cell_type": "code",
   "execution_count": 12,
   "metadata": {},
   "outputs": [
    {
     "name": "stdout",
     "output_type": "stream",
     "text": [
      "x_train.shape = 1214461 rows, 56 cols\n",
      "x_test.shape = 404821 rows, 56 cols\n"
     ]
    }
   ],
   "source": [
    "x_train, x_test = train_test_split(\n",
    "    X, train_size=0.75, random_state=27\n",
    ")\n",
    "y_train, y_test = train_test_split(\n",
    "    y, train_size=0.75, random_state=27\n",
    ")\n",
    "print(\"x_train.shape = {} rows, {} cols\".format(*x_train.shape))\n",
    "print(\"x_test.shape = {} rows, {} cols\".format(*x_test.shape))"
   ]
  },
  {
   "cell_type": "markdown",
   "metadata": {},
   "source": [
    "## Задание 1:<a class=\"anchor\" id=\"task1\"></a>"
   ]
  },
  {
   "cell_type": "markdown",
   "metadata": {},
   "source": [
    " Обучить алгоритмы LightGBM и XGBoost, получить OOF прогнозы, оценить корреляцию прогнозов на обучающей выборке. Применить модели на тестовую выборку и оценить корреляцию."
   ]
  },
  {
   "cell_type": "markdown",
   "metadata": {},
   "source": [
    "***OOF — out of folds***, техника получения предсказаний модели для тренировочной части датасета используя кросс-валидацию. Незаменима для дальнейшей сборки нескольких решений в ансамбль."
   ]
  },
  {
   "cell_type": "markdown",
   "metadata": {},
   "source": [
    "### XGBoost"
   ]
  },
  {
   "cell_type": "code",
   "execution_count": 13,
   "metadata": {},
   "outputs": [],
   "source": [
    "# Модель\n",
    "import xgboost as xgb\n",
    "# Метрика\n",
    "from sklearn.metrics import roc_auc_score, auc\n",
    "from sklearn.model_selection import KFold, StratifiedKFold, train_test_split, cross_val_score"
   ]
  },
  {
   "cell_type": "code",
   "execution_count": 14,
   "metadata": {},
   "outputs": [],
   "source": [
    "xgb_params = {\n",
    "    \"booster\": \"gbtree\",\n",
    "    \"objective\": \"binary:logistic\",\n",
    "    \"eval_metric\": \"auc\",\n",
    "    \"n_estimators\": 2000,  # количество деревьев\n",
    "    #\"n_estimators\": 250,\n",
    "    \"learning_rate\": 0.1,\n",
    "    \"reg_lambda\": 10,\n",
    "    \"max_depth\": 4,\n",
    "    \"gamma\": 10,\n",
    "    \"nthread\": 6,\n",
    "    \"seed\": 27\n",
    "}"
   ]
  },
  {
   "cell_type": "code",
   "execution_count": 15,
   "metadata": {},
   "outputs": [],
   "source": [
    "eval_sets= [\n",
    "    (x_train[numerical_features], y_train),\n",
    "    (x_test[numerical_features], y_test)\n",
    "]"
   ]
  },
  {
   "cell_type": "code",
   "execution_count": 16,
   "metadata": {
    "scrolled": false
   },
   "outputs": [
    {
     "name": "stderr",
     "output_type": "stream",
     "text": [
      "C:\\ProgramData\\Anaconda3\\lib\\site-packages\\xgboost\\sklearn.py:888: UserWarning: The use of label encoder in XGBClassifier is deprecated and will be removed in a future release. To remove this warning, do the following: 1) Pass option use_label_encoder=False when constructing XGBClassifier object; and 2) Encode your labels (y) as integers starting with 0, i.e. 0, 1, 2, ..., [num_class - 1].\n",
      "  warnings.warn(label_encoder_deprecation_msg, UserWarning)\n"
     ]
    },
    {
     "name": "stdout",
     "output_type": "stream",
     "text": [
      "[0]\tvalidation_0-auc:0.68473\tvalidation_1-auc:0.68488\n",
      "[10]\tvalidation_0-auc:0.72499\tvalidation_1-auc:0.72449\n",
      "[20]\tvalidation_0-auc:0.73940\tvalidation_1-auc:0.73864\n",
      "[30]\tvalidation_0-auc:0.75032\tvalidation_1-auc:0.74948\n",
      "[40]\tvalidation_0-auc:0.76294\tvalidation_1-auc:0.76161\n",
      "[50]\tvalidation_0-auc:0.77358\tvalidation_1-auc:0.77216\n",
      "[60]\tvalidation_0-auc:0.78203\tvalidation_1-auc:0.78092\n",
      "[70]\tvalidation_0-auc:0.78772\tvalidation_1-auc:0.78683\n",
      "[80]\tvalidation_0-auc:0.79132\tvalidation_1-auc:0.79030\n",
      "[90]\tvalidation_0-auc:0.79683\tvalidation_1-auc:0.79575\n",
      "[100]\tvalidation_0-auc:0.80106\tvalidation_1-auc:0.79998\n",
      "[110]\tvalidation_0-auc:0.80515\tvalidation_1-auc:0.80405\n",
      "[120]\tvalidation_0-auc:0.80891\tvalidation_1-auc:0.80754\n",
      "[130]\tvalidation_0-auc:0.81325\tvalidation_1-auc:0.81174\n",
      "[140]\tvalidation_0-auc:0.81732\tvalidation_1-auc:0.81571\n",
      "[150]\tvalidation_0-auc:0.82085\tvalidation_1-auc:0.81921\n",
      "[160]\tvalidation_0-auc:0.82336\tvalidation_1-auc:0.82169\n",
      "[170]\tvalidation_0-auc:0.82557\tvalidation_1-auc:0.82375\n",
      "[180]\tvalidation_0-auc:0.82832\tvalidation_1-auc:0.82646\n",
      "[190]\tvalidation_0-auc:0.83143\tvalidation_1-auc:0.82925\n",
      "[200]\tvalidation_0-auc:0.83322\tvalidation_1-auc:0.83095\n",
      "[210]\tvalidation_0-auc:0.83509\tvalidation_1-auc:0.83277\n",
      "[220]\tvalidation_0-auc:0.83692\tvalidation_1-auc:0.83431\n",
      "[230]\tvalidation_0-auc:0.83837\tvalidation_1-auc:0.83571\n",
      "[240]\tvalidation_0-auc:0.84115\tvalidation_1-auc:0.83831\n",
      "[250]\tvalidation_0-auc:0.84302\tvalidation_1-auc:0.83995\n",
      "[260]\tvalidation_0-auc:0.84461\tvalidation_1-auc:0.84147\n",
      "[270]\tvalidation_0-auc:0.84780\tvalidation_1-auc:0.84480\n",
      "[280]\tvalidation_0-auc:0.84926\tvalidation_1-auc:0.84642\n",
      "[290]\tvalidation_0-auc:0.85124\tvalidation_1-auc:0.84829\n",
      "[300]\tvalidation_0-auc:0.85327\tvalidation_1-auc:0.85051\n",
      "[310]\tvalidation_0-auc:0.85481\tvalidation_1-auc:0.85210\n",
      "[320]\tvalidation_0-auc:0.85719\tvalidation_1-auc:0.85424\n",
      "[330]\tvalidation_0-auc:0.85854\tvalidation_1-auc:0.85555\n",
      "[340]\tvalidation_0-auc:0.85969\tvalidation_1-auc:0.85660\n",
      "[350]\tvalidation_0-auc:0.86162\tvalidation_1-auc:0.85850\n",
      "[360]\tvalidation_0-auc:0.86256\tvalidation_1-auc:0.85941\n",
      "[370]\tvalidation_0-auc:0.86428\tvalidation_1-auc:0.86104\n",
      "[380]\tvalidation_0-auc:0.86602\tvalidation_1-auc:0.86264\n",
      "[390]\tvalidation_0-auc:0.86750\tvalidation_1-auc:0.86402\n",
      "[400]\tvalidation_0-auc:0.86897\tvalidation_1-auc:0.86532\n",
      "[410]\tvalidation_0-auc:0.87022\tvalidation_1-auc:0.86662\n",
      "[420]\tvalidation_0-auc:0.87165\tvalidation_1-auc:0.86812\n",
      "[430]\tvalidation_0-auc:0.87292\tvalidation_1-auc:0.86939\n",
      "[440]\tvalidation_0-auc:0.87487\tvalidation_1-auc:0.87135\n",
      "[450]\tvalidation_0-auc:0.87602\tvalidation_1-auc:0.87238\n",
      "[460]\tvalidation_0-auc:0.87757\tvalidation_1-auc:0.87383\n",
      "[470]\tvalidation_0-auc:0.87870\tvalidation_1-auc:0.87489\n",
      "[480]\tvalidation_0-auc:0.87997\tvalidation_1-auc:0.87614\n",
      "[490]\tvalidation_0-auc:0.88104\tvalidation_1-auc:0.87711\n",
      "[500]\tvalidation_0-auc:0.88182\tvalidation_1-auc:0.87787\n",
      "[510]\tvalidation_0-auc:0.88292\tvalidation_1-auc:0.87891\n",
      "[520]\tvalidation_0-auc:0.88422\tvalidation_1-auc:0.88003\n",
      "[530]\tvalidation_0-auc:0.88514\tvalidation_1-auc:0.88096\n",
      "[540]\tvalidation_0-auc:0.88612\tvalidation_1-auc:0.88189\n",
      "[550]\tvalidation_0-auc:0.88670\tvalidation_1-auc:0.88243\n",
      "[560]\tvalidation_0-auc:0.88703\tvalidation_1-auc:0.88269\n",
      "[570]\tvalidation_0-auc:0.88810\tvalidation_1-auc:0.88369\n",
      "[580]\tvalidation_0-auc:0.88874\tvalidation_1-auc:0.88427\n",
      "[590]\tvalidation_0-auc:0.88935\tvalidation_1-auc:0.88476\n",
      "[600]\tvalidation_0-auc:0.89028\tvalidation_1-auc:0.88565\n",
      "[610]\tvalidation_0-auc:0.89081\tvalidation_1-auc:0.88616\n",
      "[620]\tvalidation_0-auc:0.89163\tvalidation_1-auc:0.88703\n",
      "[630]\tvalidation_0-auc:0.89247\tvalidation_1-auc:0.88777\n",
      "[640]\tvalidation_0-auc:0.89310\tvalidation_1-auc:0.88837\n",
      "[650]\tvalidation_0-auc:0.89419\tvalidation_1-auc:0.88937\n",
      "[660]\tvalidation_0-auc:0.89542\tvalidation_1-auc:0.89049\n",
      "[670]\tvalidation_0-auc:0.89685\tvalidation_1-auc:0.89194\n",
      "[680]\tvalidation_0-auc:0.89769\tvalidation_1-auc:0.89279\n",
      "[690]\tvalidation_0-auc:0.89848\tvalidation_1-auc:0.89362\n",
      "[700]\tvalidation_0-auc:0.89943\tvalidation_1-auc:0.89457\n",
      "[710]\tvalidation_0-auc:0.89990\tvalidation_1-auc:0.89502\n",
      "[720]\tvalidation_0-auc:0.90026\tvalidation_1-auc:0.89527\n",
      "[730]\tvalidation_0-auc:0.90089\tvalidation_1-auc:0.89590\n",
      "[740]\tvalidation_0-auc:0.90202\tvalidation_1-auc:0.89700\n",
      "[750]\tvalidation_0-auc:0.90315\tvalidation_1-auc:0.89809\n",
      "[760]\tvalidation_0-auc:0.90396\tvalidation_1-auc:0.89891\n",
      "[770]\tvalidation_0-auc:0.90476\tvalidation_1-auc:0.89965\n",
      "[780]\tvalidation_0-auc:0.90526\tvalidation_1-auc:0.90012\n",
      "[790]\tvalidation_0-auc:0.90598\tvalidation_1-auc:0.90081\n",
      "[800]\tvalidation_0-auc:0.90660\tvalidation_1-auc:0.90140\n",
      "[810]\tvalidation_0-auc:0.90726\tvalidation_1-auc:0.90201\n",
      "[820]\tvalidation_0-auc:0.90805\tvalidation_1-auc:0.90278\n",
      "[830]\tvalidation_0-auc:0.90879\tvalidation_1-auc:0.90345\n",
      "[840]\tvalidation_0-auc:0.90996\tvalidation_1-auc:0.90460\n",
      "[850]\tvalidation_0-auc:0.91073\tvalidation_1-auc:0.90534\n",
      "[860]\tvalidation_0-auc:0.91126\tvalidation_1-auc:0.90578\n",
      "[870]\tvalidation_0-auc:0.91183\tvalidation_1-auc:0.90632\n",
      "[880]\tvalidation_0-auc:0.91252\tvalidation_1-auc:0.90697\n",
      "[890]\tvalidation_0-auc:0.91322\tvalidation_1-auc:0.90766\n",
      "[900]\tvalidation_0-auc:0.91359\tvalidation_1-auc:0.90802\n",
      "[910]\tvalidation_0-auc:0.91418\tvalidation_1-auc:0.90858\n",
      "[920]\tvalidation_0-auc:0.91448\tvalidation_1-auc:0.90886\n",
      "[930]\tvalidation_0-auc:0.91448\tvalidation_1-auc:0.90886\n",
      "[940]\tvalidation_0-auc:0.91448\tvalidation_1-auc:0.90886\n",
      "[950]\tvalidation_0-auc:0.91448\tvalidation_1-auc:0.90886\n",
      "[960]\tvalidation_0-auc:0.91448\tvalidation_1-auc:0.90886\n",
      "[967]\tvalidation_0-auc:0.91448\tvalidation_1-auc:0.90886\n"
     ]
    },
    {
     "data": {
      "text/plain": [
       "XGBClassifier(base_score=0.5, booster='gbtree', colsample_bylevel=1,\n",
       "              colsample_bynode=1, colsample_bytree=1, eval_metric='auc',\n",
       "              gamma=10, gpu_id=-1, importance_type='gain',\n",
       "              interaction_constraints='', learning_rate=0.1, max_delta_step=0,\n",
       "              max_depth=4, min_child_weight=1, missing=nan,\n",
       "              monotone_constraints='()', n_estimators=2000, n_jobs=6, nthread=6,\n",
       "              num_parallel_tree=1, random_state=27, reg_alpha=0, reg_lambda=10,\n",
       "              scale_pos_weight=1, seed=27, subsample=1, tree_method='exact',\n",
       "              validate_parameters=1, verbosity=None)"
      ]
     },
     "execution_count": 16,
     "metadata": {},
     "output_type": "execute_result"
    }
   ],
   "source": [
    "xgb_model = xgb.XGBClassifier(**xgb_params)\n",
    "\n",
    "xgb_model.fit(\n",
    "    y=y_train,\n",
    "    X=x_train[numerical_features],\n",
    "    early_stopping_rounds=50,\n",
    "    eval_set=eval_sets,\n",
    "    eval_metric=\"auc\",\n",
    "    verbose=10\n",
    ")"
   ]
  },
  {
   "cell_type": "markdown",
   "metadata": {},
   "source": [
    "    [920]\tvalidation_0-auc:0.91448\tvalidation_1-auc:0.90886"
   ]
  },
  {
   "cell_type": "code",
   "execution_count": null,
   "metadata": {},
   "outputs": [],
   "source": [
    "y_pred_train_xgb = xgb_model.predict(train_df[numerical_features])"
   ]
  },
  {
   "cell_type": "code",
   "execution_count": 19,
   "metadata": {},
   "outputs": [],
   "source": [
    "# make predictions for test data (Тестовая выборка)\n",
    "# x = X_test.values\n",
    "y_pred_xgb = xgb_model.predict(X_test)\n",
    "output_xgb = pd.DataFrame({'APPLICATION_NUMBER': ids, 'TARGET': y_pred_xgb})"
   ]
  },
  {
   "cell_type": "code",
   "execution_count": 20,
   "metadata": {},
   "outputs": [
    {
     "data": {
      "text/html": [
       "<div>\n",
       "<style scoped>\n",
       "    .dataframe tbody tr th:only-of-type {\n",
       "        vertical-align: middle;\n",
       "    }\n",
       "\n",
       "    .dataframe tbody tr th {\n",
       "        vertical-align: top;\n",
       "    }\n",
       "\n",
       "    .dataframe thead th {\n",
       "        text-align: right;\n",
       "    }\n",
       "</style>\n",
       "<table border=\"1\" class=\"dataframe\">\n",
       "  <thead>\n",
       "    <tr style=\"text-align: right;\">\n",
       "      <th></th>\n",
       "      <th>APPLICATION_NUMBER</th>\n",
       "      <th>TARGET</th>\n",
       "    </tr>\n",
       "  </thead>\n",
       "  <tbody>\n",
       "    <tr>\n",
       "      <th>2436793</th>\n",
       "      <td>123433260</td>\n",
       "      <td>0</td>\n",
       "    </tr>\n",
       "    <tr>\n",
       "      <th>2436794</th>\n",
       "      <td>123433260</td>\n",
       "      <td>0</td>\n",
       "    </tr>\n",
       "    <tr>\n",
       "      <th>2436795</th>\n",
       "      <td>123433260</td>\n",
       "      <td>0</td>\n",
       "    </tr>\n",
       "    <tr>\n",
       "      <th>2436796</th>\n",
       "      <td>123433260</td>\n",
       "      <td>0</td>\n",
       "    </tr>\n",
       "    <tr>\n",
       "      <th>2436797</th>\n",
       "      <td>123433260</td>\n",
       "      <td>0</td>\n",
       "    </tr>\n",
       "    <tr>\n",
       "      <th>2436798</th>\n",
       "      <td>123433260</td>\n",
       "      <td>0</td>\n",
       "    </tr>\n",
       "    <tr>\n",
       "      <th>2436799</th>\n",
       "      <td>123433260</td>\n",
       "      <td>0</td>\n",
       "    </tr>\n",
       "    <tr>\n",
       "      <th>2436800</th>\n",
       "      <td>123433260</td>\n",
       "      <td>0</td>\n",
       "    </tr>\n",
       "    <tr>\n",
       "      <th>2436801</th>\n",
       "      <td>123433260</td>\n",
       "      <td>0</td>\n",
       "    </tr>\n",
       "    <tr>\n",
       "      <th>2436802</th>\n",
       "      <td>123433260</td>\n",
       "      <td>0</td>\n",
       "    </tr>\n",
       "  </tbody>\n",
       "</table>\n",
       "</div>"
      ],
      "text/plain": [
       "         APPLICATION_NUMBER  TARGET\n",
       "2436793           123433260       0\n",
       "2436794           123433260       0\n",
       "2436795           123433260       0\n",
       "2436796           123433260       0\n",
       "2436797           123433260       0\n",
       "2436798           123433260       0\n",
       "2436799           123433260       0\n",
       "2436800           123433260       0\n",
       "2436801           123433260       0\n",
       "2436802           123433260       0"
      ]
     },
     "execution_count": 20,
     "metadata": {},
     "output_type": "execute_result"
    }
   ],
   "source": [
    "output_xgb.tail(10)"
   ]
  },
  {
   "cell_type": "code",
   "execution_count": 21,
   "metadata": {},
   "outputs": [
    {
     "data": {
      "text/plain": [
       "0    2421344\n",
       "1      15459\n",
       "Name: TARGET, dtype: int64"
      ]
     },
     "execution_count": 21,
     "metadata": {},
     "output_type": "execute_result"
    }
   ],
   "source": [
    "output_xgb['TARGET'].value_counts()  # Количество различных значений признака 'TARGET'"
   ]
  },
  {
   "cell_type": "markdown",
   "metadata": {},
   "source": [
    "### Оценка качества модели"
   ]
  },
  {
   "cell_type": "code",
   "execution_count": 23,
   "metadata": {},
   "outputs": [
    {
     "name": "stdout",
     "output_type": "stream",
     "text": [
      "train_score=0.6694041054483558\n",
      "test_score=0.6671894975645648\n"
     ]
    }
   ],
   "source": [
    "train_score = roc_auc_score(y_train, xgb_model.predict(x_train[numerical_features]))\n",
    "test_score = roc_auc_score(y_test, xgb_model.predict(x_test[numerical_features]))\n",
    "\n",
    "print(f'train_score={train_score}')\n",
    "print(f'test_score={test_score}')"
   ]
  },
  {
   "cell_type": "markdown",
   "metadata": {},
   "source": [
    "### LightGBM Sklearn-API"
   ]
  },
  {
   "cell_type": "code",
   "execution_count": 24,
   "metadata": {},
   "outputs": [],
   "source": [
    "import lightgbm as lgb"
   ]
  },
  {
   "cell_type": "code",
   "execution_count": 28,
   "metadata": {},
   "outputs": [],
   "source": [
    "# Задача бинарной классификации\n",
    "lgb_params = {\n",
    "    \"boosting_type\": \"gbdt\",  # gradient boosting tree decision tree (бустинг над решающими деревьями)\n",
    "    \"objective\": \"binary\",\n",
    "    \"metric\": \"auc\", # метрика качества - ROC AUC\n",
    "    #\"learning_rate\": 0.01,  # скорость обучения\n",
    "    \"learning_rate\": 0.1,  # скорость обучения\n",
    "    # \"n_estimators\": 20000,  # число деревьев\n",
    "    \"n_estimators\": 10000,  # число деревьев\n",
    "    #\"n_estimators\": 250,\n",
    "     # регуляризация\n",
    "    \"reg_lambda\": 100,  # регуляризация (то что используется при F2-штрафе (1:15:10))\n",
    "    \"max_depth\": 4,  # глубина дерева\n",
    "    #\"gamma\": 10,  # min-е улучшение функции потерь при котором мы будем делать разбиени (1:15:40)\n",
    "    #\"nthread\": 6, # число ядер\n",
    "    \"n_jobs\": 6,\n",
    "    \"seed\": 27\n",
    "}"
   ]
  },
  {
   "cell_type": "code",
   "execution_count": 29,
   "metadata": {},
   "outputs": [
    {
     "name": "stdout",
     "output_type": "stream",
     "text": [
      "Training until validation scores don't improve for 25 rounds\n",
      "[500]\tvalid_0's auc: 0.869603\tvalid_1's auc: 0.865265\n",
      "[1000]\tvalid_0's auc: 0.903491\tvalid_1's auc: 0.897719\n",
      "[1500]\tvalid_0's auc: 0.925507\tvalid_1's auc: 0.919065\n",
      "[2000]\tvalid_0's auc: 0.938472\tvalid_1's auc: 0.931507\n",
      "[2500]\tvalid_0's auc: 0.948264\tvalid_1's auc: 0.941072\n",
      "[3000]\tvalid_0's auc: 0.955083\tvalid_1's auc: 0.947619\n",
      "[3500]\tvalid_0's auc: 0.960691\tvalid_1's auc: 0.953151\n",
      "[4000]\tvalid_0's auc: 0.965539\tvalid_1's auc: 0.95776\n",
      "[4500]\tvalid_0's auc: 0.969229\tvalid_1's auc: 0.961325\n",
      "[5000]\tvalid_0's auc: 0.972071\tvalid_1's auc: 0.964034\n",
      "[5500]\tvalid_0's auc: 0.974708\tvalid_1's auc: 0.966659\n",
      "[6000]\tvalid_0's auc: 0.977071\tvalid_1's auc: 0.96911\n",
      "[6500]\tvalid_0's auc: 0.979196\tvalid_1's auc: 0.971297\n",
      "[7000]\tvalid_0's auc: 0.9808\tvalid_1's auc: 0.972898\n",
      "[7500]\tvalid_0's auc: 0.982253\tvalid_1's auc: 0.974398\n",
      "[8000]\tvalid_0's auc: 0.983597\tvalid_1's auc: 0.975818\n",
      "[8500]\tvalid_0's auc: 0.98494\tvalid_1's auc: 0.977109\n",
      "[9000]\tvalid_0's auc: 0.986057\tvalid_1's auc: 0.978247\n",
      "[9500]\tvalid_0's auc: 0.987085\tvalid_1's auc: 0.979238\n",
      "[10000]\tvalid_0's auc: 0.987944\tvalid_1's auc: 0.980112\n",
      "Did not meet early stopping. Best iteration is:\n",
      "[10000]\tvalid_0's auc: 0.987944\tvalid_1's auc: 0.980112\n"
     ]
    },
    {
     "data": {
      "text/plain": [
       "LGBMClassifier(max_depth=4, metric='auc', n_estimators=10000, n_jobs=6,\n",
       "               objective='binary', reg_lambda=100, seed=27)"
      ]
     },
     "execution_count": 29,
     "metadata": {},
     "output_type": "execute_result"
    }
   ],
   "source": [
    "# Оценить качество модели на валидационной выборке, оценить расхождение\n",
    "# по сравнению с качеством на обучающей выборке и валидационной выборке.\n",
    "model_lgb = lgb.LGBMClassifier(**lgb_params)\n",
    "model_lgb.fit(\n",
    "    X=x_train[numerical_features],\n",
    "    y=y_train,\n",
    "    eval_set=[(x_train[numerical_features], y_train), (x_test[numerical_features], y_test)],\n",
    "    #categorical_feature = catigorical_features_name,\n",
    "    early_stopping_rounds=25,\n",
    "    eval_metric=\"auc\",\n",
    "    verbose=500\n",
    ")"
   ]
  },
  {
   "cell_type": "markdown",
   "metadata": {},
   "source": [
    "    [10000]\tvalid_0's auc: 0.987944\tvalid_1's auc: 0.980112"
   ]
  },
  {
   "cell_type": "code",
   "execution_count": null,
   "metadata": {},
   "outputs": [],
   "source": [
    "y_pred_train_lgb = model_lgb.predict(train_df[numerical_features])"
   ]
  },
  {
   "cell_type": "code",
   "execution_count": 31,
   "metadata": {},
   "outputs": [],
   "source": [
    "# make predictions for test data  (Тестовая выборка)\n",
    "#ids = test_df['APPLICATION_NUMBER'].values\n",
    "x = X_test[numerical_features].values\n",
    "y_pred_lgb = model_lgb.predict(x)\n",
    "output_lgb = pd.DataFrame({'APPLICATION_NUMBER': ids, 'TARGET': y_pred_lgb})"
   ]
  },
  {
   "cell_type": "code",
   "execution_count": 32,
   "metadata": {},
   "outputs": [
    {
     "data": {
      "text/html": [
       "<div>\n",
       "<style scoped>\n",
       "    .dataframe tbody tr th:only-of-type {\n",
       "        vertical-align: middle;\n",
       "    }\n",
       "\n",
       "    .dataframe tbody tr th {\n",
       "        vertical-align: top;\n",
       "    }\n",
       "\n",
       "    .dataframe thead th {\n",
       "        text-align: right;\n",
       "    }\n",
       "</style>\n",
       "<table border=\"1\" class=\"dataframe\">\n",
       "  <thead>\n",
       "    <tr style=\"text-align: right;\">\n",
       "      <th></th>\n",
       "      <th>APPLICATION_NUMBER</th>\n",
       "      <th>TARGET</th>\n",
       "    </tr>\n",
       "  </thead>\n",
       "  <tbody>\n",
       "    <tr>\n",
       "      <th>0</th>\n",
       "      <td>123724268</td>\n",
       "      <td>0</td>\n",
       "    </tr>\n",
       "    <tr>\n",
       "      <th>1</th>\n",
       "      <td>123456549</td>\n",
       "      <td>1</td>\n",
       "    </tr>\n",
       "    <tr>\n",
       "      <th>2</th>\n",
       "      <td>123456549</td>\n",
       "      <td>1</td>\n",
       "    </tr>\n",
       "    <tr>\n",
       "      <th>3</th>\n",
       "      <td>123456549</td>\n",
       "      <td>1</td>\n",
       "    </tr>\n",
       "    <tr>\n",
       "      <th>4</th>\n",
       "      <td>123456549</td>\n",
       "      <td>1</td>\n",
       "    </tr>\n",
       "    <tr>\n",
       "      <th>5</th>\n",
       "      <td>123428178</td>\n",
       "      <td>0</td>\n",
       "    </tr>\n",
       "    <tr>\n",
       "      <th>6</th>\n",
       "      <td>123428178</td>\n",
       "      <td>0</td>\n",
       "    </tr>\n",
       "    <tr>\n",
       "      <th>7</th>\n",
       "      <td>123428178</td>\n",
       "      <td>0</td>\n",
       "    </tr>\n",
       "    <tr>\n",
       "      <th>8</th>\n",
       "      <td>123428178</td>\n",
       "      <td>0</td>\n",
       "    </tr>\n",
       "    <tr>\n",
       "      <th>9</th>\n",
       "      <td>123428178</td>\n",
       "      <td>0</td>\n",
       "    </tr>\n",
       "  </tbody>\n",
       "</table>\n",
       "</div>"
      ],
      "text/plain": [
       "   APPLICATION_NUMBER  TARGET\n",
       "0           123724268       0\n",
       "1           123456549       1\n",
       "2           123456549       1\n",
       "3           123456549       1\n",
       "4           123456549       1\n",
       "5           123428178       0\n",
       "6           123428178       0\n",
       "7           123428178       0\n",
       "8           123428178       0\n",
       "9           123428178       0"
      ]
     },
     "execution_count": 32,
     "metadata": {},
     "output_type": "execute_result"
    }
   ],
   "source": [
    "output_lgb.head(10)"
   ]
  },
  {
   "cell_type": "code",
   "execution_count": 33,
   "metadata": {},
   "outputs": [
    {
     "data": {
      "text/plain": [
       "0    2401692\n",
       "1      35111\n",
       "Name: TARGET, dtype: int64"
      ]
     },
     "execution_count": 33,
     "metadata": {},
     "output_type": "execute_result"
    }
   ],
   "source": [
    "output_lgb['TARGET'].value_counts()  # Количество различных значений признака 'TARGET'"
   ]
  },
  {
   "cell_type": "markdown",
   "metadata": {},
   "source": [
    "### Оценка качества модели"
   ]
  },
  {
   "cell_type": "code",
   "execution_count": 35,
   "metadata": {},
   "outputs": [
    {
     "name": "stdout",
     "output_type": "stream",
     "text": [
      "train_score=0.8688907741973214\n",
      "test_score=0.8552374766749109\n"
     ]
    }
   ],
   "source": [
    "train_score = roc_auc_score(y_train, model_lgb.predict(x_train[numerical_features]))\n",
    "test_score = roc_auc_score(y_test, model_lgb.predict(x_test[numerical_features]))\n",
    "\n",
    "print(f'train_score={train_score}')\n",
    "print(f'test_score={test_score}')"
   ]
  },
  {
   "cell_type": "markdown",
   "metadata": {},
   "source": [
    "### Prediction Correlation"
   ]
  },
  {
   "cell_type": "markdown",
   "metadata": {},
   "source": [
    "__Корреляция на тренировочной выборке__"
   ]
  },
  {
   "cell_type": "code",
   "execution_count": null,
   "metadata": {},
   "outputs": [],
   "source": [
    "# 2. Визуализация\n",
    "import matplotlib\n",
    "import matplotlib.pyplot as plt\n",
    "import seaborn as sns\n",
    "\n",
    "# scores = pd.DataFrame({\n",
    "#     'lgbm_numerical': model_lgb.predict(x_train[numerical_features]),\n",
    "#     'xgb_numerical': xgb_model.predict(x_train[numerical_features])\n",
    "# })\n",
    "\n",
    "\n",
    "# y_pred_train_lgb = model_lgb.predict(train_df[numerical_features]\n",
    "# y_pred_train_xgb = xgb_model.predict(train_df[numerical_features])\n",
    "# scores = pd.DataFrame({\n",
    "#     'lgbm_numerical': model_lgb.predict(train_df[numerical_features]),\n",
    "#     'xgb_numerical': xgb_model.predict(train_df[numerical_features])\n",
    "# })\n",
    "\n",
    "scores = pd.DataFrame({\n",
    "    'lgbm_numerical': y_pred_train_lgb,\n",
    "    'xgb_numerical': y_pred_train_xgb\n",
    "})\n",
    "\n",
    "corr = scores.corr()\n",
    "mask = np.zeros_like(corr, dtype=np.bool)\n",
    "mask[np.triu_indices_from(mask)] = True"
   ]
  },
  {
   "cell_type": "code",
   "execution_count": 39,
   "metadata": {},
   "outputs": [
    {
     "data": {
      "text/plain": [
       "<AxesSubplot:>"
      ]
     },
     "execution_count": 39,
     "metadata": {},
     "output_type": "execute_result"
    },
    {
     "data": {
      "image/png": "[encoded data removed]",
      "text/plain": [
       "<Figure size 720x720 with 2 Axes>"
      ]
     },
     "metadata": {
      "needs_background": "light"
     },
     "output_type": "display_data"
    }
   ],
   "source": [
    "fig, axes = plt.subplots(1, 1, figsize=(10, 10))\n",
    "sns.heatmap(corr, mask=mask, annot=True, fmt=\".4f\", cmap=\"viridis\", ax=axes)"
   ]
  },
  {
   "cell_type": "markdown",
   "metadata": {},
   "source": [
    "__Корреляция на тестовой выборке__"
   ]
  },
  {
   "cell_type": "code",
   "execution_count": 40,
   "metadata": {},
   "outputs": [
    {
     "data": {
      "text/plain": [
       "<AxesSubplot:>"
      ]
     },
     "execution_count": 40,
     "metadata": {},
     "output_type": "execute_result"
    },
    {
     "data": {
      "image/png": "[encoded data removed]",
      "text/plain": [
       "<Figure size 720x720 with 2 Axes>"
      ]
     },
     "metadata": {
      "needs_background": "light"
     },
     "output_type": "display_data"
    }
   ],
   "source": [
    "scores = pd.DataFrame({\n",
    "    'lgbm_numerical_test': y_pred_lgb,\n",
    "    'xgb_numerical_test': y_pred_xgb\n",
    "})\n",
    "\n",
    "corr = scores.corr()\n",
    "mask = np.zeros_like(corr, dtype=np.bool)\n",
    "mask[np.triu_indices_from(mask)] = True\n",
    "\n",
    "fig, axes = plt.subplots(1, 1, figsize=(10, 10))\n",
    "sns.heatmap(corr, mask=mask, annot=True, fmt=\".4f\", cmap=\"viridis\", ax=axes)"
   ]
  },
  {
   "cell_type": "markdown",
   "metadata": {},
   "source": [
    "## Задание 2:<a class=\"anchor\" id=\"task2\"></a>"
   ]
  },
  {
   "cell_type": "markdown",
   "metadata": {},
   "source": [
    "Усреднить прогнозы с помощью арифмитического среднего, геометрического среднего и усреднить ранги, сделать выводы о качестве отдельных моделей и о качестве комбинации."
   ]
  },
  {
   "cell_type": "code",
   "execution_count": 42,
   "metadata": {},
   "outputs": [],
   "source": [
    "# scores = pd.DataFrame({\n",
    "#     'lgbm_numerical': model_lgb.predict(x_train[numerical_features]),\n",
    "#     'xgb_numerical': xgb_model.predict(x_train[numerical_features])\n",
    "# })\n",
    "\n",
    "#y_pred_train_lgb = model_lgb.predict(train_df[numerical_features])\n",
    "#y_pred_train_xgb = xgb_model.predict(train_df[numerical_features])\n",
    "\n",
    "# scores = pd.DataFrame({\n",
    "#     'lgbm_numerical': model_lgb.predict(train_df[numerical_features]),\n",
    "#     'xgb_numerical': xgb_model.predict(train_df[numerical_features])\n",
    "# })\n",
    "                                     \n",
    "scores = pd.DataFrame({\n",
    "    'lgbm_numerical': y_pred_train_lgb,\n",
    "    'xgb_numerical': y_pred_train_xgb\n",
    "})"
   ]
  },
  {
   "cell_type": "markdown",
   "metadata": {},
   "source": [
    "__AMean__"
   ]
  },
  {
   "cell_type": "code",
   "execution_count": 45,
   "metadata": {},
   "outputs": [
    {
     "name": "stdout",
     "output_type": "stream",
     "text": [
      "Score = 0.8657\n"
     ]
    }
   ],
   "source": [
    "# y = train_df['TARGET']\n",
    "scores_mean = scores.mean(axis=1)\n",
    "# score = roc_auc_score(y_train, scores_mean)\n",
    "score = roc_auc_score(y, scores_mean)\n",
    "print(f\"Score = {round(score, 4)}\")"
   ]
  },
  {
   "cell_type": "markdown",
   "metadata": {},
   "source": [
    "__GMean__"
   ]
  },
  {
   "cell_type": "code",
   "execution_count": 52,
   "metadata": {},
   "outputs": [
    {
     "name": "stderr",
     "output_type": "stream",
     "text": [
      "C:\\ProgramData\\Anaconda3\\lib\\site-packages\\scipy\\stats\\stats.py:402: RuntimeWarning: divide by zero encountered in log\n",
      "  log_a = np.log(np.array(a, dtype=dtype))\n"
     ]
    },
    {
     "name": "stdout",
     "output_type": "stream",
     "text": [
      "Score = 0.6688\n"
     ]
    }
   ],
   "source": [
    "from scipy.stats import gmean, rankdata\n",
    "\n",
    "scores_mean = gmean(scores, axis=1)\n",
    "# score = roc_auc_score(target, scores_mean)\n",
    "#score = roc_auc_score(y_train, scores_mean)\n",
    "score = roc_auc_score(y, scores_mean)\n",
    "print(f\"Score = {round(score, 4)}\")"
   ]
  },
  {
   "cell_type": "markdown",
   "metadata": {},
   "source": [
    "__Rankdata__"
   ]
  },
  {
   "cell_type": "code",
   "execution_count": 53,
   "metadata": {},
   "outputs": [
    {
     "name": "stdout",
     "output_type": "stream",
     "text": [
      "Score = 0.8657\n"
     ]
    }
   ],
   "source": [
    "scores_mean = scores.rank().mean(axis=1)\n",
    "#score = roc_auc_score(y_train, scores_mean)\n",
    "score = roc_auc_score(y, scores_mean)\n",
    "print(f\"Score = {round(score, 4)}\")"
   ]
  },
  {
   "cell_type": "code",
   "execution_count": 55,
   "metadata": {},
   "outputs": [
    {
     "name": "stdout",
     "output_type": "stream",
     "text": [
      "Score = 0.8658\n"
     ]
    }
   ],
   "source": [
    "scores_mean = gmean(scores.rank(), axis=1)\n",
    "#score = roc_auc_score(y_train, scores_mean)\n",
    "score = roc_auc_score(y, scores_mean)\n",
    "#score_meean = scores.rank().gmean(axis=1)\n",
    "print(f\"Score = {round(score, 4)}\")"
   ]
  },
  {
   "cell_type": "markdown",
   "metadata": {},
   "source": [
    "## Задание 3:<a class=\"anchor\" id=\"task3\"></a>"
   ]
  },
  {
   "cell_type": "markdown",
   "metadata": {},
   "source": [
    "Обучить CatBoost, получить OOF прогнозы и выполнить задание 1 для трех моделей. Выполнить задание 2 для трех моделей."
   ]
  },
  {
   "cell_type": "markdown",
   "metadata": {},
   "source": [
    "https://catboost.ai/docs/concepts/python-usages-examples.html"
   ]
  },
  {
   "cell_type": "code",
   "execution_count": 56,
   "metadata": {},
   "outputs": [],
   "source": [
    "import catboost as cb"
   ]
  },
  {
   "cell_type": "code",
   "execution_count": 61,
   "metadata": {},
   "outputs": [],
   "source": [
    "cb_params = {\n",
    "    \"n_estimators\": 10000,\n",
    "    \"loss_function\": \"Logloss\",\n",
    "    \"eval_metric\": \"AUC\",\n",
    "    \"task_type\": \"CPU\",\n",
    "    #\"max_bin\": 20,\n",
    "    \"verbose\": 10,\n",
    "    \"max_depth\": 6,\n",
    "    \"l2_leaf_reg\": 100,\n",
    "    \"early_stopping_rounds\": 50,\n",
    "    \"thread_count\": 6,\n",
    "    \"random_seed\": 42\n",
    "}"
   ]
  },
  {
   "cell_type": "code",
   "execution_count": 62,
   "metadata": {},
   "outputs": [],
   "source": [
    "cb_model = cb.CatBoostClassifier(**cb_params)"
   ]
  },
  {
   "cell_type": "code",
   "execution_count": 63,
   "metadata": {},
   "outputs": [],
   "source": [
    "# eval_sets= [\n",
    "#     (x_train[numerical_features], y_train),\n",
    "#     (x_test[numerical_features], y_test)\n",
    "# ]"
   ]
  },
  {
   "cell_type": "code",
   "execution_count": 64,
   "metadata": {
    "scrolled": true
   },
   "outputs": [
    {
     "name": "stdout",
     "output_type": "stream",
     "text": [
      "0:\ttest: 0.6723240\ttest1: 0.6710253\tbest: 0.6710253 (0)\ttotal: 721ms\tremaining: 2h 5s\n",
      "10:\ttest: 0.7014629\ttest1: 0.7008964\tbest: 0.7008964 (10)\ttotal: 7.13s\tremaining: 1h 47m 58s\n",
      "20:\ttest: 0.7079002\ttest1: 0.7075012\tbest: 0.7075012 (20)\ttotal: 12.7s\tremaining: 1h 40m 49s\n",
      "30:\ttest: 0.7147205\ttest1: 0.7142935\tbest: 0.7142935 (30)\ttotal: 19.5s\tremaining: 1h 44m 39s\n",
      "40:\ttest: 0.7183715\ttest1: 0.7180347\tbest: 0.7180876 (39)\ttotal: 25.8s\tremaining: 1h 44m 18s\n",
      "50:\ttest: 0.7213476\ttest1: 0.7209067\tbest: 0.7209067 (50)\ttotal: 31.1s\tremaining: 1h 41m 3s\n",
      "60:\ttest: 0.7259328\ttest1: 0.7253529\tbest: 0.7253529 (60)\ttotal: 36.9s\tremaining: 1h 40m 7s\n",
      "70:\ttest: 0.7301729\ttest1: 0.7294929\tbest: 0.7294929 (70)\ttotal: 43.3s\tremaining: 1h 41m\n",
      "80:\ttest: 0.7348095\ttest1: 0.7341722\tbest: 0.7341722 (80)\ttotal: 48.9s\tremaining: 1h 39m 50s\n",
      "90:\ttest: 0.7392621\ttest1: 0.7387145\tbest: 0.7387145 (90)\ttotal: 55.6s\tremaining: 1h 40m 57s\n",
      "100:\ttest: 0.7416221\ttest1: 0.7411500\tbest: 0.7411500 (100)\ttotal: 1m 1s\tremaining: 1h 40m 36s\n",
      "110:\ttest: 0.7445842\ttest1: 0.7439923\tbest: 0.7439923 (110)\ttotal: 1m 8s\tremaining: 1h 41m 51s\n",
      "120:\ttest: 0.7469743\ttest1: 0.7463448\tbest: 0.7463448 (120)\ttotal: 1m 14s\tremaining: 1h 41m 33s\n",
      "130:\ttest: 0.7488333\ttest1: 0.7481972\tbest: 0.7481972 (130)\ttotal: 1m 20s\tremaining: 1h 41m 26s\n",
      "140:\ttest: 0.7509046\ttest1: 0.7502193\tbest: 0.7502405 (139)\ttotal: 1m 27s\tremaining: 1h 41m 47s\n",
      "150:\ttest: 0.7527541\ttest1: 0.7520435\tbest: 0.7520435 (150)\ttotal: 1m 32s\tremaining: 1h 40m 54s\n",
      "160:\ttest: 0.7548696\ttest1: 0.7539637\tbest: 0.7539637 (160)\ttotal: 1m 38s\tremaining: 1h 39m 59s\n",
      "170:\ttest: 0.7571158\ttest1: 0.7562101\tbest: 0.7562101 (170)\ttotal: 1m 43s\tremaining: 1h 39m\n",
      "180:\ttest: 0.7592261\ttest1: 0.7582471\tbest: 0.7582471 (180)\ttotal: 1m 48s\tremaining: 1h 38m 26s\n",
      "190:\ttest: 0.7610231\ttest1: 0.7601021\tbest: 0.7601021 (190)\ttotal: 1m 54s\tremaining: 1h 38m 14s\n",
      "200:\ttest: 0.7631937\ttest1: 0.7621430\tbest: 0.7621430 (200)\ttotal: 2m\tremaining: 1h 38m\n",
      "210:\ttest: 0.7649052\ttest1: 0.7637793\tbest: 0.7637793 (210)\ttotal: 2m 7s\tremaining: 1h 38m 18s\n",
      "220:\ttest: 0.7667942\ttest1: 0.7656270\tbest: 0.7656270 (220)\ttotal: 2m 13s\tremaining: 1h 38m 33s\n",
      "230:\ttest: 0.7691036\ttest1: 0.7678083\tbest: 0.7678083 (230)\ttotal: 2m 19s\tremaining: 1h 38m 17s\n",
      "240:\ttest: 0.7711603\ttest1: 0.7698619\tbest: 0.7698619 (240)\ttotal: 2m 25s\tremaining: 1h 38m 3s\n",
      "250:\ttest: 0.7724260\ttest1: 0.7711478\tbest: 0.7711478 (250)\ttotal: 2m 31s\tremaining: 1h 38m 11s\n",
      "260:\ttest: 0.7744817\ttest1: 0.7733238\tbest: 0.7733238 (260)\ttotal: 2m 37s\tremaining: 1h 37m 59s\n",
      "270:\ttest: 0.7757989\ttest1: 0.7746320\tbest: 0.7746320 (270)\ttotal: 2m 43s\tremaining: 1h 37m 43s\n",
      "280:\ttest: 0.7772567\ttest1: 0.7760823\tbest: 0.7760823 (280)\ttotal: 2m 49s\tremaining: 1h 37m 49s\n",
      "290:\ttest: 0.7788738\ttest1: 0.7776741\tbest: 0.7776741 (290)\ttotal: 2m 55s\tremaining: 1h 37m 33s\n",
      "300:\ttest: 0.7800835\ttest1: 0.7787967\tbest: 0.7787967 (300)\ttotal: 3m 1s\tremaining: 1h 37m 24s\n",
      "310:\ttest: 0.7818904\ttest1: 0.7806153\tbest: 0.7806153 (310)\ttotal: 3m 6s\tremaining: 1h 36m 55s\n",
      "320:\ttest: 0.7830740\ttest1: 0.7816711\tbest: 0.7816711 (320)\ttotal: 3m 12s\tremaining: 1h 36m 42s\n",
      "330:\ttest: 0.7843271\ttest1: 0.7828782\tbest: 0.7828782 (330)\ttotal: 3m 17s\tremaining: 1h 36m 10s\n",
      "340:\ttest: 0.7855890\ttest1: 0.7840847\tbest: 0.7840847 (340)\ttotal: 3m 21s\tremaining: 1h 35m 10s\n",
      "350:\ttest: 0.7869583\ttest1: 0.7854818\tbest: 0.7854818 (350)\ttotal: 3m 27s\tremaining: 1h 35m 1s\n",
      "360:\ttest: 0.7880842\ttest1: 0.7865921\tbest: 0.7865921 (360)\ttotal: 3m 33s\tremaining: 1h 34m 49s\n",
      "370:\ttest: 0.7891113\ttest1: 0.7875885\tbest: 0.7875885 (370)\ttotal: 3m 38s\tremaining: 1h 34m 24s\n",
      "380:\ttest: 0.7903696\ttest1: 0.7888717\tbest: 0.7888717 (380)\ttotal: 3m 44s\tremaining: 1h 34m 26s\n",
      "390:\ttest: 0.7914571\ttest1: 0.7899241\tbest: 0.7899241 (390)\ttotal: 3m 50s\tremaining: 1h 34m 35s\n",
      "400:\ttest: 0.7925527\ttest1: 0.7909181\tbest: 0.7909181 (400)\ttotal: 3m 57s\tremaining: 1h 34m 34s\n",
      "410:\ttest: 0.7935385\ttest1: 0.7919028\tbest: 0.7919028 (410)\ttotal: 4m 4s\tremaining: 1h 34m 56s\n",
      "420:\ttest: 0.7945148\ttest1: 0.7928762\tbest: 0.7928762 (420)\ttotal: 4m 11s\tremaining: 1h 35m 15s\n",
      "430:\ttest: 0.7957110\ttest1: 0.7940019\tbest: 0.7940019 (430)\ttotal: 4m 15s\tremaining: 1h 34m 43s\n",
      "440:\ttest: 0.7967365\ttest1: 0.7950264\tbest: 0.7950264 (440)\ttotal: 4m 20s\tremaining: 1h 33m 59s\n",
      "450:\ttest: 0.7979603\ttest1: 0.7962345\tbest: 0.7962345 (450)\ttotal: 4m 25s\tremaining: 1h 33m 39s\n",
      "460:\ttest: 0.7990888\ttest1: 0.7973205\tbest: 0.7973205 (460)\ttotal: 4m 30s\tremaining: 1h 33m 11s\n",
      "470:\ttest: 0.7998282\ttest1: 0.7980401\tbest: 0.7980401 (470)\ttotal: 4m 34s\tremaining: 1h 32m 42s\n",
      "480:\ttest: 0.8006889\ttest1: 0.7988854\tbest: 0.7988854 (480)\ttotal: 4m 39s\tremaining: 1h 32m 13s\n",
      "490:\ttest: 0.8015464\ttest1: 0.7997457\tbest: 0.7997457 (490)\ttotal: 4m 46s\tremaining: 1h 32m 19s\n",
      "500:\ttest: 0.8023726\ttest1: 0.8004940\tbest: 0.8004940 (500)\ttotal: 4m 52s\tremaining: 1h 32m 26s\n",
      "510:\ttest: 0.8034924\ttest1: 0.8015729\tbest: 0.8015729 (510)\ttotal: 4m 56s\tremaining: 1h 31m 53s\n",
      "520:\ttest: 0.8043503\ttest1: 0.8023372\tbest: 0.8023372 (520)\ttotal: 5m 1s\tremaining: 1h 31m 32s\n",
      "530:\ttest: 0.8050830\ttest1: 0.8030216\tbest: 0.8030216 (530)\ttotal: 5m 6s\tremaining: 1h 31m 9s\n",
      "540:\ttest: 0.8060811\ttest1: 0.8039598\tbest: 0.8039598 (540)\ttotal: 5m 12s\tremaining: 1h 30m 57s\n",
      "550:\ttest: 0.8073437\ttest1: 0.8051483\tbest: 0.8051483 (550)\ttotal: 5m 16s\tremaining: 1h 30m 35s\n",
      "560:\ttest: 0.8087900\ttest1: 0.8065322\tbest: 0.8065322 (560)\ttotal: 5m 22s\tremaining: 1h 30m 23s\n",
      "570:\ttest: 0.8097355\ttest1: 0.8074503\tbest: 0.8074503 (570)\ttotal: 5m 28s\tremaining: 1h 30m 18s\n",
      "580:\ttest: 0.8109576\ttest1: 0.8086222\tbest: 0.8086222 (580)\ttotal: 5m 33s\tremaining: 1h 30m 8s\n",
      "590:\ttest: 0.8118462\ttest1: 0.8095595\tbest: 0.8095595 (590)\ttotal: 5m 38s\tremaining: 1h 29m 54s\n",
      "600:\ttest: 0.8129074\ttest1: 0.8106128\tbest: 0.8106128 (600)\ttotal: 5m 44s\tremaining: 1h 29m 52s\n",
      "610:\ttest: 0.8139215\ttest1: 0.8115999\tbest: 0.8115999 (610)\ttotal: 5m 50s\tremaining: 1h 29m 38s\n",
      "620:\ttest: 0.8146431\ttest1: 0.8122902\tbest: 0.8122902 (620)\ttotal: 5m 55s\tremaining: 1h 29m 27s\n",
      "630:\ttest: 0.8154967\ttest1: 0.8132012\tbest: 0.8132060 (629)\ttotal: 6m 1s\tremaining: 1h 29m 32s\n",
      "640:\ttest: 0.8161679\ttest1: 0.8138080\tbest: 0.8138080 (640)\ttotal: 6m 6s\tremaining: 1h 29m 4s\n",
      "650:\ttest: 0.8170028\ttest1: 0.8146997\tbest: 0.8146997 (650)\ttotal: 6m 11s\tremaining: 1h 29m\n",
      "660:\ttest: 0.8179267\ttest1: 0.8155991\tbest: 0.8155991 (660)\ttotal: 6m 16s\tremaining: 1h 28m 36s\n",
      "670:\ttest: 0.8196354\ttest1: 0.8173274\tbest: 0.8173274 (670)\ttotal: 6m 20s\tremaining: 1h 28m 15s\n",
      "680:\ttest: 0.8211889\ttest1: 0.8188841\tbest: 0.8188841 (680)\ttotal: 6m 25s\tremaining: 1h 27m 56s\n",
      "690:\ttest: 0.8224194\ttest1: 0.8200818\tbest: 0.8200818 (690)\ttotal: 6m 30s\tremaining: 1h 27m 43s\n",
      "700:\ttest: 0.8233943\ttest1: 0.8210414\tbest: 0.8210414 (700)\ttotal: 6m 36s\tremaining: 1h 27m 37s\n",
      "710:\ttest: 0.8241444\ttest1: 0.8217497\tbest: 0.8217497 (710)\ttotal: 6m 41s\tremaining: 1h 27m 23s\n",
      "720:\ttest: 0.8249882\ttest1: 0.8225773\tbest: 0.8225773 (720)\ttotal: 6m 46s\tremaining: 1h 27m 15s\n",
      "730:\ttest: 0.8262289\ttest1: 0.8237963\tbest: 0.8237963 (730)\ttotal: 6m 51s\tremaining: 1h 26m 53s\n",
      "740:\ttest: 0.8273905\ttest1: 0.8248914\tbest: 0.8248914 (740)\ttotal: 6m 55s\tremaining: 1h 26m 37s\n",
      "750:\ttest: 0.8281581\ttest1: 0.8256479\tbest: 0.8256479 (750)\ttotal: 7m 1s\tremaining: 1h 26m 29s\n",
      "760:\ttest: 0.8291453\ttest1: 0.8265844\tbest: 0.8265844 (760)\ttotal: 7m 6s\tremaining: 1h 26m 18s\n",
      "770:\ttest: 0.8300425\ttest1: 0.8274380\tbest: 0.8274380 (770)\ttotal: 7m 11s\tremaining: 1h 26m 11s\n",
      "780:\ttest: 0.8309728\ttest1: 0.8283534\tbest: 0.8283534 (780)\ttotal: 7m 16s\tremaining: 1h 25m 57s\n",
      "790:\ttest: 0.8317046\ttest1: 0.8290162\tbest: 0.8290162 (790)\ttotal: 7m 21s\tremaining: 1h 25m 40s\n",
      "800:\ttest: 0.8325998\ttest1: 0.8298102\tbest: 0.8298102 (800)\ttotal: 7m 25s\tremaining: 1h 25m 19s\n",
      "810:\ttest: 0.8332187\ttest1: 0.8303596\tbest: 0.8303596 (810)\ttotal: 7m 30s\tremaining: 1h 25m 8s\n",
      "820:\ttest: 0.8339678\ttest1: 0.8310912\tbest: 0.8310912 (820)\ttotal: 7m 36s\tremaining: 1h 25m 6s\n",
      "830:\ttest: 0.8346874\ttest1: 0.8317890\tbest: 0.8317890 (830)\ttotal: 7m 42s\tremaining: 1h 25m\n",
      "840:\ttest: 0.8355497\ttest1: 0.8326183\tbest: 0.8326183 (840)\ttotal: 7m 48s\tremaining: 1h 25m 1s\n",
      "850:\ttest: 0.8363740\ttest1: 0.8333704\tbest: 0.8333704 (850)\ttotal: 7m 53s\tremaining: 1h 24m 54s\n",
      "860:\ttest: 0.8370395\ttest1: 0.8339961\tbest: 0.8339961 (860)\ttotal: 7m 58s\tremaining: 1h 24m 42s\n"
     ]
    },
    {
     "name": "stdout",
     "output_type": "stream",
     "text": [
      "870:\ttest: 0.8377231\ttest1: 0.8346631\tbest: 0.8346631 (870)\ttotal: 8m 4s\tremaining: 1h 24m 39s\n",
      "880:\ttest: 0.8385007\ttest1: 0.8353959\tbest: 0.8353959 (880)\ttotal: 8m 9s\tremaining: 1h 24m 28s\n",
      "890:\ttest: 0.8394544\ttest1: 0.8363328\tbest: 0.8363328 (890)\ttotal: 8m 14s\tremaining: 1h 24m 12s\n",
      "900:\ttest: 0.8402375\ttest1: 0.8370734\tbest: 0.8370734 (900)\ttotal: 8m 18s\tremaining: 1h 23m 58s\n",
      "910:\ttest: 0.8410598\ttest1: 0.8378634\tbest: 0.8378634 (910)\ttotal: 8m 24s\tremaining: 1h 23m 54s\n",
      "920:\ttest: 0.8415911\ttest1: 0.8383813\tbest: 0.8383813 (920)\ttotal: 8m 29s\tremaining: 1h 23m 47s\n",
      "930:\ttest: 0.8420948\ttest1: 0.8388879\tbest: 0.8388879 (929)\ttotal: 8m 35s\tremaining: 1h 23m 44s\n",
      "940:\ttest: 0.8429232\ttest1: 0.8397371\tbest: 0.8397371 (940)\ttotal: 8m 40s\tremaining: 1h 23m 26s\n",
      "950:\ttest: 0.8435707\ttest1: 0.8403429\tbest: 0.8403429 (950)\ttotal: 8m 44s\tremaining: 1h 23m 11s\n",
      "960:\ttest: 0.8445383\ttest1: 0.8412673\tbest: 0.8412673 (960)\ttotal: 8m 50s\tremaining: 1h 23m 10s\n",
      "970:\ttest: 0.8453129\ttest1: 0.8420106\tbest: 0.8420106 (970)\ttotal: 8m 56s\tremaining: 1h 23m 7s\n",
      "980:\ttest: 0.8460799\ttest1: 0.8427402\tbest: 0.8427402 (980)\ttotal: 9m 2s\tremaining: 1h 23m 4s\n",
      "990:\ttest: 0.8465125\ttest1: 0.8431386\tbest: 0.8431386 (990)\ttotal: 9m 7s\tremaining: 1h 22m 59s\n",
      "1000:\ttest: 0.8470691\ttest1: 0.8436852\tbest: 0.8436852 (1000)\ttotal: 9m 12s\tremaining: 1h 22m 48s\n",
      "1010:\ttest: 0.8475083\ttest1: 0.8441204\tbest: 0.8441204 (1010)\ttotal: 9m 17s\tremaining: 1h 22m 36s\n",
      "1020:\ttest: 0.8480384\ttest1: 0.8446538\tbest: 0.8446538 (1020)\ttotal: 9m 22s\tremaining: 1h 22m 29s\n",
      "1030:\ttest: 0.8485451\ttest1: 0.8451355\tbest: 0.8451355 (1030)\ttotal: 9m 28s\tremaining: 1h 22m 25s\n",
      "1040:\ttest: 0.8491787\ttest1: 0.8457586\tbest: 0.8457586 (1040)\ttotal: 9m 33s\tremaining: 1h 22m 19s\n",
      "1050:\ttest: 0.8496535\ttest1: 0.8462306\tbest: 0.8462306 (1050)\ttotal: 9m 39s\tremaining: 1h 22m 16s\n",
      "1060:\ttest: 0.8502471\ttest1: 0.8467904\tbest: 0.8467904 (1060)\ttotal: 9m 44s\tremaining: 1h 22m 2s\n",
      "1070:\ttest: 0.8510968\ttest1: 0.8476542\tbest: 0.8476542 (1070)\ttotal: 9m 49s\tremaining: 1h 21m 54s\n",
      "1080:\ttest: 0.8516558\ttest1: 0.8481734\tbest: 0.8481734 (1080)\ttotal: 9m 54s\tremaining: 1h 21m 44s\n",
      "1090:\ttest: 0.8520724\ttest1: 0.8485958\tbest: 0.8485958 (1090)\ttotal: 9m 59s\tremaining: 1h 21m 31s\n",
      "1100:\ttest: 0.8526794\ttest1: 0.8492231\tbest: 0.8492231 (1100)\ttotal: 10m 3s\tremaining: 1h 21m 18s\n",
      "1110:\ttest: 0.8533013\ttest1: 0.8498439\tbest: 0.8498439 (1110)\ttotal: 10m 7s\tremaining: 1h 20m 59s\n",
      "1120:\ttest: 0.8540160\ttest1: 0.8505527\tbest: 0.8505527 (1120)\ttotal: 10m 11s\tremaining: 1h 20m 45s\n",
      "1130:\ttest: 0.8545513\ttest1: 0.8510225\tbest: 0.8510225 (1130)\ttotal: 10m 16s\tremaining: 1h 20m 37s\n",
      "1140:\ttest: 0.8549964\ttest1: 0.8514691\tbest: 0.8514691 (1140)\ttotal: 10m 21s\tremaining: 1h 20m 27s\n",
      "1150:\ttest: 0.8553242\ttest1: 0.8517507\tbest: 0.8517507 (1150)\ttotal: 10m 25s\tremaining: 1h 20m 12s\n",
      "1160:\ttest: 0.8560287\ttest1: 0.8524555\tbest: 0.8524555 (1160)\ttotal: 10m 30s\tremaining: 1h 19m 57s\n",
      "1170:\ttest: 0.8565903\ttest1: 0.8529855\tbest: 0.8529855 (1170)\ttotal: 10m 35s\tremaining: 1h 19m 47s\n",
      "1180:\ttest: 0.8570093\ttest1: 0.8534092\tbest: 0.8534092 (1180)\ttotal: 10m 39s\tremaining: 1h 19m 33s\n",
      "1190:\ttest: 0.8573811\ttest1: 0.8537422\tbest: 0.8537422 (1190)\ttotal: 10m 43s\tremaining: 1h 19m 20s\n",
      "1200:\ttest: 0.8579246\ttest1: 0.8542164\tbest: 0.8542164 (1200)\ttotal: 10m 47s\tremaining: 1h 19m 5s\n",
      "1210:\ttest: 0.8584409\ttest1: 0.8546870\tbest: 0.8546870 (1210)\ttotal: 10m 53s\tremaining: 1h 18m 59s\n",
      "1220:\ttest: 0.8590162\ttest1: 0.8552509\tbest: 0.8552509 (1220)\ttotal: 10m 56s\tremaining: 1h 18m 43s\n",
      "1230:\ttest: 0.8594876\ttest1: 0.8557015\tbest: 0.8557015 (1230)\ttotal: 11m 3s\tremaining: 1h 18m 42s\n",
      "1240:\ttest: 0.8600645\ttest1: 0.8562833\tbest: 0.8562833 (1240)\ttotal: 11m 9s\tremaining: 1h 18m 42s\n",
      "1250:\ttest: 0.8605374\ttest1: 0.8567596\tbest: 0.8567596 (1250)\ttotal: 11m 14s\tremaining: 1h 18m 37s\n",
      "1260:\ttest: 0.8610192\ttest1: 0.8572430\tbest: 0.8572430 (1260)\ttotal: 11m 20s\tremaining: 1h 18m 33s\n",
      "1270:\ttest: 0.8613801\ttest1: 0.8575883\tbest: 0.8575883 (1270)\ttotal: 11m 24s\tremaining: 1h 18m 19s\n",
      "1280:\ttest: 0.8617457\ttest1: 0.8579401\tbest: 0.8579401 (1280)\ttotal: 11m 28s\tremaining: 1h 18m 9s\n",
      "1290:\ttest: 0.8621587\ttest1: 0.8583723\tbest: 0.8583723 (1290)\ttotal: 11m 34s\tremaining: 1h 18m 3s\n",
      "1300:\ttest: 0.8626857\ttest1: 0.8588957\tbest: 0.8588957 (1300)\ttotal: 11m 38s\tremaining: 1h 17m 47s\n",
      "1310:\ttest: 0.8632129\ttest1: 0.8594345\tbest: 0.8594345 (1310)\ttotal: 11m 42s\tremaining: 1h 17m 37s\n",
      "1320:\ttest: 0.8635763\ttest1: 0.8597874\tbest: 0.8597874 (1320)\ttotal: 11m 47s\tremaining: 1h 17m 30s\n",
      "1330:\ttest: 0.8640194\ttest1: 0.8602332\tbest: 0.8602332 (1330)\ttotal: 11m 52s\tremaining: 1h 17m 20s\n",
      "1340:\ttest: 0.8645517\ttest1: 0.8607707\tbest: 0.8607707 (1340)\ttotal: 11m 57s\tremaining: 1h 17m 12s\n",
      "1350:\ttest: 0.8649355\ttest1: 0.8611700\tbest: 0.8611700 (1350)\ttotal: 12m 3s\tremaining: 1h 17m 9s\n",
      "1360:\ttest: 0.8656515\ttest1: 0.8618215\tbest: 0.8618215 (1360)\ttotal: 12m 7s\tremaining: 1h 16m 58s\n",
      "1370:\ttest: 0.8661283\ttest1: 0.8622822\tbest: 0.8622822 (1370)\ttotal: 12m 11s\tremaining: 1h 16m 46s\n",
      "1380:\ttest: 0.8666464\ttest1: 0.8627632\tbest: 0.8627632 (1380)\ttotal: 12m 17s\tremaining: 1h 16m 40s\n",
      "1390:\ttest: 0.8670013\ttest1: 0.8630672\tbest: 0.8630672 (1390)\ttotal: 12m 21s\tremaining: 1h 16m 32s\n",
      "1400:\ttest: 0.8674318\ttest1: 0.8634862\tbest: 0.8634935 (1399)\ttotal: 12m 27s\tremaining: 1h 16m 28s\n",
      "1410:\ttest: 0.8678929\ttest1: 0.8639573\tbest: 0.8639573 (1410)\ttotal: 12m 31s\tremaining: 1h 16m 16s\n",
      "1420:\ttest: 0.8681411\ttest1: 0.8641789\tbest: 0.8641789 (1420)\ttotal: 12m 36s\tremaining: 1h 16m 7s\n",
      "1430:\ttest: 0.8685512\ttest1: 0.8646049\tbest: 0.8646049 (1430)\ttotal: 12m 41s\tremaining: 1h 16m 1s\n",
      "1440:\ttest: 0.8689148\ttest1: 0.8649587\tbest: 0.8649587 (1440)\ttotal: 12m 46s\tremaining: 1h 15m 54s\n",
      "1450:\ttest: 0.8695336\ttest1: 0.8655739\tbest: 0.8655739 (1450)\ttotal: 12m 51s\tremaining: 1h 15m 43s\n",
      "1460:\ttest: 0.8700015\ttest1: 0.8660528\tbest: 0.8660528 (1460)\ttotal: 12m 54s\tremaining: 1h 15m 29s\n",
      "1470:\ttest: 0.8706123\ttest1: 0.8666982\tbest: 0.8666982 (1470)\ttotal: 12m 59s\tremaining: 1h 15m 21s\n",
      "1480:\ttest: 0.8710309\ttest1: 0.8671041\tbest: 0.8671041 (1480)\ttotal: 13m 4s\tremaining: 1h 15m 12s\n",
      "1490:\ttest: 0.8714804\ttest1: 0.8675350\tbest: 0.8675350 (1490)\ttotal: 13m 10s\tremaining: 1h 15m 9s\n",
      "1500:\ttest: 0.8718559\ttest1: 0.8679408\tbest: 0.8679408 (1500)\ttotal: 13m 15s\tremaining: 1h 15m 5s\n",
      "1510:\ttest: 0.8723442\ttest1: 0.8684179\tbest: 0.8684179 (1510)\ttotal: 13m 20s\tremaining: 1h 14m 54s\n",
      "1520:\ttest: 0.8725855\ttest1: 0.8686411\tbest: 0.8686411 (1520)\ttotal: 13m 25s\tremaining: 1h 14m 49s\n",
      "1530:\ttest: 0.8729830\ttest1: 0.8690335\tbest: 0.8690335 (1530)\ttotal: 13m 32s\tremaining: 1h 14m 52s\n",
      "1540:\ttest: 0.8733676\ttest1: 0.8694082\tbest: 0.8694082 (1540)\ttotal: 13m 36s\tremaining: 1h 14m 43s\n",
      "1550:\ttest: 0.8738688\ttest1: 0.8698881\tbest: 0.8698881 (1550)\ttotal: 13m 42s\tremaining: 1h 14m 38s\n",
      "1560:\ttest: 0.8742926\ttest1: 0.8702920\tbest: 0.8702920 (1560)\ttotal: 13m 47s\tremaining: 1h 14m 32s\n",
      "1570:\ttest: 0.8747121\ttest1: 0.8706826\tbest: 0.8706826 (1570)\ttotal: 13m 51s\tremaining: 1h 14m 20s\n",
      "1580:\ttest: 0.8751759\ttest1: 0.8711729\tbest: 0.8711729 (1580)\ttotal: 13m 56s\tremaining: 1h 14m 15s\n",
      "1590:\ttest: 0.8754922\ttest1: 0.8714766\tbest: 0.8714845 (1589)\ttotal: 14m 1s\tremaining: 1h 14m 8s\n",
      "1600:\ttest: 0.8758571\ttest1: 0.8718063\tbest: 0.8718063 (1600)\ttotal: 14m 6s\tremaining: 1h 14m 1s\n",
      "1610:\ttest: 0.8762094\ttest1: 0.8721428\tbest: 0.8721428 (1610)\ttotal: 14m 12s\tremaining: 1h 13m 59s\n",
      "1620:\ttest: 0.8765570\ttest1: 0.8724935\tbest: 0.8724935 (1620)\ttotal: 14m 16s\tremaining: 1h 13m 46s\n",
      "1630:\ttest: 0.8770962\ttest1: 0.8730016\tbest: 0.8730016 (1630)\ttotal: 14m 21s\tremaining: 1h 13m 41s\n",
      "1640:\ttest: 0.8774703\ttest1: 0.8733666\tbest: 0.8733666 (1640)\ttotal: 14m 26s\tremaining: 1h 13m 33s\n",
      "1650:\ttest: 0.8778757\ttest1: 0.8737603\tbest: 0.8737603 (1650)\ttotal: 14m 31s\tremaining: 1h 13m 26s\n",
      "1660:\ttest: 0.8783154\ttest1: 0.8741747\tbest: 0.8741747 (1660)\ttotal: 14m 36s\tremaining: 1h 13m 22s\n",
      "1670:\ttest: 0.8785532\ttest1: 0.8744221\tbest: 0.8744221 (1670)\ttotal: 14m 41s\tremaining: 1h 13m 14s\n",
      "1680:\ttest: 0.8789694\ttest1: 0.8748261\tbest: 0.8748261 (1680)\ttotal: 14m 46s\tremaining: 1h 13m 6s\n",
      "1690:\ttest: 0.8792557\ttest1: 0.8751137\tbest: 0.8751137 (1690)\ttotal: 14m 50s\tremaining: 1h 12m 57s\n",
      "1700:\ttest: 0.8796927\ttest1: 0.8755557\tbest: 0.8755557 (1700)\ttotal: 14m 55s\tremaining: 1h 12m 49s\n"
     ]
    },
    {
     "name": "stdout",
     "output_type": "stream",
     "text": [
      "1710:\ttest: 0.8800663\ttest1: 0.8759087\tbest: 0.8759087 (1710)\ttotal: 15m 1s\tremaining: 1h 12m 46s\n",
      "1720:\ttest: 0.8805043\ttest1: 0.8763633\tbest: 0.8763633 (1720)\ttotal: 15m 6s\tremaining: 1h 12m 38s\n",
      "1730:\ttest: 0.8808459\ttest1: 0.8766968\tbest: 0.8766968 (1730)\ttotal: 15m 10s\tremaining: 1h 12m 31s\n",
      "1740:\ttest: 0.8812228\ttest1: 0.8770638\tbest: 0.8770638 (1740)\ttotal: 15m 14s\tremaining: 1h 12m 20s\n",
      "1750:\ttest: 0.8815460\ttest1: 0.8773956\tbest: 0.8773956 (1750)\ttotal: 15m 19s\tremaining: 1h 12m 12s\n",
      "1760:\ttest: 0.8817981\ttest1: 0.8776540\tbest: 0.8776540 (1760)\ttotal: 15m 23s\tremaining: 1h 12m 1s\n",
      "1770:\ttest: 0.8820835\ttest1: 0.8779473\tbest: 0.8779473 (1770)\ttotal: 15m 28s\tremaining: 1h 11m 52s\n",
      "1780:\ttest: 0.8824548\ttest1: 0.8782809\tbest: 0.8782809 (1780)\ttotal: 15m 33s\tremaining: 1h 11m 46s\n",
      "1790:\ttest: 0.8825587\ttest1: 0.8783811\tbest: 0.8783811 (1790)\ttotal: 15m 38s\tremaining: 1h 11m 40s\n",
      "1800:\ttest: 0.8826756\ttest1: 0.8785031\tbest: 0.8785031 (1800)\ttotal: 15m 43s\tremaining: 1h 11m 35s\n",
      "1810:\ttest: 0.8829593\ttest1: 0.8787703\tbest: 0.8787703 (1810)\ttotal: 15m 47s\tremaining: 1h 11m 25s\n",
      "1820:\ttest: 0.8831360\ttest1: 0.8789519\tbest: 0.8789519 (1820)\ttotal: 15m 51s\tremaining: 1h 11m 13s\n",
      "1830:\ttest: 0.8833434\ttest1: 0.8791407\tbest: 0.8791407 (1830)\ttotal: 15m 55s\tremaining: 1h 11m 3s\n",
      "1840:\ttest: 0.8836102\ttest1: 0.8793925\tbest: 0.8793925 (1840)\ttotal: 16m\tremaining: 1h 10m 57s\n",
      "1850:\ttest: 0.8838419\ttest1: 0.8796227\tbest: 0.8796227 (1850)\ttotal: 16m 5s\tremaining: 1h 10m 51s\n",
      "1860:\ttest: 0.8840977\ttest1: 0.8798702\tbest: 0.8798702 (1860)\ttotal: 16m 11s\tremaining: 1h 10m 46s\n",
      "1870:\ttest: 0.8843766\ttest1: 0.8801384\tbest: 0.8801384 (1870)\ttotal: 16m 15s\tremaining: 1h 10m 38s\n",
      "1880:\ttest: 0.8846290\ttest1: 0.8803915\tbest: 0.8803915 (1880)\ttotal: 16m 20s\tremaining: 1h 10m 31s\n",
      "1890:\ttest: 0.8847896\ttest1: 0.8805342\tbest: 0.8805342 (1890)\ttotal: 16m 25s\tremaining: 1h 10m 24s\n",
      "1900:\ttest: 0.8850887\ttest1: 0.8808178\tbest: 0.8808178 (1900)\ttotal: 16m 29s\tremaining: 1h 10m 16s\n",
      "1910:\ttest: 0.8854072\ttest1: 0.8811154\tbest: 0.8811154 (1910)\ttotal: 16m 34s\tremaining: 1h 10m 9s\n",
      "1920:\ttest: 0.8858139\ttest1: 0.8814971\tbest: 0.8814971 (1920)\ttotal: 16m 39s\tremaining: 1h 10m 1s\n",
      "1930:\ttest: 0.8859869\ttest1: 0.8816773\tbest: 0.8816773 (1930)\ttotal: 16m 43s\tremaining: 1h 9m 52s\n",
      "1940:\ttest: 0.8863038\ttest1: 0.8819598\tbest: 0.8819598 (1940)\ttotal: 16m 48s\tremaining: 1h 9m 46s\n",
      "1950:\ttest: 0.8866867\ttest1: 0.8823116\tbest: 0.8823116 (1950)\ttotal: 16m 52s\tremaining: 1h 9m 39s\n",
      "1960:\ttest: 0.8869441\ttest1: 0.8825728\tbest: 0.8825728 (1960)\ttotal: 16m 56s\tremaining: 1h 9m 27s\n",
      "1970:\ttest: 0.8872302\ttest1: 0.8828694\tbest: 0.8828694 (1970)\ttotal: 16m 59s\tremaining: 1h 9m 14s\n",
      "1980:\ttest: 0.8874435\ttest1: 0.8830697\tbest: 0.8830697 (1980)\ttotal: 17m 3s\tremaining: 1h 9m 3s\n",
      "1990:\ttest: 0.8878480\ttest1: 0.8834890\tbest: 0.8834890 (1990)\ttotal: 17m 9s\tremaining: 1h 8m 59s\n",
      "2000:\ttest: 0.8880653\ttest1: 0.8836993\tbest: 0.8836993 (2000)\ttotal: 17m 13s\tremaining: 1h 8m 50s\n",
      "2010:\ttest: 0.8882922\ttest1: 0.8839277\tbest: 0.8839277 (2010)\ttotal: 17m 18s\tremaining: 1h 8m 43s\n",
      "2020:\ttest: 0.8886967\ttest1: 0.8843244\tbest: 0.8843244 (2020)\ttotal: 17m 23s\tremaining: 1h 8m 38s\n",
      "2030:\ttest: 0.8889596\ttest1: 0.8846032\tbest: 0.8846032 (2030)\ttotal: 17m 27s\tremaining: 1h 8m 30s\n",
      "2040:\ttest: 0.8892078\ttest1: 0.8848074\tbest: 0.8848074 (2040)\ttotal: 17m 32s\tremaining: 1h 8m 22s\n",
      "2050:\ttest: 0.8896742\ttest1: 0.8852716\tbest: 0.8852716 (2050)\ttotal: 17m 37s\tremaining: 1h 8m 17s\n",
      "2060:\ttest: 0.8900601\ttest1: 0.8856701\tbest: 0.8856701 (2060)\ttotal: 17m 42s\tremaining: 1h 8m 12s\n",
      "2070:\ttest: 0.8904556\ttest1: 0.8860889\tbest: 0.8860889 (2070)\ttotal: 17m 47s\tremaining: 1h 8m 7s\n",
      "2080:\ttest: 0.8908184\ttest1: 0.8864452\tbest: 0.8864452 (2080)\ttotal: 17m 52s\tremaining: 1h 7m 59s\n",
      "2090:\ttest: 0.8910989\ttest1: 0.8867070\tbest: 0.8867070 (2090)\ttotal: 17m 57s\tremaining: 1h 7m 55s\n",
      "2100:\ttest: 0.8914787\ttest1: 0.8870470\tbest: 0.8870470 (2100)\ttotal: 18m 2s\tremaining: 1h 7m 51s\n",
      "2110:\ttest: 0.8917856\ttest1: 0.8873389\tbest: 0.8873389 (2110)\ttotal: 18m 8s\tremaining: 1h 7m 46s\n",
      "2120:\ttest: 0.8921039\ttest1: 0.8876542\tbest: 0.8876542 (2120)\ttotal: 18m 13s\tremaining: 1h 7m 40s\n",
      "2130:\ttest: 0.8923174\ttest1: 0.8878467\tbest: 0.8878497 (2129)\ttotal: 18m 17s\tremaining: 1h 7m 34s\n",
      "2140:\ttest: 0.8926067\ttest1: 0.8881324\tbest: 0.8881324 (2140)\ttotal: 18m 21s\tremaining: 1h 7m 24s\n",
      "2150:\ttest: 0.8928728\ttest1: 0.8883782\tbest: 0.8883782 (2150)\ttotal: 18m 28s\tremaining: 1h 7m 23s\n",
      "2160:\ttest: 0.8932024\ttest1: 0.8887101\tbest: 0.8887101 (2160)\ttotal: 18m 34s\tremaining: 1h 7m 21s\n",
      "2170:\ttest: 0.8936820\ttest1: 0.8891975\tbest: 0.8891975 (2170)\ttotal: 18m 39s\tremaining: 1h 7m 16s\n",
      "2180:\ttest: 0.8939546\ttest1: 0.8894499\tbest: 0.8894500 (2179)\ttotal: 18m 44s\tremaining: 1h 7m 12s\n",
      "2190:\ttest: 0.8941986\ttest1: 0.8896754\tbest: 0.8896754 (2190)\ttotal: 18m 50s\tremaining: 1h 7m 7s\n",
      "2200:\ttest: 0.8943804\ttest1: 0.8898615\tbest: 0.8898615 (2200)\ttotal: 18m 55s\tremaining: 1h 7m 2s\n",
      "2210:\ttest: 0.8946489\ttest1: 0.8901166\tbest: 0.8901166 (2210)\ttotal: 18m 59s\tremaining: 1h 6m 55s\n",
      "2220:\ttest: 0.8950078\ttest1: 0.8904627\tbest: 0.8904627 (2220)\ttotal: 19m 6s\tremaining: 1h 6m 54s\n",
      "2230:\ttest: 0.8953210\ttest1: 0.8907729\tbest: 0.8907729 (2230)\ttotal: 19m 11s\tremaining: 1h 6m 48s\n",
      "2240:\ttest: 0.8955599\ttest1: 0.8909806\tbest: 0.8909806 (2240)\ttotal: 19m 17s\tremaining: 1h 6m 47s\n",
      "2250:\ttest: 0.8959316\ttest1: 0.8913481\tbest: 0.8913481 (2250)\ttotal: 19m 21s\tremaining: 1h 6m 39s\n",
      "2260:\ttest: 0.8961053\ttest1: 0.8915209\tbest: 0.8915209 (2260)\ttotal: 19m 26s\tremaining: 1h 6m 32s\n",
      "2270:\ttest: 0.8963408\ttest1: 0.8917672\tbest: 0.8917672 (2270)\ttotal: 19m 31s\tremaining: 1h 6m 28s\n",
      "2280:\ttest: 0.8964955\ttest1: 0.8919148\tbest: 0.8919148 (2280)\ttotal: 19m 37s\tremaining: 1h 6m 25s\n",
      "2290:\ttest: 0.8967201\ttest1: 0.8921445\tbest: 0.8921445 (2290)\ttotal: 19m 42s\tremaining: 1h 6m 17s\n",
      "2300:\ttest: 0.8969374\ttest1: 0.8923406\tbest: 0.8923406 (2300)\ttotal: 19m 45s\tremaining: 1h 6m 6s\n",
      "2310:\ttest: 0.8970915\ttest1: 0.8924867\tbest: 0.8924867 (2310)\ttotal: 19m 50s\tremaining: 1h 6m\n",
      "2320:\ttest: 0.8973310\ttest1: 0.8926972\tbest: 0.8926972 (2320)\ttotal: 19m 55s\tremaining: 1h 5m 54s\n",
      "2330:\ttest: 0.8974939\ttest1: 0.8928629\tbest: 0.8928629 (2330)\ttotal: 20m\tremaining: 1h 5m 49s\n",
      "2340:\ttest: 0.8975887\ttest1: 0.8929512\tbest: 0.8929512 (2340)\ttotal: 20m 5s\tremaining: 1h 5m 44s\n",
      "2350:\ttest: 0.8976789\ttest1: 0.8930224\tbest: 0.8930224 (2350)\ttotal: 20m 10s\tremaining: 1h 5m 39s\n",
      "2360:\ttest: 0.8977613\ttest1: 0.8931094\tbest: 0.8931094 (2360)\ttotal: 20m 15s\tremaining: 1h 5m 32s\n",
      "2370:\ttest: 0.8978180\ttest1: 0.8931590\tbest: 0.8931590 (2370)\ttotal: 20m 19s\tremaining: 1h 5m 23s\n",
      "2380:\ttest: 0.8978495\ttest1: 0.8931858\tbest: 0.8931858 (2380)\ttotal: 20m 24s\tremaining: 1h 5m 18s\n",
      "2390:\ttest: 0.8980371\ttest1: 0.8933775\tbest: 0.8933775 (2390)\ttotal: 20m 29s\tremaining: 1h 5m 12s\n",
      "2400:\ttest: 0.8980903\ttest1: 0.8934320\tbest: 0.8934320 (2400)\ttotal: 20m 35s\tremaining: 1h 5m 9s\n",
      "2410:\ttest: 0.8983109\ttest1: 0.8936629\tbest: 0.8936629 (2410)\ttotal: 20m 40s\tremaining: 1h 5m 3s\n",
      "2420:\ttest: 0.8985130\ttest1: 0.8938582\tbest: 0.8938582 (2420)\ttotal: 20m 44s\tremaining: 1h 4m 55s\n",
      "2430:\ttest: 0.8989557\ttest1: 0.8943003\tbest: 0.8943003 (2430)\ttotal: 20m 49s\tremaining: 1h 4m 49s\n",
      "2440:\ttest: 0.8992021\ttest1: 0.8945222\tbest: 0.8945222 (2440)\ttotal: 20m 53s\tremaining: 1h 4m 42s\n",
      "2450:\ttest: 0.8994620\ttest1: 0.8947540\tbest: 0.8947540 (2450)\ttotal: 20m 58s\tremaining: 1h 4m 36s\n",
      "2460:\ttest: 0.8996470\ttest1: 0.8949490\tbest: 0.8949490 (2460)\ttotal: 21m 4s\tremaining: 1h 4m 32s\n",
      "2470:\ttest: 0.8998014\ttest1: 0.8951017\tbest: 0.8951017 (2470)\ttotal: 21m 10s\tremaining: 1h 4m 30s\n",
      "2480:\ttest: 0.8999613\ttest1: 0.8952542\tbest: 0.8952542 (2480)\ttotal: 21m 15s\tremaining: 1h 4m 25s\n",
      "2490:\ttest: 0.9001417\ttest1: 0.8954412\tbest: 0.8954412 (2490)\ttotal: 21m 21s\tremaining: 1h 4m 22s\n",
      "2500:\ttest: 0.9003698\ttest1: 0.8956590\tbest: 0.8956590 (2500)\ttotal: 21m 25s\tremaining: 1h 4m 15s\n",
      "2510:\ttest: 0.9006946\ttest1: 0.8959643\tbest: 0.8959643 (2510)\ttotal: 21m 30s\tremaining: 1h 4m 7s\n",
      "2520:\ttest: 0.9009259\ttest1: 0.8961676\tbest: 0.8961676 (2520)\ttotal: 21m 35s\tremaining: 1h 4m 2s\n",
      "2530:\ttest: 0.9011473\ttest1: 0.8963806\tbest: 0.8963806 (2530)\ttotal: 21m 40s\tremaining: 1h 3m 58s\n",
      "2540:\ttest: 0.9013587\ttest1: 0.8965960\tbest: 0.8965960 (2540)\ttotal: 21m 46s\tremaining: 1h 3m 54s\n"
     ]
    },
    {
     "name": "stdout",
     "output_type": "stream",
     "text": [
      "2550:\ttest: 0.9015432\ttest1: 0.8967893\tbest: 0.8967893 (2550)\ttotal: 21m 52s\tremaining: 1h 3m 51s\n",
      "2560:\ttest: 0.9017394\ttest1: 0.8969893\tbest: 0.8969893 (2560)\ttotal: 21m 57s\tremaining: 1h 3m 47s\n",
      "2570:\ttest: 0.9020346\ttest1: 0.8972810\tbest: 0.8972810 (2570)\ttotal: 22m 1s\tremaining: 1h 3m 38s\n",
      "2580:\ttest: 0.9022519\ttest1: 0.8974927\tbest: 0.8974927 (2580)\ttotal: 22m 5s\tremaining: 1h 3m 29s\n",
      "2590:\ttest: 0.9025028\ttest1: 0.8977321\tbest: 0.8977321 (2590)\ttotal: 22m 8s\tremaining: 1h 3m 19s\n",
      "2600:\ttest: 0.9027510\ttest1: 0.8979644\tbest: 0.8979644 (2600)\ttotal: 22m 13s\tremaining: 1h 3m 12s\n",
      "2610:\ttest: 0.9029829\ttest1: 0.8982156\tbest: 0.8982156 (2610)\ttotal: 22m 16s\tremaining: 1h 3m 2s\n",
      "2620:\ttest: 0.9032756\ttest1: 0.8984905\tbest: 0.8984905 (2620)\ttotal: 22m 20s\tremaining: 1h 2m 53s\n",
      "2630:\ttest: 0.9034943\ttest1: 0.8987099\tbest: 0.8987099 (2630)\ttotal: 22m 25s\tremaining: 1h 2m 49s\n",
      "2640:\ttest: 0.9037122\ttest1: 0.8989132\tbest: 0.8989132 (2640)\ttotal: 22m 30s\tremaining: 1h 2m 43s\n",
      "2650:\ttest: 0.9039002\ttest1: 0.8991165\tbest: 0.8991165 (2650)\ttotal: 22m 34s\tremaining: 1h 2m 35s\n",
      "2660:\ttest: 0.9040726\ttest1: 0.8992853\tbest: 0.8992853 (2660)\ttotal: 22m 38s\tremaining: 1h 2m 25s\n",
      "2670:\ttest: 0.9042346\ttest1: 0.8994419\tbest: 0.8994419 (2670)\ttotal: 22m 42s\tremaining: 1h 2m 17s\n",
      "2680:\ttest: 0.9044763\ttest1: 0.8996891\tbest: 0.8996891 (2680)\ttotal: 22m 45s\tremaining: 1h 2m 7s\n",
      "2690:\ttest: 0.9046876\ttest1: 0.8998912\tbest: 0.8998912 (2690)\ttotal: 22m 51s\tremaining: 1h 2m 3s\n",
      "2700:\ttest: 0.9048832\ttest1: 0.9000941\tbest: 0.9000941 (2700)\ttotal: 22m 55s\tremaining: 1h 1m 56s\n",
      "2710:\ttest: 0.9050999\ttest1: 0.9003109\tbest: 0.9003109 (2710)\ttotal: 22m 59s\tremaining: 1h 1m 50s\n",
      "2720:\ttest: 0.9053702\ttest1: 0.9005752\tbest: 0.9005752 (2720)\ttotal: 23m 4s\tremaining: 1h 1m 44s\n",
      "2730:\ttest: 0.9055557\ttest1: 0.9007678\tbest: 0.9007678 (2730)\ttotal: 23m 8s\tremaining: 1h 1m 35s\n",
      "2740:\ttest: 0.9056985\ttest1: 0.9009045\tbest: 0.9009045 (2740)\ttotal: 23m 13s\tremaining: 1h 1m 29s\n",
      "2750:\ttest: 0.9058416\ttest1: 0.9010368\tbest: 0.9010368 (2750)\ttotal: 23m 17s\tremaining: 1h 1m 23s\n",
      "2760:\ttest: 0.9059955\ttest1: 0.9011747\tbest: 0.9011747 (2760)\ttotal: 23m 22s\tremaining: 1h 1m 16s\n",
      "2770:\ttest: 0.9062293\ttest1: 0.9014091\tbest: 0.9014091 (2770)\ttotal: 23m 26s\tremaining: 1h 1m 10s\n",
      "2780:\ttest: 0.9063314\ttest1: 0.9015198\tbest: 0.9015198 (2780)\ttotal: 23m 31s\tremaining: 1h 1m 2s\n",
      "2790:\ttest: 0.9065584\ttest1: 0.9017577\tbest: 0.9017577 (2790)\ttotal: 23m 35s\tremaining: 1h 56s\n",
      "2800:\ttest: 0.9068051\ttest1: 0.9019942\tbest: 0.9019942 (2800)\ttotal: 23m 39s\tremaining: 1h 49s\n",
      "2810:\ttest: 0.9069999\ttest1: 0.9022067\tbest: 0.9022067 (2810)\ttotal: 23m 44s\tremaining: 1h 42s\n",
      "2820:\ttest: 0.9072370\ttest1: 0.9024663\tbest: 0.9024663 (2820)\ttotal: 23m 47s\tremaining: 1h 33s\n",
      "2830:\ttest: 0.9074265\ttest1: 0.9026473\tbest: 0.9026497 (2829)\ttotal: 23m 52s\tremaining: 1h 27s\n",
      "2840:\ttest: 0.9076235\ttest1: 0.9028299\tbest: 0.9028299 (2840)\ttotal: 23m 56s\tremaining: 1h 19s\n",
      "2850:\ttest: 0.9077543\ttest1: 0.9029470\tbest: 0.9029470 (2850)\ttotal: 24m\tremaining: 1h 11s\n",
      "2860:\ttest: 0.9079595\ttest1: 0.9031629\tbest: 0.9031629 (2860)\ttotal: 24m 3s\tremaining: 1h 2s\n",
      "2870:\ttest: 0.9080784\ttest1: 0.9032814\tbest: 0.9032814 (2870)\ttotal: 24m 8s\tremaining: 59m 57s\n",
      "2880:\ttest: 0.9084126\ttest1: 0.9036381\tbest: 0.9036381 (2880)\ttotal: 24m 13s\tremaining: 59m 52s\n",
      "2890:\ttest: 0.9085707\ttest1: 0.9037930\tbest: 0.9037930 (2890)\ttotal: 24m 19s\tremaining: 59m 50s\n",
      "2900:\ttest: 0.9087197\ttest1: 0.9039499\tbest: 0.9039499 (2900)\ttotal: 24m 25s\tremaining: 59m 45s\n",
      "2910:\ttest: 0.9089041\ttest1: 0.9041326\tbest: 0.9041326 (2910)\ttotal: 24m 30s\tremaining: 59m 39s\n",
      "2920:\ttest: 0.9090295\ttest1: 0.9042529\tbest: 0.9042529 (2920)\ttotal: 24m 34s\tremaining: 59m 34s\n",
      "2930:\ttest: 0.9092340\ttest1: 0.9044514\tbest: 0.9044514 (2930)\ttotal: 24m 40s\tremaining: 59m 31s\n",
      "2940:\ttest: 0.9094082\ttest1: 0.9046134\tbest: 0.9046134 (2940)\ttotal: 24m 44s\tremaining: 59m 22s\n",
      "2950:\ttest: 0.9095414\ttest1: 0.9047491\tbest: 0.9047491 (2950)\ttotal: 24m 47s\tremaining: 59m 14s\n",
      "2960:\ttest: 0.9096611\ttest1: 0.9048613\tbest: 0.9048613 (2960)\ttotal: 24m 51s\tremaining: 59m 5s\n",
      "2970:\ttest: 0.9097438\ttest1: 0.9049459\tbest: 0.9049459 (2970)\ttotal: 24m 54s\tremaining: 58m 55s\n",
      "2980:\ttest: 0.9098335\ttest1: 0.9050459\tbest: 0.9050459 (2980)\ttotal: 24m 57s\tremaining: 58m 46s\n",
      "2990:\ttest: 0.9099525\ttest1: 0.9051632\tbest: 0.9051632 (2990)\ttotal: 25m 2s\tremaining: 58m 40s\n",
      "3000:\ttest: 0.9101206\ttest1: 0.9053187\tbest: 0.9053187 (3000)\ttotal: 25m 7s\tremaining: 58m 35s\n",
      "3010:\ttest: 0.9102218\ttest1: 0.9054255\tbest: 0.9054255 (3010)\ttotal: 25m 12s\tremaining: 58m 31s\n",
      "3020:\ttest: 0.9104607\ttest1: 0.9056625\tbest: 0.9056625 (3020)\ttotal: 25m 16s\tremaining: 58m 23s\n",
      "3030:\ttest: 0.9106602\ttest1: 0.9058709\tbest: 0.9058709 (3030)\ttotal: 25m 21s\tremaining: 58m 19s\n",
      "3040:\ttest: 0.9108302\ttest1: 0.9060445\tbest: 0.9060445 (3040)\ttotal: 25m 26s\tremaining: 58m 14s\n",
      "3050:\ttest: 0.9109368\ttest1: 0.9061529\tbest: 0.9061529 (3050)\ttotal: 25m 31s\tremaining: 58m 9s\n",
      "3060:\ttest: 0.9111098\ttest1: 0.9063240\tbest: 0.9063240 (3060)\ttotal: 25m 37s\tremaining: 58m 5s\n",
      "3070:\ttest: 0.9113288\ttest1: 0.9065132\tbest: 0.9065132 (3070)\ttotal: 25m 42s\tremaining: 58m 1s\n",
      "3080:\ttest: 0.9114631\ttest1: 0.9066450\tbest: 0.9066450 (3080)\ttotal: 25m 47s\tremaining: 57m 55s\n",
      "3090:\ttest: 0.9116573\ttest1: 0.9068245\tbest: 0.9068245 (3090)\ttotal: 25m 52s\tremaining: 57m 51s\n",
      "3100:\ttest: 0.9118182\ttest1: 0.9069869\tbest: 0.9069869 (3100)\ttotal: 25m 58s\tremaining: 57m 46s\n",
      "3110:\ttest: 0.9120364\ttest1: 0.9072231\tbest: 0.9072231 (3110)\ttotal: 26m 3s\tremaining: 57m 41s\n",
      "3120:\ttest: 0.9121515\ttest1: 0.9073157\tbest: 0.9073157 (3120)\ttotal: 26m 8s\tremaining: 57m 36s\n",
      "3130:\ttest: 0.9123603\ttest1: 0.9075445\tbest: 0.9075445 (3130)\ttotal: 26m 13s\tremaining: 57m 32s\n",
      "3140:\ttest: 0.9124986\ttest1: 0.9076798\tbest: 0.9076798 (3140)\ttotal: 26m 18s\tremaining: 57m 27s\n",
      "3150:\ttest: 0.9127236\ttest1: 0.9079028\tbest: 0.9079028 (3150)\ttotal: 26m 23s\tremaining: 57m 21s\n",
      "3160:\ttest: 0.9128317\ttest1: 0.9080175\tbest: 0.9080175 (3159)\ttotal: 26m 28s\tremaining: 57m 17s\n",
      "3170:\ttest: 0.9129733\ttest1: 0.9081715\tbest: 0.9081715 (3170)\ttotal: 26m 33s\tremaining: 57m 12s\n",
      "3180:\ttest: 0.9131730\ttest1: 0.9083561\tbest: 0.9083561 (3180)\ttotal: 26m 38s\tremaining: 57m 6s\n",
      "3190:\ttest: 0.9132943\ttest1: 0.9084681\tbest: 0.9084681 (3190)\ttotal: 26m 44s\tremaining: 57m 3s\n",
      "3200:\ttest: 0.9134422\ttest1: 0.9086142\tbest: 0.9086142 (3200)\ttotal: 26m 49s\tremaining: 56m 58s\n",
      "3210:\ttest: 0.9136038\ttest1: 0.9087564\tbest: 0.9087564 (3210)\ttotal: 26m 54s\tremaining: 56m 52s\n",
      "3220:\ttest: 0.9137048\ttest1: 0.9088478\tbest: 0.9088478 (3220)\ttotal: 26m 59s\tremaining: 56m 48s\n",
      "3230:\ttest: 0.9138211\ttest1: 0.9089572\tbest: 0.9089572 (3230)\ttotal: 27m 5s\tremaining: 56m 45s\n",
      "3240:\ttest: 0.9139308\ttest1: 0.9090645\tbest: 0.9090645 (3240)\ttotal: 27m 9s\tremaining: 56m 38s\n",
      "3250:\ttest: 0.9140048\ttest1: 0.9091465\tbest: 0.9091465 (3250)\ttotal: 27m 13s\tremaining: 56m 31s\n",
      "3260:\ttest: 0.9141574\ttest1: 0.9093008\tbest: 0.9093008 (3260)\ttotal: 27m 18s\tremaining: 56m 25s\n",
      "3270:\ttest: 0.9142748\ttest1: 0.9094332\tbest: 0.9094332 (3270)\ttotal: 27m 23s\tremaining: 56m 20s\n",
      "3280:\ttest: 0.9144457\ttest1: 0.9095996\tbest: 0.9095996 (3280)\ttotal: 27m 28s\tremaining: 56m 15s\n",
      "3290:\ttest: 0.9146486\ttest1: 0.9097813\tbest: 0.9097813 (3290)\ttotal: 27m 33s\tremaining: 56m 10s\n",
      "3300:\ttest: 0.9147383\ttest1: 0.9098675\tbest: 0.9098727 (3299)\ttotal: 27m 38s\tremaining: 56m 5s\n",
      "3310:\ttest: 0.9149370\ttest1: 0.9100532\tbest: 0.9100532 (3310)\ttotal: 27m 42s\tremaining: 55m 59s\n",
      "3320:\ttest: 0.9151751\ttest1: 0.9102900\tbest: 0.9102900 (3320)\ttotal: 27m 47s\tremaining: 55m 53s\n",
      "3330:\ttest: 0.9153804\ttest1: 0.9105025\tbest: 0.9105025 (3330)\ttotal: 27m 51s\tremaining: 55m 45s\n",
      "3340:\ttest: 0.9155095\ttest1: 0.9106242\tbest: 0.9106245 (3339)\ttotal: 27m 55s\tremaining: 55m 39s\n",
      "3350:\ttest: 0.9156037\ttest1: 0.9107145\tbest: 0.9107145 (3350)\ttotal: 28m\tremaining: 55m 34s\n",
      "3360:\ttest: 0.9157673\ttest1: 0.9108812\tbest: 0.9108812 (3360)\ttotal: 28m 4s\tremaining: 55m 26s\n",
      "3370:\ttest: 0.9159632\ttest1: 0.9110784\tbest: 0.9110784 (3370)\ttotal: 28m 9s\tremaining: 55m 21s\n",
      "3380:\ttest: 0.9161088\ttest1: 0.9112066\tbest: 0.9112066 (3380)\ttotal: 28m 12s\tremaining: 55m 14s\n",
      "3390:\ttest: 0.9162212\ttest1: 0.9113247\tbest: 0.9113247 (3390)\ttotal: 28m 17s\tremaining: 55m 7s\n",
      "3400:\ttest: 0.9164141\ttest1: 0.9115087\tbest: 0.9115087 (3400)\ttotal: 28m 21s\tremaining: 55m 1s\n"
     ]
    },
    {
     "name": "stdout",
     "output_type": "stream",
     "text": [
      "3410:\ttest: 0.9165466\ttest1: 0.9116537\tbest: 0.9116537 (3410)\ttotal: 28m 24s\tremaining: 54m 53s\n",
      "3420:\ttest: 0.9166427\ttest1: 0.9117568\tbest: 0.9117568 (3420)\ttotal: 28m 29s\tremaining: 54m 47s\n",
      "3430:\ttest: 0.9167619\ttest1: 0.9118526\tbest: 0.9118526 (3430)\ttotal: 28m 34s\tremaining: 54m 42s\n",
      "3440:\ttest: 0.9168714\ttest1: 0.9119432\tbest: 0.9119481 (3439)\ttotal: 28m 39s\tremaining: 54m 38s\n",
      "3450:\ttest: 0.9169716\ttest1: 0.9120382\tbest: 0.9120382 (3450)\ttotal: 28m 44s\tremaining: 54m 32s\n",
      "3460:\ttest: 0.9171355\ttest1: 0.9121849\tbest: 0.9121849 (3460)\ttotal: 28m 49s\tremaining: 54m 27s\n",
      "3470:\ttest: 0.9173654\ttest1: 0.9124184\tbest: 0.9124184 (3470)\ttotal: 28m 53s\tremaining: 54m 21s\n",
      "3480:\ttest: 0.9174993\ttest1: 0.9125403\tbest: 0.9125403 (3480)\ttotal: 28m 58s\tremaining: 54m 15s\n",
      "3490:\ttest: 0.9176643\ttest1: 0.9127073\tbest: 0.9127073 (3490)\ttotal: 29m 3s\tremaining: 54m 10s\n",
      "3500:\ttest: 0.9177897\ttest1: 0.9128143\tbest: 0.9128143 (3500)\ttotal: 29m 8s\tremaining: 54m 5s\n",
      "3510:\ttest: 0.9179480\ttest1: 0.9129942\tbest: 0.9129942 (3510)\ttotal: 29m 13s\tremaining: 54m 1s\n",
      "3520:\ttest: 0.9180058\ttest1: 0.9130523\tbest: 0.9130523 (3520)\ttotal: 29m 18s\tremaining: 53m 56s\n",
      "3530:\ttest: 0.9180886\ttest1: 0.9131269\tbest: 0.9131269 (3530)\ttotal: 29m 23s\tremaining: 53m 51s\n",
      "3540:\ttest: 0.9182383\ttest1: 0.9132832\tbest: 0.9132832 (3540)\ttotal: 29m 29s\tremaining: 53m 46s\n",
      "3550:\ttest: 0.9183862\ttest1: 0.9134288\tbest: 0.9134288 (3550)\ttotal: 29m 34s\tremaining: 53m 42s\n",
      "3560:\ttest: 0.9185182\ttest1: 0.9135485\tbest: 0.9135485 (3560)\ttotal: 29m 39s\tremaining: 53m 36s\n",
      "3570:\ttest: 0.9186199\ttest1: 0.9136336\tbest: 0.9136336 (3570)\ttotal: 29m 43s\tremaining: 53m 30s\n",
      "3580:\ttest: 0.9187766\ttest1: 0.9137815\tbest: 0.9137815 (3580)\ttotal: 29m 48s\tremaining: 53m 26s\n",
      "3590:\ttest: 0.9188761\ttest1: 0.9138799\tbest: 0.9138801 (3589)\ttotal: 29m 54s\tremaining: 53m 22s\n",
      "3600:\ttest: 0.9190134\ttest1: 0.9140169\tbest: 0.9140169 (3600)\ttotal: 29m 58s\tremaining: 53m 16s\n",
      "3610:\ttest: 0.9191295\ttest1: 0.9141318\tbest: 0.9141318 (3610)\ttotal: 30m 3s\tremaining: 53m 11s\n",
      "3620:\ttest: 0.9192591\ttest1: 0.9142659\tbest: 0.9142659 (3620)\ttotal: 30m 8s\tremaining: 53m 5s\n",
      "3630:\ttest: 0.9194328\ttest1: 0.9144371\tbest: 0.9144392 (3629)\ttotal: 30m 13s\tremaining: 53m\n",
      "3640:\ttest: 0.9194930\ttest1: 0.9144835\tbest: 0.9144835 (3640)\ttotal: 30m 18s\tremaining: 52m 55s\n",
      "3650:\ttest: 0.9196106\ttest1: 0.9145937\tbest: 0.9145937 (3650)\ttotal: 30m 23s\tremaining: 52m 51s\n",
      "3660:\ttest: 0.9197375\ttest1: 0.9147173\tbest: 0.9147173 (3660)\ttotal: 30m 28s\tremaining: 52m 46s\n",
      "3670:\ttest: 0.9198761\ttest1: 0.9148503\tbest: 0.9148503 (3670)\ttotal: 30m 33s\tremaining: 52m 41s\n",
      "3680:\ttest: 0.9200208\ttest1: 0.9149805\tbest: 0.9149805 (3680)\ttotal: 30m 38s\tremaining: 52m 36s\n",
      "3690:\ttest: 0.9201806\ttest1: 0.9151452\tbest: 0.9151452 (3690)\ttotal: 30m 43s\tremaining: 52m 31s\n",
      "3700:\ttest: 0.9203042\ttest1: 0.9152608\tbest: 0.9152608 (3700)\ttotal: 30m 49s\tremaining: 52m 27s\n",
      "3710:\ttest: 0.9204229\ttest1: 0.9153822\tbest: 0.9153822 (3710)\ttotal: 30m 54s\tremaining: 52m 22s\n",
      "3720:\ttest: 0.9205077\ttest1: 0.9154651\tbest: 0.9154651 (3720)\ttotal: 30m 59s\tremaining: 52m 18s\n",
      "3730:\ttest: 0.9206337\ttest1: 0.9155951\tbest: 0.9155951 (3730)\ttotal: 31m 4s\tremaining: 52m 12s\n",
      "3740:\ttest: 0.9207793\ttest1: 0.9157249\tbest: 0.9157249 (3740)\ttotal: 31m 9s\tremaining: 52m 8s\n",
      "3750:\ttest: 0.9209207\ttest1: 0.9158615\tbest: 0.9158615 (3750)\ttotal: 31m 15s\tremaining: 52m 3s\n",
      "3760:\ttest: 0.9210199\ttest1: 0.9159609\tbest: 0.9159609 (3760)\ttotal: 31m 20s\tremaining: 51m 59s\n",
      "3770:\ttest: 0.9211428\ttest1: 0.9160697\tbest: 0.9160697 (3770)\ttotal: 31m 25s\tremaining: 51m 54s\n",
      "3780:\ttest: 0.9212844\ttest1: 0.9161835\tbest: 0.9161835 (3780)\ttotal: 31m 30s\tremaining: 51m 49s\n",
      "3790:\ttest: 0.9214010\ttest1: 0.9162995\tbest: 0.9162995 (3790)\ttotal: 31m 34s\tremaining: 51m 43s\n",
      "3800:\ttest: 0.9215570\ttest1: 0.9164583\tbest: 0.9164583 (3800)\ttotal: 31m 38s\tremaining: 51m 37s\n",
      "3810:\ttest: 0.9217118\ttest1: 0.9166063\tbest: 0.9166063 (3810)\ttotal: 31m 44s\tremaining: 51m 32s\n",
      "3820:\ttest: 0.9218862\ttest1: 0.9167559\tbest: 0.9167559 (3820)\ttotal: 31m 48s\tremaining: 51m 25s\n",
      "3830:\ttest: 0.9220226\ttest1: 0.9169045\tbest: 0.9169045 (3830)\ttotal: 31m 53s\tremaining: 51m 21s\n",
      "3840:\ttest: 0.9222209\ttest1: 0.9171016\tbest: 0.9171016 (3840)\ttotal: 31m 58s\tremaining: 51m 16s\n",
      "3850:\ttest: 0.9223375\ttest1: 0.9172221\tbest: 0.9172221 (3850)\ttotal: 32m 3s\tremaining: 51m 10s\n",
      "3860:\ttest: 0.9225079\ttest1: 0.9173815\tbest: 0.9173815 (3860)\ttotal: 32m 9s\tremaining: 51m 7s\n",
      "3870:\ttest: 0.9226051\ttest1: 0.9174812\tbest: 0.9174812 (3870)\ttotal: 32m 14s\tremaining: 51m 2s\n",
      "3880:\ttest: 0.9227204\ttest1: 0.9175885\tbest: 0.9175885 (3880)\ttotal: 32m 19s\tremaining: 50m 58s\n",
      "3890:\ttest: 0.9228086\ttest1: 0.9176728\tbest: 0.9176728 (3890)\ttotal: 32m 25s\tremaining: 50m 53s\n",
      "3900:\ttest: 0.9229630\ttest1: 0.9178216\tbest: 0.9178216 (3900)\ttotal: 32m 28s\tremaining: 50m 47s\n",
      "3910:\ttest: 0.9230399\ttest1: 0.9178948\tbest: 0.9178948 (3910)\ttotal: 32m 33s\tremaining: 50m 41s\n",
      "3920:\ttest: 0.9231026\ttest1: 0.9179576\tbest: 0.9179579 (3919)\ttotal: 32m 38s\tremaining: 50m 36s\n",
      "3930:\ttest: 0.9231894\ttest1: 0.9180384\tbest: 0.9180384 (3930)\ttotal: 32m 43s\tremaining: 50m 31s\n",
      "3940:\ttest: 0.9232966\ttest1: 0.9181296\tbest: 0.9181296 (3940)\ttotal: 32m 48s\tremaining: 50m 26s\n",
      "3950:\ttest: 0.9233867\ttest1: 0.9182242\tbest: 0.9182242 (3950)\ttotal: 32m 53s\tremaining: 50m 20s\n",
      "3960:\ttest: 0.9234921\ttest1: 0.9183277\tbest: 0.9183277 (3960)\ttotal: 32m 57s\tremaining: 50m 15s\n",
      "3970:\ttest: 0.9235813\ttest1: 0.9184179\tbest: 0.9184179 (3970)\ttotal: 33m 1s\tremaining: 50m 8s\n",
      "3980:\ttest: 0.9237536\ttest1: 0.9185684\tbest: 0.9185684 (3980)\ttotal: 33m 6s\tremaining: 50m 3s\n",
      "3990:\ttest: 0.9238303\ttest1: 0.9186439\tbest: 0.9186439 (3990)\ttotal: 33m 11s\tremaining: 49m 59s\n",
      "4000:\ttest: 0.9239589\ttest1: 0.9187673\tbest: 0.9187673 (4000)\ttotal: 33m 15s\tremaining: 49m 52s\n",
      "4010:\ttest: 0.9240862\ttest1: 0.9188840\tbest: 0.9188840 (4010)\ttotal: 33m 20s\tremaining: 49m 46s\n",
      "4020:\ttest: 0.9241871\ttest1: 0.9189915\tbest: 0.9189915 (4020)\ttotal: 33m 25s\tremaining: 49m 41s\n",
      "4030:\ttest: 0.9242968\ttest1: 0.9190958\tbest: 0.9190958 (4030)\ttotal: 33m 29s\tremaining: 49m 35s\n",
      "4040:\ttest: 0.9244580\ttest1: 0.9192452\tbest: 0.9192452 (4040)\ttotal: 33m 34s\tremaining: 49m 30s\n",
      "4050:\ttest: 0.9245740\ttest1: 0.9193654\tbest: 0.9193654 (4050)\ttotal: 33m 39s\tremaining: 49m 25s\n",
      "4060:\ttest: 0.9246593\ttest1: 0.9194416\tbest: 0.9194416 (4060)\ttotal: 33m 43s\tremaining: 49m 18s\n",
      "4070:\ttest: 0.9247589\ttest1: 0.9195516\tbest: 0.9195516 (4070)\ttotal: 33m 48s\tremaining: 49m 13s\n",
      "4080:\ttest: 0.9248812\ttest1: 0.9196653\tbest: 0.9196653 (4080)\ttotal: 33m 53s\tremaining: 49m 9s\n",
      "4090:\ttest: 0.9249864\ttest1: 0.9197651\tbest: 0.9197651 (4090)\ttotal: 33m 58s\tremaining: 49m 4s\n",
      "4100:\ttest: 0.9250295\ttest1: 0.9198069\tbest: 0.9198069 (4100)\ttotal: 34m 2s\tremaining: 48m 57s\n",
      "4110:\ttest: 0.9251232\ttest1: 0.9198955\tbest: 0.9198955 (4110)\ttotal: 34m 6s\tremaining: 48m 51s\n",
      "4120:\ttest: 0.9252504\ttest1: 0.9200232\tbest: 0.9200232 (4120)\ttotal: 34m 10s\tremaining: 48m 45s\n",
      "4130:\ttest: 0.9254664\ttest1: 0.9202387\tbest: 0.9202387 (4130)\ttotal: 34m 16s\tremaining: 48m 41s\n",
      "4140:\ttest: 0.9255723\ttest1: 0.9203501\tbest: 0.9203501 (4140)\ttotal: 34m 21s\tremaining: 48m 36s\n",
      "4150:\ttest: 0.9256757\ttest1: 0.9204497\tbest: 0.9204527 (4148)\ttotal: 34m 26s\tremaining: 48m 31s\n",
      "4160:\ttest: 0.9257810\ttest1: 0.9205545\tbest: 0.9205545 (4160)\ttotal: 34m 31s\tremaining: 48m 26s\n",
      "4170:\ttest: 0.9259223\ttest1: 0.9206860\tbest: 0.9206860 (4170)\ttotal: 34m 36s\tremaining: 48m 21s\n",
      "4180:\ttest: 0.9260671\ttest1: 0.9208272\tbest: 0.9208272 (4180)\ttotal: 34m 41s\tremaining: 48m 16s\n",
      "4190:\ttest: 0.9262129\ttest1: 0.9210029\tbest: 0.9210029 (4190)\ttotal: 34m 45s\tremaining: 48m 10s\n",
      "4200:\ttest: 0.9263151\ttest1: 0.9211045\tbest: 0.9211045 (4200)\ttotal: 34m 48s\tremaining: 48m 3s\n",
      "4210:\ttest: 0.9263993\ttest1: 0.9211805\tbest: 0.9211805 (4210)\ttotal: 34m 53s\tremaining: 47m 57s\n",
      "4220:\ttest: 0.9264991\ttest1: 0.9212702\tbest: 0.9212702 (4220)\ttotal: 34m 57s\tremaining: 47m 52s\n",
      "4230:\ttest: 0.9266171\ttest1: 0.9213831\tbest: 0.9213831 (4230)\ttotal: 35m 2s\tremaining: 47m 47s\n",
      "4240:\ttest: 0.9267770\ttest1: 0.9215424\tbest: 0.9215424 (4240)\ttotal: 35m 8s\tremaining: 47m 42s\n",
      "4250:\ttest: 0.9268343\ttest1: 0.9215972\tbest: 0.9215972 (4250)\ttotal: 35m 12s\tremaining: 47m 37s\n",
      "4260:\ttest: 0.9268830\ttest1: 0.9216475\tbest: 0.9216475 (4260)\ttotal: 35m 17s\tremaining: 47m 31s\n"
     ]
    },
    {
     "name": "stdout",
     "output_type": "stream",
     "text": [
      "4270:\ttest: 0.9269611\ttest1: 0.9217082\tbest: 0.9217082 (4270)\ttotal: 35m 21s\tremaining: 47m 25s\n",
      "4280:\ttest: 0.9270680\ttest1: 0.9218078\tbest: 0.9218078 (4280)\ttotal: 35m 26s\tremaining: 47m 20s\n",
      "4290:\ttest: 0.9271834\ttest1: 0.9219346\tbest: 0.9219346 (4290)\ttotal: 35m 31s\tremaining: 47m 15s\n",
      "4300:\ttest: 0.9273284\ttest1: 0.9220778\tbest: 0.9220778 (4300)\ttotal: 35m 36s\tremaining: 47m 11s\n",
      "4310:\ttest: 0.9274241\ttest1: 0.9221551\tbest: 0.9221563 (4308)\ttotal: 35m 41s\tremaining: 47m 6s\n",
      "4320:\ttest: 0.9275632\ttest1: 0.9222962\tbest: 0.9222962 (4320)\ttotal: 35m 46s\tremaining: 47m\n",
      "4330:\ttest: 0.9277658\ttest1: 0.9224840\tbest: 0.9224840 (4330)\ttotal: 35m 50s\tremaining: 46m 55s\n",
      "4340:\ttest: 0.9278798\ttest1: 0.9225905\tbest: 0.9225905 (4340)\ttotal: 35m 55s\tremaining: 46m 49s\n",
      "4350:\ttest: 0.9279606\ttest1: 0.9226576\tbest: 0.9226576 (4350)\ttotal: 35m 59s\tremaining: 46m 43s\n",
      "4360:\ttest: 0.9280376\ttest1: 0.9227259\tbest: 0.9227259 (4360)\ttotal: 36m 3s\tremaining: 46m 37s\n",
      "4370:\ttest: 0.9281778\ttest1: 0.9228711\tbest: 0.9228724 (4369)\ttotal: 36m 7s\tremaining: 46m 31s\n",
      "4380:\ttest: 0.9283256\ttest1: 0.9230110\tbest: 0.9230110 (4380)\ttotal: 36m 11s\tremaining: 46m 25s\n",
      "4390:\ttest: 0.9284621\ttest1: 0.9231305\tbest: 0.9231305 (4390)\ttotal: 36m 16s\tremaining: 46m 20s\n",
      "4400:\ttest: 0.9285551\ttest1: 0.9232209\tbest: 0.9232209 (4400)\ttotal: 36m 21s\tremaining: 46m 15s\n",
      "4410:\ttest: 0.9286882\ttest1: 0.9233512\tbest: 0.9233512 (4410)\ttotal: 36m 26s\tremaining: 46m 10s\n",
      "4420:\ttest: 0.9287789\ttest1: 0.9234406\tbest: 0.9234406 (4420)\ttotal: 36m 30s\tremaining: 46m 3s\n",
      "4430:\ttest: 0.9289211\ttest1: 0.9235732\tbest: 0.9235732 (4430)\ttotal: 36m 35s\tremaining: 45m 58s\n",
      "4440:\ttest: 0.9290206\ttest1: 0.9236679\tbest: 0.9236689 (4439)\ttotal: 36m 40s\tremaining: 45m 54s\n",
      "4450:\ttest: 0.9290921\ttest1: 0.9237420\tbest: 0.9237430 (4449)\ttotal: 36m 45s\tremaining: 45m 49s\n",
      "4460:\ttest: 0.9291730\ttest1: 0.9238135\tbest: 0.9238186 (4459)\ttotal: 36m 50s\tremaining: 45m 44s\n",
      "4470:\ttest: 0.9292754\ttest1: 0.9239069\tbest: 0.9239069 (4470)\ttotal: 36m 54s\tremaining: 45m 38s\n",
      "4480:\ttest: 0.9293323\ttest1: 0.9239628\tbest: 0.9239628 (4480)\ttotal: 36m 58s\tremaining: 45m 32s\n",
      "4490:\ttest: 0.9294472\ttest1: 0.9240689\tbest: 0.9240689 (4490)\ttotal: 37m 3s\tremaining: 45m 27s\n",
      "4500:\ttest: 0.9295534\ttest1: 0.9241710\tbest: 0.9241733 (4498)\ttotal: 37m 7s\tremaining: 45m 21s\n",
      "4510:\ttest: 0.9296504\ttest1: 0.9242699\tbest: 0.9242699 (4510)\ttotal: 37m 13s\tremaining: 45m 17s\n",
      "4520:\ttest: 0.9297509\ttest1: 0.9243747\tbest: 0.9243747 (4520)\ttotal: 37m 17s\tremaining: 45m 11s\n",
      "4530:\ttest: 0.9298508\ttest1: 0.9244751\tbest: 0.9244751 (4530)\ttotal: 37m 21s\tremaining: 45m 5s\n",
      "4540:\ttest: 0.9299535\ttest1: 0.9245835\tbest: 0.9245835 (4540)\ttotal: 37m 25s\tremaining: 44m 59s\n",
      "4550:\ttest: 0.9300361\ttest1: 0.9246679\tbest: 0.9246679 (4550)\ttotal: 37m 30s\tremaining: 44m 54s\n",
      "4560:\ttest: 0.9301993\ttest1: 0.9248328\tbest: 0.9248328 (4560)\ttotal: 37m 34s\tremaining: 44m 49s\n",
      "4570:\ttest: 0.9302593\ttest1: 0.9248841\tbest: 0.9248841 (4570)\ttotal: 37m 39s\tremaining: 44m 43s\n",
      "4580:\ttest: 0.9303468\ttest1: 0.9249817\tbest: 0.9249817 (4580)\ttotal: 37m 44s\tremaining: 44m 38s\n",
      "4590:\ttest: 0.9304670\ttest1: 0.9250906\tbest: 0.9250906 (4590)\ttotal: 37m 47s\tremaining: 44m 31s\n",
      "4600:\ttest: 0.9305418\ttest1: 0.9251557\tbest: 0.9251557 (4600)\ttotal: 37m 52s\tremaining: 44m 26s\n",
      "4610:\ttest: 0.9306656\ttest1: 0.9252758\tbest: 0.9252758 (4610)\ttotal: 37m 57s\tremaining: 44m 21s\n",
      "4620:\ttest: 0.9307445\ttest1: 0.9253497\tbest: 0.9253497 (4620)\ttotal: 38m 3s\tremaining: 44m 17s\n",
      "4630:\ttest: 0.9308752\ttest1: 0.9254844\tbest: 0.9254844 (4630)\ttotal: 38m 8s\tremaining: 44m 12s\n",
      "4640:\ttest: 0.9309578\ttest1: 0.9255737\tbest: 0.9255737 (4640)\ttotal: 38m 13s\tremaining: 44m 8s\n",
      "4650:\ttest: 0.9310308\ttest1: 0.9256461\tbest: 0.9256461 (4650)\ttotal: 38m 19s\tremaining: 44m 4s\n",
      "4660:\ttest: 0.9311123\ttest1: 0.9257377\tbest: 0.9257377 (4660)\ttotal: 38m 24s\tremaining: 43m 59s\n",
      "4670:\ttest: 0.9312276\ttest1: 0.9258454\tbest: 0.9258454 (4670)\ttotal: 38m 29s\tremaining: 43m 55s\n",
      "4680:\ttest: 0.9313164\ttest1: 0.9259294\tbest: 0.9259294 (4680)\ttotal: 38m 35s\tremaining: 43m 50s\n",
      "4690:\ttest: 0.9314141\ttest1: 0.9260103\tbest: 0.9260103 (4690)\ttotal: 38m 39s\tremaining: 43m 45s\n",
      "4700:\ttest: 0.9315584\ttest1: 0.9261462\tbest: 0.9261462 (4700)\ttotal: 38m 43s\tremaining: 43m 39s\n",
      "4710:\ttest: 0.9316837\ttest1: 0.9262699\tbest: 0.9262699 (4710)\ttotal: 38m 47s\tremaining: 43m 33s\n",
      "4720:\ttest: 0.9317713\ttest1: 0.9263469\tbest: 0.9263469 (4720)\ttotal: 38m 52s\tremaining: 43m 28s\n",
      "4730:\ttest: 0.9318851\ttest1: 0.9264759\tbest: 0.9264759 (4730)\ttotal: 38m 57s\tremaining: 43m 23s\n",
      "4740:\ttest: 0.9319709\ttest1: 0.9265561\tbest: 0.9265561 (4740)\ttotal: 39m 2s\tremaining: 43m 18s\n",
      "4750:\ttest: 0.9321103\ttest1: 0.9266972\tbest: 0.9266972 (4750)\ttotal: 39m 7s\tremaining: 43m 13s\n",
      "4760:\ttest: 0.9322313\ttest1: 0.9268242\tbest: 0.9268242 (4760)\ttotal: 39m 12s\tremaining: 43m 8s\n",
      "4770:\ttest: 0.9323756\ttest1: 0.9269803\tbest: 0.9269803 (4770)\ttotal: 39m 17s\tremaining: 43m 3s\n",
      "4780:\ttest: 0.9324546\ttest1: 0.9270437\tbest: 0.9270437 (4780)\ttotal: 39m 22s\tremaining: 42m 58s\n",
      "4790:\ttest: 0.9325825\ttest1: 0.9271497\tbest: 0.9271497 (4790)\ttotal: 39m 27s\tremaining: 42m 53s\n",
      "4800:\ttest: 0.9326413\ttest1: 0.9272111\tbest: 0.9272111 (4800)\ttotal: 39m 31s\tremaining: 42m 48s\n",
      "4810:\ttest: 0.9327457\ttest1: 0.9273068\tbest: 0.9273085 (4808)\ttotal: 39m 36s\tremaining: 42m 42s\n",
      "4820:\ttest: 0.9328236\ttest1: 0.9273865\tbest: 0.9273865 (4820)\ttotal: 39m 41s\tremaining: 42m 37s\n",
      "4830:\ttest: 0.9329235\ttest1: 0.9274670\tbest: 0.9274670 (4830)\ttotal: 39m 45s\tremaining: 42m 32s\n",
      "4840:\ttest: 0.9330032\ttest1: 0.9275496\tbest: 0.9275496 (4840)\ttotal: 39m 51s\tremaining: 42m 28s\n",
      "4850:\ttest: 0.9331027\ttest1: 0.9276479\tbest: 0.9276479 (4850)\ttotal: 39m 56s\tremaining: 42m 23s\n",
      "4860:\ttest: 0.9332057\ttest1: 0.9277437\tbest: 0.9277437 (4860)\ttotal: 40m 1s\tremaining: 42m 18s\n",
      "4870:\ttest: 0.9332756\ttest1: 0.9278155\tbest: 0.9278155 (4870)\ttotal: 40m 6s\tremaining: 42m 13s\n",
      "4880:\ttest: 0.9333352\ttest1: 0.9278843\tbest: 0.9278843 (4880)\ttotal: 40m 11s\tremaining: 42m 8s\n",
      "4890:\ttest: 0.9334504\ttest1: 0.9279849\tbest: 0.9279849 (4890)\ttotal: 40m 16s\tremaining: 42m 3s\n",
      "4900:\ttest: 0.9335489\ttest1: 0.9280731\tbest: 0.9280731 (4900)\ttotal: 40m 20s\tremaining: 41m 58s\n",
      "4910:\ttest: 0.9336611\ttest1: 0.9281761\tbest: 0.9281761 (4910)\ttotal: 40m 26s\tremaining: 41m 54s\n",
      "4920:\ttest: 0.9337901\ttest1: 0.9283059\tbest: 0.9283059 (4920)\ttotal: 40m 31s\tremaining: 41m 49s\n",
      "4930:\ttest: 0.9339102\ttest1: 0.9284246\tbest: 0.9284246 (4930)\ttotal: 40m 36s\tremaining: 41m 44s\n",
      "4940:\ttest: 0.9339853\ttest1: 0.9284991\tbest: 0.9284991 (4940)\ttotal: 40m 41s\tremaining: 41m 40s\n",
      "4950:\ttest: 0.9340992\ttest1: 0.9286170\tbest: 0.9286170 (4950)\ttotal: 40m 45s\tremaining: 41m 34s\n",
      "4960:\ttest: 0.9341805\ttest1: 0.9286985\tbest: 0.9286985 (4960)\ttotal: 40m 51s\tremaining: 41m 29s\n",
      "4970:\ttest: 0.9342946\ttest1: 0.9288126\tbest: 0.9288126 (4970)\ttotal: 40m 56s\tremaining: 41m 24s\n",
      "4980:\ttest: 0.9343775\ttest1: 0.9289009\tbest: 0.9289009 (4980)\ttotal: 41m\tremaining: 41m 19s\n",
      "4990:\ttest: 0.9344316\ttest1: 0.9289653\tbest: 0.9289653 (4990)\ttotal: 41m 5s\tremaining: 41m 14s\n",
      "5000:\ttest: 0.9345033\ttest1: 0.9290287\tbest: 0.9290287 (5000)\ttotal: 41m 9s\tremaining: 41m 8s\n",
      "5010:\ttest: 0.9346062\ttest1: 0.9291222\tbest: 0.9291222 (5010)\ttotal: 41m 13s\tremaining: 41m 3s\n",
      "5020:\ttest: 0.9346889\ttest1: 0.9292017\tbest: 0.9292017 (5020)\ttotal: 41m 19s\tremaining: 40m 58s\n",
      "5030:\ttest: 0.9348115\ttest1: 0.9293111\tbest: 0.9293111 (5030)\ttotal: 41m 24s\tremaining: 40m 53s\n",
      "5040:\ttest: 0.9348914\ttest1: 0.9293825\tbest: 0.9293825 (5040)\ttotal: 41m 29s\tremaining: 40m 48s\n",
      "5050:\ttest: 0.9350167\ttest1: 0.9295101\tbest: 0.9295101 (5050)\ttotal: 41m 34s\tremaining: 40m 44s\n",
      "5060:\ttest: 0.9351071\ttest1: 0.9296063\tbest: 0.9296063 (5060)\ttotal: 41m 38s\tremaining: 40m 38s\n",
      "5070:\ttest: 0.9352114\ttest1: 0.9297096\tbest: 0.9297096 (5070)\ttotal: 41m 42s\tremaining: 40m 32s\n",
      "5080:\ttest: 0.9352785\ttest1: 0.9297814\tbest: 0.9297814 (5080)\ttotal: 41m 46s\tremaining: 40m 27s\n",
      "5090:\ttest: 0.9353957\ttest1: 0.9298892\tbest: 0.9298892 (5090)\ttotal: 41m 51s\tremaining: 40m 21s\n",
      "5100:\ttest: 0.9354782\ttest1: 0.9299674\tbest: 0.9299674 (5100)\ttotal: 41m 55s\tremaining: 40m 16s\n",
      "5110:\ttest: 0.9355487\ttest1: 0.9300333\tbest: 0.9300333 (5110)\ttotal: 42m 1s\tremaining: 40m 11s\n",
      "5120:\ttest: 0.9356212\ttest1: 0.9301053\tbest: 0.9301053 (5120)\ttotal: 42m 6s\tremaining: 40m 7s\n"
     ]
    },
    {
     "name": "stdout",
     "output_type": "stream",
     "text": [
      "5130:\ttest: 0.9356978\ttest1: 0.9301749\tbest: 0.9301749 (5130)\ttotal: 42m 12s\tremaining: 40m 3s\n",
      "5140:\ttest: 0.9358527\ttest1: 0.9303266\tbest: 0.9303266 (5140)\ttotal: 42m 18s\tremaining: 39m 59s\n",
      "5150:\ttest: 0.9359335\ttest1: 0.9304068\tbest: 0.9304068 (5150)\ttotal: 42m 23s\tremaining: 39m 54s\n",
      "5160:\ttest: 0.9360496\ttest1: 0.9305112\tbest: 0.9305112 (5160)\ttotal: 42m 28s\tremaining: 39m 49s\n",
      "5170:\ttest: 0.9361555\ttest1: 0.9306112\tbest: 0.9306112 (5170)\ttotal: 42m 32s\tremaining: 39m 44s\n",
      "5180:\ttest: 0.9362571\ttest1: 0.9307061\tbest: 0.9307061 (5180)\ttotal: 42m 36s\tremaining: 39m 38s\n",
      "5190:\ttest: 0.9363281\ttest1: 0.9307831\tbest: 0.9307831 (5190)\ttotal: 42m 42s\tremaining: 39m 33s\n",
      "5200:\ttest: 0.9363925\ttest1: 0.9308453\tbest: 0.9308453 (5200)\ttotal: 42m 47s\tremaining: 39m 28s\n",
      "5210:\ttest: 0.9364563\ttest1: 0.9309065\tbest: 0.9309065 (5210)\ttotal: 42m 52s\tremaining: 39m 23s\n",
      "5220:\ttest: 0.9365484\ttest1: 0.9309995\tbest: 0.9309995 (5220)\ttotal: 42m 56s\tremaining: 39m 18s\n",
      "5230:\ttest: 0.9366624\ttest1: 0.9311097\tbest: 0.9311097 (5230)\ttotal: 43m 1s\tremaining: 39m 13s\n",
      "5240:\ttest: 0.9367822\ttest1: 0.9312205\tbest: 0.9312205 (5240)\ttotal: 43m 6s\tremaining: 39m 9s\n",
      "5250:\ttest: 0.9368973\ttest1: 0.9313252\tbest: 0.9313252 (5250)\ttotal: 43m 12s\tremaining: 39m 4s\n",
      "5260:\ttest: 0.9369867\ttest1: 0.9314095\tbest: 0.9314095 (5260)\ttotal: 43m 17s\tremaining: 38m 59s\n",
      "5270:\ttest: 0.9370480\ttest1: 0.9314748\tbest: 0.9314748 (5270)\ttotal: 43m 21s\tremaining: 38m 54s\n",
      "5280:\ttest: 0.9371154\ttest1: 0.9315400\tbest: 0.9315400 (5280)\ttotal: 43m 25s\tremaining: 38m 48s\n",
      "5290:\ttest: 0.9372409\ttest1: 0.9316597\tbest: 0.9316597 (5290)\ttotal: 43m 30s\tremaining: 38m 43s\n",
      "5300:\ttest: 0.9373119\ttest1: 0.9317226\tbest: 0.9317226 (5300)\ttotal: 43m 34s\tremaining: 38m 37s\n",
      "5310:\ttest: 0.9374103\ttest1: 0.9318137\tbest: 0.9318137 (5310)\ttotal: 43m 39s\tremaining: 38m 33s\n",
      "5320:\ttest: 0.9374615\ttest1: 0.9318689\tbest: 0.9318689 (5320)\ttotal: 43m 44s\tremaining: 38m 27s\n",
      "5330:\ttest: 0.9375514\ttest1: 0.9319612\tbest: 0.9319622 (5329)\ttotal: 43m 49s\tremaining: 38m 23s\n",
      "5340:\ttest: 0.9376206\ttest1: 0.9320317\tbest: 0.9320317 (5340)\ttotal: 43m 54s\tremaining: 38m 18s\n",
      "5350:\ttest: 0.9377470\ttest1: 0.9321322\tbest: 0.9321322 (5350)\ttotal: 43m 59s\tremaining: 38m 13s\n",
      "5360:\ttest: 0.9378509\ttest1: 0.9322319\tbest: 0.9322319 (5360)\ttotal: 44m 5s\tremaining: 38m 8s\n",
      "5370:\ttest: 0.9378984\ttest1: 0.9322782\tbest: 0.9322807 (5368)\ttotal: 44m 8s\tremaining: 38m 2s\n",
      "5380:\ttest: 0.9380275\ttest1: 0.9324155\tbest: 0.9324155 (5380)\ttotal: 44m 13s\tremaining: 37m 57s\n",
      "5390:\ttest: 0.9381279\ttest1: 0.9325142\tbest: 0.9325142 (5390)\ttotal: 44m 17s\tremaining: 37m 52s\n",
      "5400:\ttest: 0.9381983\ttest1: 0.9325790\tbest: 0.9325790 (5400)\ttotal: 44m 22s\tremaining: 37m 47s\n",
      "5410:\ttest: 0.9383038\ttest1: 0.9327000\tbest: 0.9327000 (5410)\ttotal: 44m 26s\tremaining: 37m 41s\n",
      "5420:\ttest: 0.9383771\ttest1: 0.9327805\tbest: 0.9327807 (5419)\ttotal: 44m 31s\tremaining: 37m 36s\n",
      "5430:\ttest: 0.9384465\ttest1: 0.9328521\tbest: 0.9328521 (5430)\ttotal: 44m 36s\tremaining: 37m 31s\n",
      "5440:\ttest: 0.9385268\ttest1: 0.9329301\tbest: 0.9329301 (5440)\ttotal: 44m 41s\tremaining: 37m 27s\n",
      "5450:\ttest: 0.9385937\ttest1: 0.9329965\tbest: 0.9329965 (5450)\ttotal: 44m 47s\tremaining: 37m 22s\n",
      "5460:\ttest: 0.9386647\ttest1: 0.9330577\tbest: 0.9330577 (5460)\ttotal: 44m 51s\tremaining: 37m 17s\n",
      "5470:\ttest: 0.9387506\ttest1: 0.9331350\tbest: 0.9331350 (5470)\ttotal: 44m 56s\tremaining: 37m 12s\n",
      "5480:\ttest: 0.9388314\ttest1: 0.9332156\tbest: 0.9332156 (5480)\ttotal: 45m 1s\tremaining: 37m 7s\n",
      "5490:\ttest: 0.9388941\ttest1: 0.9332770\tbest: 0.9332770 (5490)\ttotal: 45m 6s\tremaining: 37m 2s\n",
      "5500:\ttest: 0.9389575\ttest1: 0.9333428\tbest: 0.9333428 (5500)\ttotal: 45m 11s\tremaining: 36m 57s\n",
      "5510:\ttest: 0.9390085\ttest1: 0.9333894\tbest: 0.9333894 (5510)\ttotal: 45m 17s\tremaining: 36m 53s\n",
      "5520:\ttest: 0.9390741\ttest1: 0.9334480\tbest: 0.9334480 (5520)\ttotal: 45m 22s\tremaining: 36m 48s\n",
      "5530:\ttest: 0.9391285\ttest1: 0.9335006\tbest: 0.9335017 (5529)\ttotal: 45m 27s\tremaining: 36m 43s\n",
      "5540:\ttest: 0.9392064\ttest1: 0.9335688\tbest: 0.9335688 (5540)\ttotal: 45m 32s\tremaining: 36m 38s\n",
      "5550:\ttest: 0.9392822\ttest1: 0.9336418\tbest: 0.9336418 (5550)\ttotal: 45m 37s\tremaining: 36m 34s\n",
      "5560:\ttest: 0.9393577\ttest1: 0.9337134\tbest: 0.9337134 (5560)\ttotal: 45m 42s\tremaining: 36m 28s\n",
      "5570:\ttest: 0.9394257\ttest1: 0.9337708\tbest: 0.9337708 (5570)\ttotal: 45m 47s\tremaining: 36m 24s\n",
      "5580:\ttest: 0.9395360\ttest1: 0.9338772\tbest: 0.9338772 (5580)\ttotal: 45m 52s\tremaining: 36m 19s\n",
      "5590:\ttest: 0.9396583\ttest1: 0.9339935\tbest: 0.9339935 (5590)\ttotal: 45m 57s\tremaining: 36m 14s\n",
      "5600:\ttest: 0.9397228\ttest1: 0.9340587\tbest: 0.9340587 (5600)\ttotal: 46m 3s\tremaining: 36m 10s\n",
      "5610:\ttest: 0.9397766\ttest1: 0.9341053\tbest: 0.9341053 (5610)\ttotal: 46m 8s\tremaining: 36m 5s\n",
      "5620:\ttest: 0.9398793\ttest1: 0.9342050\tbest: 0.9342050 (5620)\ttotal: 46m 14s\tremaining: 36m 1s\n",
      "5630:\ttest: 0.9399566\ttest1: 0.9342899\tbest: 0.9342899 (5630)\ttotal: 46m 18s\tremaining: 35m 55s\n",
      "5640:\ttest: 0.9400453\ttest1: 0.9343734\tbest: 0.9343734 (5640)\ttotal: 46m 23s\tremaining: 35m 50s\n",
      "5650:\ttest: 0.9401365\ttest1: 0.9344561\tbest: 0.9344561 (5650)\ttotal: 46m 28s\tremaining: 35m 45s\n",
      "5660:\ttest: 0.9402209\ttest1: 0.9345304\tbest: 0.9345304 (5660)\ttotal: 46m 32s\tremaining: 35m 40s\n",
      "5670:\ttest: 0.9403153\ttest1: 0.9346178\tbest: 0.9346178 (5670)\ttotal: 46m 37s\tremaining: 35m 35s\n",
      "5680:\ttest: 0.9404070\ttest1: 0.9347058\tbest: 0.9347058 (5680)\ttotal: 46m 42s\tremaining: 35m 30s\n",
      "5690:\ttest: 0.9404943\ttest1: 0.9347848\tbest: 0.9347848 (5690)\ttotal: 46m 46s\tremaining: 35m 24s\n",
      "5700:\ttest: 0.9405527\ttest1: 0.9348358\tbest: 0.9348358 (5700)\ttotal: 46m 50s\tremaining: 35m 19s\n",
      "5710:\ttest: 0.9406274\ttest1: 0.9349076\tbest: 0.9349076 (5710)\ttotal: 46m 55s\tremaining: 35m 14s\n",
      "5720:\ttest: 0.9407033\ttest1: 0.9349776\tbest: 0.9349776 (5720)\ttotal: 47m 1s\tremaining: 35m 10s\n",
      "5730:\ttest: 0.9407930\ttest1: 0.9350705\tbest: 0.9350705 (5730)\ttotal: 47m 7s\tremaining: 35m 5s\n",
      "5740:\ttest: 0.9408617\ttest1: 0.9351440\tbest: 0.9351440 (5740)\ttotal: 47m 11s\tremaining: 35m\n",
      "5750:\ttest: 0.9409081\ttest1: 0.9351861\tbest: 0.9351861 (5750)\ttotal: 47m 17s\tremaining: 34m 56s\n",
      "5760:\ttest: 0.9409848\ttest1: 0.9352491\tbest: 0.9352491 (5760)\ttotal: 47m 21s\tremaining: 34m 51s\n",
      "5770:\ttest: 0.9410540\ttest1: 0.9353219\tbest: 0.9353219 (5770)\ttotal: 47m 27s\tremaining: 34m 46s\n",
      "5780:\ttest: 0.9411336\ttest1: 0.9353984\tbest: 0.9353984 (5780)\ttotal: 47m 32s\tremaining: 34m 41s\n",
      "5790:\ttest: 0.9411550\ttest1: 0.9354302\tbest: 0.9354303 (5789)\ttotal: 47m 36s\tremaining: 34m 36s\n",
      "5800:\ttest: 0.9412060\ttest1: 0.9354862\tbest: 0.9354862 (5800)\ttotal: 47m 41s\tremaining: 34m 31s\n",
      "5810:\ttest: 0.9412472\ttest1: 0.9355303\tbest: 0.9355303 (5810)\ttotal: 47m 46s\tremaining: 34m 26s\n",
      "5820:\ttest: 0.9412767\ttest1: 0.9355572\tbest: 0.9355572 (5820)\ttotal: 47m 50s\tremaining: 34m 20s\n",
      "5830:\ttest: 0.9413212\ttest1: 0.9356045\tbest: 0.9356045 (5830)\ttotal: 47m 55s\tremaining: 34m 15s\n",
      "5840:\ttest: 0.9413366\ttest1: 0.9356227\tbest: 0.9356227 (5840)\ttotal: 48m\tremaining: 34m 10s\n",
      "5850:\ttest: 0.9414032\ttest1: 0.9356885\tbest: 0.9356885 (5850)\ttotal: 48m 5s\tremaining: 34m 5s\n",
      "5860:\ttest: 0.9414160\ttest1: 0.9356993\tbest: 0.9356997 (5858)\ttotal: 48m 9s\tremaining: 34m\n",
      "5870:\ttest: 0.9414421\ttest1: 0.9357237\tbest: 0.9357237 (5870)\ttotal: 48m 13s\tremaining: 33m 55s\n",
      "5880:\ttest: 0.9414935\ttest1: 0.9357728\tbest: 0.9357728 (5880)\ttotal: 48m 18s\tremaining: 33m 50s\n",
      "5890:\ttest: 0.9415379\ttest1: 0.9358158\tbest: 0.9358158 (5890)\ttotal: 48m 24s\tremaining: 33m 45s\n",
      "5900:\ttest: 0.9415993\ttest1: 0.9358739\tbest: 0.9358739 (5900)\ttotal: 48m 28s\tremaining: 33m 40s\n",
      "5910:\ttest: 0.9416761\ttest1: 0.9359568\tbest: 0.9359568 (5910)\ttotal: 48m 34s\tremaining: 33m 36s\n",
      "5920:\ttest: 0.9417733\ttest1: 0.9360527\tbest: 0.9360527 (5920)\ttotal: 48m 39s\tremaining: 33m 31s\n",
      "5930:\ttest: 0.9418491\ttest1: 0.9361131\tbest: 0.9361131 (5930)\ttotal: 48m 44s\tremaining: 33m 26s\n",
      "5940:\ttest: 0.9419459\ttest1: 0.9361963\tbest: 0.9361963 (5940)\ttotal: 48m 49s\tremaining: 33m 21s\n",
      "5950:\ttest: 0.9419943\ttest1: 0.9362440\tbest: 0.9362440 (5950)\ttotal: 48m 54s\tremaining: 33m 16s\n",
      "5960:\ttest: 0.9420397\ttest1: 0.9362796\tbest: 0.9362892 (5958)\ttotal: 48m 59s\tremaining: 33m 11s\n",
      "5970:\ttest: 0.9421164\ttest1: 0.9363543\tbest: 0.9363543 (5970)\ttotal: 49m 3s\tremaining: 33m 6s\n",
      "5980:\ttest: 0.9421853\ttest1: 0.9364301\tbest: 0.9364301 (5980)\ttotal: 49m 8s\tremaining: 33m 1s\n"
     ]
    },
    {
     "name": "stdout",
     "output_type": "stream",
     "text": [
      "5990:\ttest: 0.9422552\ttest1: 0.9365069\tbest: 0.9365069 (5990)\ttotal: 49m 13s\tremaining: 32m 56s\n",
      "6000:\ttest: 0.9423336\ttest1: 0.9365753\tbest: 0.9365753 (6000)\ttotal: 49m 17s\tremaining: 32m 50s\n",
      "6010:\ttest: 0.9424032\ttest1: 0.9366365\tbest: 0.9366365 (6010)\ttotal: 49m 22s\tremaining: 32m 45s\n",
      "6020:\ttest: 0.9424983\ttest1: 0.9367126\tbest: 0.9367126 (6020)\ttotal: 49m 27s\tremaining: 32m 41s\n",
      "6030:\ttest: 0.9425812\ttest1: 0.9367994\tbest: 0.9367994 (6030)\ttotal: 49m 31s\tremaining: 32m 35s\n",
      "6040:\ttest: 0.9426714\ttest1: 0.9368768\tbest: 0.9368768 (6040)\ttotal: 49m 36s\tremaining: 32m 30s\n",
      "6050:\ttest: 0.9427216\ttest1: 0.9369318\tbest: 0.9369318 (6050)\ttotal: 49m 40s\tremaining: 32m 24s\n",
      "6060:\ttest: 0.9427758\ttest1: 0.9369880\tbest: 0.9369882 (6059)\ttotal: 49m 44s\tremaining: 32m 19s\n",
      "6070:\ttest: 0.9428821\ttest1: 0.9370891\tbest: 0.9370891 (6070)\ttotal: 49m 48s\tremaining: 32m 14s\n",
      "6080:\ttest: 0.9430156\ttest1: 0.9372187\tbest: 0.9372187 (6080)\ttotal: 49m 53s\tremaining: 32m 8s\n",
      "6090:\ttest: 0.9430858\ttest1: 0.9372955\tbest: 0.9372955 (6090)\ttotal: 49m 58s\tremaining: 32m 4s\n",
      "6100:\ttest: 0.9431495\ttest1: 0.9373461\tbest: 0.9373461 (6100)\ttotal: 50m 3s\tremaining: 31m 59s\n",
      "6110:\ttest: 0.9431993\ttest1: 0.9373951\tbest: 0.9373951 (6110)\ttotal: 50m 6s\tremaining: 31m 53s\n",
      "6120:\ttest: 0.9432398\ttest1: 0.9374342\tbest: 0.9374345 (6119)\ttotal: 50m 10s\tremaining: 31m 48s\n",
      "6130:\ttest: 0.9432826\ttest1: 0.9374678\tbest: 0.9374678 (6130)\ttotal: 50m 14s\tremaining: 31m 42s\n",
      "6140:\ttest: 0.9433420\ttest1: 0.9375252\tbest: 0.9375252 (6140)\ttotal: 50m 19s\tremaining: 31m 37s\n",
      "6150:\ttest: 0.9434087\ttest1: 0.9375852\tbest: 0.9375852 (6150)\ttotal: 50m 23s\tremaining: 31m 32s\n",
      "6160:\ttest: 0.9435029\ttest1: 0.9376768\tbest: 0.9376768 (6160)\ttotal: 50m 27s\tremaining: 31m 26s\n",
      "6170:\ttest: 0.9435616\ttest1: 0.9377322\tbest: 0.9377322 (6170)\ttotal: 50m 33s\tremaining: 31m 22s\n",
      "6180:\ttest: 0.9435971\ttest1: 0.9377718\tbest: 0.9377718 (6180)\ttotal: 50m 38s\tremaining: 31m 17s\n",
      "6190:\ttest: 0.9436421\ttest1: 0.9378128\tbest: 0.9378128 (6190)\ttotal: 50m 42s\tremaining: 31m 12s\n",
      "6200:\ttest: 0.9437063\ttest1: 0.9378662\tbest: 0.9378662 (6200)\ttotal: 50m 46s\tremaining: 31m 6s\n",
      "6210:\ttest: 0.9437653\ttest1: 0.9379163\tbest: 0.9379163 (6210)\ttotal: 50m 51s\tremaining: 31m 1s\n",
      "6220:\ttest: 0.9438170\ttest1: 0.9379735\tbest: 0.9379735 (6220)\ttotal: 50m 55s\tremaining: 30m 56s\n",
      "6230:\ttest: 0.9438889\ttest1: 0.9380350\tbest: 0.9380350 (6230)\ttotal: 51m\tremaining: 30m 51s\n",
      "6240:\ttest: 0.9439684\ttest1: 0.9381045\tbest: 0.9381045 (6240)\ttotal: 51m 4s\tremaining: 30m 45s\n",
      "6250:\ttest: 0.9440284\ttest1: 0.9381523\tbest: 0.9381523 (6250)\ttotal: 51m 9s\tremaining: 30m 40s\n",
      "6260:\ttest: 0.9440876\ttest1: 0.9382023\tbest: 0.9382028 (6259)\ttotal: 51m 14s\tremaining: 30m 36s\n",
      "6270:\ttest: 0.9441531\ttest1: 0.9382772\tbest: 0.9382772 (6270)\ttotal: 51m 18s\tremaining: 30m 30s\n",
      "6280:\ttest: 0.9442063\ttest1: 0.9383310\tbest: 0.9383310 (6280)\ttotal: 51m 23s\tremaining: 30m 25s\n",
      "6290:\ttest: 0.9442720\ttest1: 0.9384015\tbest: 0.9384018 (6289)\ttotal: 51m 28s\tremaining: 30m 21s\n",
      "6300:\ttest: 0.9443211\ttest1: 0.9384523\tbest: 0.9384523 (6300)\ttotal: 51m 32s\tremaining: 30m 15s\n",
      "6310:\ttest: 0.9443881\ttest1: 0.9385181\tbest: 0.9385181 (6310)\ttotal: 51m 37s\tremaining: 30m 10s\n",
      "6320:\ttest: 0.9444521\ttest1: 0.9385809\tbest: 0.9385809 (6320)\ttotal: 51m 43s\tremaining: 30m 6s\n",
      "6330:\ttest: 0.9445050\ttest1: 0.9386357\tbest: 0.9386357 (6330)\ttotal: 51m 48s\tremaining: 30m 1s\n",
      "6340:\ttest: 0.9445686\ttest1: 0.9386893\tbest: 0.9386893 (6340)\ttotal: 51m 54s\tremaining: 29m 56s\n",
      "6350:\ttest: 0.9446495\ttest1: 0.9387775\tbest: 0.9387775 (6350)\ttotal: 51m 58s\tremaining: 29m 51s\n",
      "6360:\ttest: 0.9447110\ttest1: 0.9388433\tbest: 0.9388433 (6360)\ttotal: 52m 3s\tremaining: 29m 47s\n",
      "6370:\ttest: 0.9447714\ttest1: 0.9388993\tbest: 0.9388993 (6370)\ttotal: 52m 8s\tremaining: 29m 42s\n",
      "6380:\ttest: 0.9448445\ttest1: 0.9389717\tbest: 0.9389717 (6380)\ttotal: 52m 13s\tremaining: 29m 37s\n",
      "6390:\ttest: 0.9448915\ttest1: 0.9390210\tbest: 0.9390210 (6390)\ttotal: 52m 18s\tremaining: 29m 32s\n",
      "6400:\ttest: 0.9449436\ttest1: 0.9390795\tbest: 0.9390795 (6400)\ttotal: 52m 23s\tremaining: 29m 27s\n",
      "6410:\ttest: 0.9450159\ttest1: 0.9391494\tbest: 0.9391494 (6410)\ttotal: 52m 28s\tremaining: 29m 22s\n",
      "6420:\ttest: 0.9450618\ttest1: 0.9391922\tbest: 0.9391922 (6420)\ttotal: 52m 32s\tremaining: 29m 17s\n",
      "6430:\ttest: 0.9451386\ttest1: 0.9392693\tbest: 0.9392693 (6430)\ttotal: 52m 37s\tremaining: 29m 12s\n",
      "6440:\ttest: 0.9451985\ttest1: 0.9393315\tbest: 0.9393315 (6440)\ttotal: 52m 41s\tremaining: 29m 7s\n",
      "6450:\ttest: 0.9452554\ttest1: 0.9393775\tbest: 0.9393813 (6449)\ttotal: 52m 47s\tremaining: 29m 2s\n",
      "6460:\ttest: 0.9453089\ttest1: 0.9394237\tbest: 0.9394237 (6460)\ttotal: 52m 52s\tremaining: 28m 57s\n",
      "6470:\ttest: 0.9453637\ttest1: 0.9394663\tbest: 0.9394663 (6470)\ttotal: 52m 57s\tremaining: 28m 52s\n",
      "6480:\ttest: 0.9454057\ttest1: 0.9395030\tbest: 0.9395030 (6480)\ttotal: 53m 2s\tremaining: 28m 48s\n",
      "6490:\ttest: 0.9454774\ttest1: 0.9395669\tbest: 0.9395669 (6490)\ttotal: 53m 7s\tremaining: 28m 43s\n",
      "6500:\ttest: 0.9455365\ttest1: 0.9396303\tbest: 0.9396303 (6500)\ttotal: 53m 11s\tremaining: 28m 37s\n",
      "6510:\ttest: 0.9455960\ttest1: 0.9396883\tbest: 0.9396883 (6510)\ttotal: 53m 16s\tremaining: 28m 32s\n",
      "6520:\ttest: 0.9456840\ttest1: 0.9397660\tbest: 0.9397660 (6520)\ttotal: 53m 21s\tremaining: 28m 28s\n",
      "6530:\ttest: 0.9457519\ttest1: 0.9398239\tbest: 0.9398239 (6530)\ttotal: 53m 25s\tremaining: 28m 22s\n",
      "6540:\ttest: 0.9458263\ttest1: 0.9399035\tbest: 0.9399035 (6540)\ttotal: 53m 30s\tremaining: 28m 17s\n",
      "6550:\ttest: 0.9458889\ttest1: 0.9399611\tbest: 0.9399611 (6550)\ttotal: 53m 35s\tremaining: 28m 13s\n",
      "6560:\ttest: 0.9459722\ttest1: 0.9400382\tbest: 0.9400382 (6560)\ttotal: 53m 40s\tremaining: 28m 7s\n",
      "6570:\ttest: 0.9460378\ttest1: 0.9400963\tbest: 0.9400963 (6570)\ttotal: 53m 45s\tremaining: 28m 3s\n",
      "6580:\ttest: 0.9461171\ttest1: 0.9401817\tbest: 0.9401817 (6580)\ttotal: 53m 50s\tremaining: 27m 58s\n",
      "6590:\ttest: 0.9461891\ttest1: 0.9402567\tbest: 0.9402567 (6590)\ttotal: 53m 55s\tremaining: 27m 53s\n",
      "6600:\ttest: 0.9462345\ttest1: 0.9403047\tbest: 0.9403047 (6600)\ttotal: 54m\tremaining: 27m 48s\n",
      "6610:\ttest: 0.9463001\ttest1: 0.9403845\tbest: 0.9403845 (6610)\ttotal: 54m 4s\tremaining: 27m 43s\n",
      "6620:\ttest: 0.9463342\ttest1: 0.9404158\tbest: 0.9404162 (6619)\ttotal: 54m 9s\tremaining: 27m 38s\n",
      "6630:\ttest: 0.9463780\ttest1: 0.9404681\tbest: 0.9404681 (6630)\ttotal: 54m 15s\tremaining: 27m 33s\n",
      "6640:\ttest: 0.9464167\ttest1: 0.9405038\tbest: 0.9405038 (6640)\ttotal: 54m 19s\tremaining: 27m 28s\n",
      "6650:\ttest: 0.9464464\ttest1: 0.9405269\tbest: 0.9405269 (6650)\ttotal: 54m 23s\tremaining: 27m 23s\n",
      "6660:\ttest: 0.9464935\ttest1: 0.9405731\tbest: 0.9405731 (6660)\ttotal: 54m 28s\tremaining: 27m 18s\n",
      "6670:\ttest: 0.9465347\ttest1: 0.9406148\tbest: 0.9406148 (6670)\ttotal: 54m 32s\tremaining: 27m 13s\n",
      "6680:\ttest: 0.9465479\ttest1: 0.9406287\tbest: 0.9406287 (6680)\ttotal: 54m 36s\tremaining: 27m 7s\n",
      "6690:\ttest: 0.9466213\ttest1: 0.9407011\tbest: 0.9407011 (6690)\ttotal: 54m 41s\tremaining: 27m 3s\n",
      "6700:\ttest: 0.9466780\ttest1: 0.9407582\tbest: 0.9407582 (6700)\ttotal: 54m 45s\tremaining: 26m 57s\n",
      "6710:\ttest: 0.9467250\ttest1: 0.9407996\tbest: 0.9407996 (6710)\ttotal: 54m 50s\tremaining: 26m 52s\n",
      "6720:\ttest: 0.9467751\ttest1: 0.9408422\tbest: 0.9408422 (6720)\ttotal: 54m 56s\tremaining: 26m 48s\n",
      "6730:\ttest: 0.9468418\ttest1: 0.9409071\tbest: 0.9409071 (6730)\ttotal: 55m\tremaining: 26m 42s\n",
      "6740:\ttest: 0.9468903\ttest1: 0.9409513\tbest: 0.9409513 (6740)\ttotal: 55m 4s\tremaining: 26m 37s\n",
      "6750:\ttest: 0.9469355\ttest1: 0.9409935\tbest: 0.9409935 (6750)\ttotal: 55m 8s\tremaining: 26m 32s\n",
      "6760:\ttest: 0.9470303\ttest1: 0.9410916\tbest: 0.9410916 (6760)\ttotal: 55m 13s\tremaining: 26m 27s\n",
      "6770:\ttest: 0.9470736\ttest1: 0.9411321\tbest: 0.9411321 (6770)\ttotal: 55m 19s\tremaining: 26m 22s\n",
      "6780:\ttest: 0.9471618\ttest1: 0.9411949\tbest: 0.9411949 (6780)\ttotal: 55m 23s\tremaining: 26m 17s\n",
      "6790:\ttest: 0.9472328\ttest1: 0.9412475\tbest: 0.9412475 (6790)\ttotal: 55m 29s\tremaining: 26m 13s\n",
      "6800:\ttest: 0.9472974\ttest1: 0.9412954\tbest: 0.9412954 (6800)\ttotal: 55m 32s\tremaining: 26m 7s\n",
      "6810:\ttest: 0.9473547\ttest1: 0.9413400\tbest: 0.9413400 (6810)\ttotal: 55m 37s\tremaining: 26m 2s\n",
      "6820:\ttest: 0.9474363\ttest1: 0.9414044\tbest: 0.9414044 (6820)\ttotal: 55m 41s\tremaining: 25m 57s\n",
      "6830:\ttest: 0.9474848\ttest1: 0.9414568\tbest: 0.9414568 (6830)\ttotal: 55m 45s\tremaining: 25m 52s\n",
      "6840:\ttest: 0.9475370\ttest1: 0.9415160\tbest: 0.9415160 (6840)\ttotal: 55m 49s\tremaining: 25m 46s\n"
     ]
    },
    {
     "name": "stdout",
     "output_type": "stream",
     "text": [
      "6850:\ttest: 0.9476003\ttest1: 0.9415728\tbest: 0.9415728 (6850)\ttotal: 55m 54s\tremaining: 25m 41s\n",
      "6860:\ttest: 0.9476579\ttest1: 0.9416293\tbest: 0.9416293 (6860)\ttotal: 55m 58s\tremaining: 25m 36s\n",
      "6870:\ttest: 0.9477204\ttest1: 0.9416847\tbest: 0.9416847 (6870)\ttotal: 56m 3s\tremaining: 25m 31s\n",
      "6880:\ttest: 0.9477872\ttest1: 0.9417463\tbest: 0.9417463 (6880)\ttotal: 56m 7s\tremaining: 25m 26s\n",
      "6890:\ttest: 0.9478434\ttest1: 0.9417994\tbest: 0.9417994 (6890)\ttotal: 56m 11s\tremaining: 25m 21s\n",
      "6900:\ttest: 0.9479037\ttest1: 0.9418485\tbest: 0.9418485 (6900)\ttotal: 56m 16s\tremaining: 25m 16s\n",
      "6910:\ttest: 0.9479633\ttest1: 0.9419030\tbest: 0.9419030 (6910)\ttotal: 56m 20s\tremaining: 25m 10s\n",
      "6920:\ttest: 0.9479929\ttest1: 0.9419328\tbest: 0.9419347 (6918)\ttotal: 56m 25s\tremaining: 25m 6s\n",
      "6930:\ttest: 0.9480808\ttest1: 0.9420197\tbest: 0.9420197 (6930)\ttotal: 56m 29s\tremaining: 25m\n",
      "6940:\ttest: 0.9481417\ttest1: 0.9420863\tbest: 0.9420863 (6940)\ttotal: 56m 33s\tremaining: 24m 55s\n",
      "6950:\ttest: 0.9481778\ttest1: 0.9421224\tbest: 0.9421224 (6950)\ttotal: 56m 37s\tremaining: 24m 50s\n",
      "6960:\ttest: 0.9482149\ttest1: 0.9421566\tbest: 0.9421566 (6960)\ttotal: 56m 42s\tremaining: 24m 45s\n",
      "6970:\ttest: 0.9482727\ttest1: 0.9422142\tbest: 0.9422142 (6970)\ttotal: 56m 47s\tremaining: 24m 40s\n",
      "6980:\ttest: 0.9483318\ttest1: 0.9422764\tbest: 0.9422764 (6980)\ttotal: 56m 52s\tremaining: 24m 35s\n",
      "6990:\ttest: 0.9483697\ttest1: 0.9423141\tbest: 0.9423141 (6990)\ttotal: 56m 57s\tremaining: 24m 30s\n",
      "7000:\ttest: 0.9484326\ttest1: 0.9423671\tbest: 0.9423671 (7000)\ttotal: 57m 2s\tremaining: 24m 26s\n",
      "7010:\ttest: 0.9484649\ttest1: 0.9424057\tbest: 0.9424057 (7010)\ttotal: 57m 7s\tremaining: 24m 21s\n",
      "7020:\ttest: 0.9485065\ttest1: 0.9424473\tbest: 0.9424473 (7020)\ttotal: 57m 12s\tremaining: 24m 16s\n",
      "7030:\ttest: 0.9485638\ttest1: 0.9425035\tbest: 0.9425035 (7030)\ttotal: 57m 16s\tremaining: 24m 11s\n",
      "7040:\ttest: 0.9485947\ttest1: 0.9425360\tbest: 0.9425360 (7040)\ttotal: 57m 21s\tremaining: 24m 6s\n",
      "7050:\ttest: 0.9486355\ttest1: 0.9425726\tbest: 0.9425730 (7048)\ttotal: 57m 27s\tremaining: 24m 1s\n",
      "7060:\ttest: 0.9487000\ttest1: 0.9426286\tbest: 0.9426286 (7060)\ttotal: 57m 32s\tremaining: 23m 57s\n",
      "7070:\ttest: 0.9487462\ttest1: 0.9426759\tbest: 0.9426759 (7070)\ttotal: 57m 38s\tremaining: 23m 52s\n",
      "7080:\ttest: 0.9488277\ttest1: 0.9427455\tbest: 0.9427455 (7080)\ttotal: 57m 43s\tremaining: 23m 47s\n",
      "7090:\ttest: 0.9489244\ttest1: 0.9428453\tbest: 0.9428453 (7090)\ttotal: 57m 48s\tremaining: 23m 42s\n",
      "7100:\ttest: 0.9489902\ttest1: 0.9429147\tbest: 0.9429147 (7100)\ttotal: 57m 52s\tremaining: 23m 37s\n",
      "7110:\ttest: 0.9490492\ttest1: 0.9429756\tbest: 0.9429756 (7110)\ttotal: 57m 56s\tremaining: 23m 32s\n",
      "7120:\ttest: 0.9491224\ttest1: 0.9430554\tbest: 0.9430554 (7120)\ttotal: 58m 2s\tremaining: 23m 27s\n",
      "7130:\ttest: 0.9491835\ttest1: 0.9431181\tbest: 0.9431181 (7130)\ttotal: 58m 7s\tremaining: 23m 23s\n",
      "7140:\ttest: 0.9492602\ttest1: 0.9431993\tbest: 0.9431993 (7140)\ttotal: 58m 12s\tremaining: 23m 18s\n",
      "7150:\ttest: 0.9493209\ttest1: 0.9432604\tbest: 0.9432604 (7150)\ttotal: 58m 17s\tremaining: 23m 13s\n",
      "7160:\ttest: 0.9493691\ttest1: 0.9433095\tbest: 0.9433095 (7160)\ttotal: 58m 22s\tremaining: 23m 8s\n",
      "7170:\ttest: 0.9494597\ttest1: 0.9433880\tbest: 0.9433880 (7170)\ttotal: 58m 27s\tremaining: 23m 3s\n",
      "7180:\ttest: 0.9495308\ttest1: 0.9434587\tbest: 0.9434587 (7180)\ttotal: 58m 32s\tremaining: 22m 58s\n",
      "7190:\ttest: 0.9495667\ttest1: 0.9434892\tbest: 0.9434892 (7190)\ttotal: 58m 37s\tremaining: 22m 53s\n",
      "7200:\ttest: 0.9496116\ttest1: 0.9435348\tbest: 0.9435348 (7200)\ttotal: 58m 41s\tremaining: 22m 48s\n",
      "7210:\ttest: 0.9496670\ttest1: 0.9435931\tbest: 0.9435931 (7210)\ttotal: 58m 46s\tremaining: 22m 43s\n",
      "7220:\ttest: 0.9497017\ttest1: 0.9436245\tbest: 0.9436283 (7218)\ttotal: 58m 50s\tremaining: 22m 38s\n",
      "7230:\ttest: 0.9497544\ttest1: 0.9436810\tbest: 0.9436810 (7230)\ttotal: 58m 54s\tremaining: 22m 33s\n",
      "7240:\ttest: 0.9498105\ttest1: 0.9437431\tbest: 0.9437431 (7240)\ttotal: 58m 58s\tremaining: 22m 28s\n",
      "7250:\ttest: 0.9498716\ttest1: 0.9438091\tbest: 0.9438091 (7250)\ttotal: 59m 3s\tremaining: 22m 23s\n",
      "7260:\ttest: 0.9499160\ttest1: 0.9438460\tbest: 0.9438460 (7260)\ttotal: 59m 7s\tremaining: 22m 18s\n",
      "7270:\ttest: 0.9499734\ttest1: 0.9439037\tbest: 0.9439043 (7269)\ttotal: 59m 12s\tremaining: 22m 13s\n",
      "7280:\ttest: 0.9500075\ttest1: 0.9439326\tbest: 0.9439331 (7279)\ttotal: 59m 16s\tremaining: 22m 8s\n",
      "7290:\ttest: 0.9500552\ttest1: 0.9439726\tbest: 0.9439726 (7290)\ttotal: 59m 22s\tremaining: 22m 3s\n",
      "7300:\ttest: 0.9501163\ttest1: 0.9440300\tbest: 0.9440310 (7299)\ttotal: 59m 26s\tremaining: 21m 58s\n",
      "7310:\ttest: 0.9501732\ttest1: 0.9440744\tbest: 0.9440744 (7310)\ttotal: 59m 31s\tremaining: 21m 53s\n",
      "7320:\ttest: 0.9502440\ttest1: 0.9441487\tbest: 0.9441487 (7320)\ttotal: 59m 36s\tremaining: 21m 48s\n",
      "7330:\ttest: 0.9503047\ttest1: 0.9442118\tbest: 0.9442118 (7330)\ttotal: 59m 42s\tremaining: 21m 44s\n",
      "7340:\ttest: 0.9503655\ttest1: 0.9442676\tbest: 0.9442676 (7340)\ttotal: 59m 47s\tremaining: 21m 39s\n",
      "7350:\ttest: 0.9504280\ttest1: 0.9443230\tbest: 0.9443236 (7349)\ttotal: 59m 51s\tremaining: 21m 34s\n",
      "7360:\ttest: 0.9504594\ttest1: 0.9443497\tbest: 0.9443497 (7360)\ttotal: 59m 56s\tremaining: 21m 29s\n",
      "7370:\ttest: 0.9505038\ttest1: 0.9443857\tbest: 0.9443864 (7369)\ttotal: 1h 1s\tremaining: 21m 24s\n",
      "7380:\ttest: 0.9505570\ttest1: 0.9444367\tbest: 0.9444367 (7380)\ttotal: 1h 5s\tremaining: 21m 19s\n",
      "7390:\ttest: 0.9506057\ttest1: 0.9444867\tbest: 0.9444867 (7390)\ttotal: 1h 10s\tremaining: 21m 14s\n",
      "7400:\ttest: 0.9506406\ttest1: 0.9445232\tbest: 0.9445232 (7400)\ttotal: 1h 15s\tremaining: 21m 9s\n",
      "7410:\ttest: 0.9506863\ttest1: 0.9445738\tbest: 0.9445738 (7410)\ttotal: 1h 20s\tremaining: 21m 4s\n",
      "7420:\ttest: 0.9507310\ttest1: 0.9446209\tbest: 0.9446209 (7420)\ttotal: 1h 25s\tremaining: 20m 59s\n",
      "7430:\ttest: 0.9507802\ttest1: 0.9446709\tbest: 0.9446709 (7430)\ttotal: 1h 29s\tremaining: 20m 54s\n",
      "7440:\ttest: 0.9508517\ttest1: 0.9447454\tbest: 0.9447454 (7440)\ttotal: 1h 34s\tremaining: 20m 49s\n",
      "7450:\ttest: 0.9508790\ttest1: 0.9447762\tbest: 0.9447766 (7449)\ttotal: 1h 38s\tremaining: 20m 44s\n",
      "7460:\ttest: 0.9509323\ttest1: 0.9448319\tbest: 0.9448319 (7460)\ttotal: 1h 43s\tremaining: 20m 39s\n",
      "7470:\ttest: 0.9509753\ttest1: 0.9448754\tbest: 0.9448754 (7470)\ttotal: 1h 47s\tremaining: 20m 34s\n",
      "7480:\ttest: 0.9510528\ttest1: 0.9449296\tbest: 0.9449296 (7480)\ttotal: 1h 53s\tremaining: 20m 30s\n",
      "7490:\ttest: 0.9511239\ttest1: 0.9449963\tbest: 0.9449963 (7490)\ttotal: 1h 58s\tremaining: 20m 25s\n",
      "7500:\ttest: 0.9511579\ttest1: 0.9450254\tbest: 0.9450260 (7499)\ttotal: 1h 1m 2s\tremaining: 20m 20s\n",
      "7510:\ttest: 0.9512133\ttest1: 0.9450792\tbest: 0.9450792 (7510)\ttotal: 1h 1m 8s\tremaining: 20m 15s\n",
      "7520:\ttest: 0.9512648\ttest1: 0.9451312\tbest: 0.9451312 (7520)\ttotal: 1h 1m 13s\tremaining: 20m 10s\n",
      "7530:\ttest: 0.9513278\ttest1: 0.9451891\tbest: 0.9451891 (7530)\ttotal: 1h 1m 18s\tremaining: 20m 6s\n",
      "7540:\ttest: 0.9513699\ttest1: 0.9452260\tbest: 0.9452272 (7539)\ttotal: 1h 1m 23s\tremaining: 20m 1s\n",
      "7550:\ttest: 0.9514242\ttest1: 0.9452747\tbest: 0.9452754 (7549)\ttotal: 1h 1m 26s\tremaining: 19m 55s\n",
      "7560:\ttest: 0.9514685\ttest1: 0.9453142\tbest: 0.9453148 (7559)\ttotal: 1h 1m 31s\tremaining: 19m 50s\n",
      "7570:\ttest: 0.9515052\ttest1: 0.9453446\tbest: 0.9453446 (7570)\ttotal: 1h 1m 35s\tremaining: 19m 45s\n",
      "7580:\ttest: 0.9515507\ttest1: 0.9453878\tbest: 0.9453878 (7580)\ttotal: 1h 1m 39s\tremaining: 19m 40s\n",
      "7590:\ttest: 0.9516073\ttest1: 0.9454375\tbest: 0.9454375 (7590)\ttotal: 1h 1m 44s\tremaining: 19m 35s\n",
      "7600:\ttest: 0.9516594\ttest1: 0.9454892\tbest: 0.9454892 (7600)\ttotal: 1h 1m 49s\tremaining: 19m 30s\n",
      "7610:\ttest: 0.9516934\ttest1: 0.9455227\tbest: 0.9455227 (7610)\ttotal: 1h 1m 54s\tremaining: 19m 25s\n",
      "7620:\ttest: 0.9517215\ttest1: 0.9455530\tbest: 0.9455538 (7618)\ttotal: 1h 1m 58s\tremaining: 19m 20s\n",
      "7630:\ttest: 0.9517636\ttest1: 0.9455879\tbest: 0.9455879 (7630)\ttotal: 1h 2m 2s\tremaining: 19m 15s\n",
      "7640:\ttest: 0.9518030\ttest1: 0.9456172\tbest: 0.9456183 (7637)\ttotal: 1h 2m 7s\tremaining: 19m 10s\n",
      "7650:\ttest: 0.9518315\ttest1: 0.9456443\tbest: 0.9456443 (7650)\ttotal: 1h 2m 11s\tremaining: 19m 5s\n",
      "7660:\ttest: 0.9518632\ttest1: 0.9456745\tbest: 0.9456745 (7660)\ttotal: 1h 2m 16s\tremaining: 19m\n",
      "7670:\ttest: 0.9518940\ttest1: 0.9457107\tbest: 0.9457107 (7670)\ttotal: 1h 2m 21s\tremaining: 18m 55s\n",
      "7680:\ttest: 0.9519208\ttest1: 0.9457387\tbest: 0.9457387 (7680)\ttotal: 1h 2m 25s\tremaining: 18m 50s\n",
      "7690:\ttest: 0.9519980\ttest1: 0.9458211\tbest: 0.9458211 (7690)\ttotal: 1h 2m 31s\tremaining: 18m 46s\n",
      "7700:\ttest: 0.9520265\ttest1: 0.9458469\tbest: 0.9458482 (7698)\ttotal: 1h 2m 36s\tremaining: 18m 41s\n"
     ]
    },
    {
     "name": "stdout",
     "output_type": "stream",
     "text": [
      "7710:\ttest: 0.9520682\ttest1: 0.9458787\tbest: 0.9458787 (7710)\ttotal: 1h 2m 41s\tremaining: 18m 36s\n",
      "7720:\ttest: 0.9521522\ttest1: 0.9459612\tbest: 0.9459612 (7720)\ttotal: 1h 2m 46s\tremaining: 18m 31s\n",
      "7730:\ttest: 0.9522250\ttest1: 0.9460363\tbest: 0.9460363 (7730)\ttotal: 1h 2m 50s\tremaining: 18m 26s\n",
      "7740:\ttest: 0.9522765\ttest1: 0.9460872\tbest: 0.9460872 (7740)\ttotal: 1h 2m 54s\tremaining: 18m 21s\n",
      "7750:\ttest: 0.9523141\ttest1: 0.9461256\tbest: 0.9461256 (7750)\ttotal: 1h 2m 58s\tremaining: 18m 16s\n",
      "7760:\ttest: 0.9523555\ttest1: 0.9461597\tbest: 0.9461597 (7760)\ttotal: 1h 3m 3s\tremaining: 18m 11s\n",
      "7770:\ttest: 0.9523833\ttest1: 0.9461822\tbest: 0.9461822 (7770)\ttotal: 1h 3m 7s\tremaining: 18m 6s\n",
      "7780:\ttest: 0.9524306\ttest1: 0.9462298\tbest: 0.9462298 (7780)\ttotal: 1h 3m 12s\tremaining: 18m 1s\n",
      "7790:\ttest: 0.9524858\ttest1: 0.9462752\tbest: 0.9462752 (7790)\ttotal: 1h 3m 15s\tremaining: 17m 56s\n",
      "7800:\ttest: 0.9525323\ttest1: 0.9463126\tbest: 0.9463126 (7800)\ttotal: 1h 3m 20s\tremaining: 17m 51s\n",
      "7810:\ttest: 0.9525526\ttest1: 0.9463398\tbest: 0.9463409 (7809)\ttotal: 1h 3m 23s\tremaining: 17m 46s\n",
      "7820:\ttest: 0.9525938\ttest1: 0.9463778\tbest: 0.9463778 (7820)\ttotal: 1h 3m 28s\tremaining: 17m 41s\n",
      "7830:\ttest: 0.9526565\ttest1: 0.9464352\tbest: 0.9464352 (7830)\ttotal: 1h 3m 32s\tremaining: 17m 35s\n",
      "7840:\ttest: 0.9527176\ttest1: 0.9464926\tbest: 0.9464926 (7840)\ttotal: 1h 3m 36s\tremaining: 17m 30s\n",
      "7850:\ttest: 0.9527967\ttest1: 0.9465729\tbest: 0.9465729 (7850)\ttotal: 1h 3m 40s\tremaining: 17m 25s\n",
      "7860:\ttest: 0.9528531\ttest1: 0.9466353\tbest: 0.9466353 (7860)\ttotal: 1h 3m 44s\tremaining: 17m 20s\n",
      "7870:\ttest: 0.9529005\ttest1: 0.9466830\tbest: 0.9466830 (7870)\ttotal: 1h 3m 48s\tremaining: 17m 15s\n",
      "7880:\ttest: 0.9529482\ttest1: 0.9467268\tbest: 0.9467268 (7880)\ttotal: 1h 3m 53s\tremaining: 17m 10s\n",
      "7890:\ttest: 0.9529703\ttest1: 0.9467466\tbest: 0.9467466 (7890)\ttotal: 1h 3m 57s\tremaining: 17m 5s\n",
      "7900:\ttest: 0.9530204\ttest1: 0.9467944\tbest: 0.9467944 (7900)\ttotal: 1h 4m 2s\tremaining: 17m\n",
      "7910:\ttest: 0.9530731\ttest1: 0.9468430\tbest: 0.9468430 (7910)\ttotal: 1h 4m 6s\tremaining: 16m 55s\n",
      "7920:\ttest: 0.9531146\ttest1: 0.9468764\tbest: 0.9468764 (7920)\ttotal: 1h 4m 11s\tremaining: 16m 50s\n",
      "7930:\ttest: 0.9531467\ttest1: 0.9469115\tbest: 0.9469115 (7930)\ttotal: 1h 4m 16s\tremaining: 16m 46s\n",
      "7940:\ttest: 0.9531713\ttest1: 0.9469336\tbest: 0.9469336 (7940)\ttotal: 1h 4m 21s\tremaining: 16m 41s\n",
      "7950:\ttest: 0.9531992\ttest1: 0.9469517\tbest: 0.9469517 (7950)\ttotal: 1h 4m 25s\tremaining: 16m 36s\n",
      "7960:\ttest: 0.9532442\ttest1: 0.9469913\tbest: 0.9469913 (7960)\ttotal: 1h 4m 30s\tremaining: 16m 31s\n",
      "7970:\ttest: 0.9532667\ttest1: 0.9470154\tbest: 0.9470154 (7970)\ttotal: 1h 4m 34s\tremaining: 16m 26s\n",
      "7980:\ttest: 0.9533031\ttest1: 0.9470537\tbest: 0.9470537 (7980)\ttotal: 1h 4m 38s\tremaining: 16m 21s\n",
      "7990:\ttest: 0.9533492\ttest1: 0.9471010\tbest: 0.9471010 (7990)\ttotal: 1h 4m 43s\tremaining: 16m 16s\n",
      "8000:\ttest: 0.9533794\ttest1: 0.9471264\tbest: 0.9471264 (8000)\ttotal: 1h 4m 48s\tremaining: 16m 11s\n",
      "8010:\ttest: 0.9533949\ttest1: 0.9471430\tbest: 0.9471432 (8009)\ttotal: 1h 4m 52s\tremaining: 16m 6s\n",
      "8020:\ttest: 0.9534120\ttest1: 0.9471540\tbest: 0.9471540 (8020)\ttotal: 1h 4m 57s\tremaining: 16m 1s\n",
      "8030:\ttest: 0.9534537\ttest1: 0.9471902\tbest: 0.9471902 (8030)\ttotal: 1h 5m 1s\tremaining: 15m 56s\n",
      "8040:\ttest: 0.9534937\ttest1: 0.9472326\tbest: 0.9472326 (8040)\ttotal: 1h 5m 6s\tremaining: 15m 51s\n",
      "8050:\ttest: 0.9535324\ttest1: 0.9472690\tbest: 0.9472690 (8050)\ttotal: 1h 5m 12s\tremaining: 15m 47s\n",
      "8060:\ttest: 0.9535750\ttest1: 0.9473063\tbest: 0.9473063 (8060)\ttotal: 1h 5m 17s\tremaining: 15m 42s\n",
      "8070:\ttest: 0.9536249\ttest1: 0.9473474\tbest: 0.9473474 (8070)\ttotal: 1h 5m 22s\tremaining: 15m 37s\n",
      "8080:\ttest: 0.9536389\ttest1: 0.9473587\tbest: 0.9473587 (8080)\ttotal: 1h 5m 27s\tremaining: 15m 32s\n",
      "8090:\ttest: 0.9536872\ttest1: 0.9474039\tbest: 0.9474039 (8090)\ttotal: 1h 5m 31s\tremaining: 15m 27s\n",
      "8100:\ttest: 0.9537133\ttest1: 0.9474220\tbest: 0.9474222 (8099)\ttotal: 1h 5m 36s\tremaining: 15m 22s\n",
      "8110:\ttest: 0.9537680\ttest1: 0.9474832\tbest: 0.9474832 (8110)\ttotal: 1h 5m 41s\tremaining: 15m 17s\n",
      "8120:\ttest: 0.9537834\ttest1: 0.9475002\tbest: 0.9475006 (8118)\ttotal: 1h 5m 45s\tremaining: 15m 12s\n",
      "8130:\ttest: 0.9538136\ttest1: 0.9475243\tbest: 0.9475243 (8130)\ttotal: 1h 5m 50s\tremaining: 15m 8s\n",
      "8140:\ttest: 0.9538500\ttest1: 0.9475641\tbest: 0.9475641 (8140)\ttotal: 1h 5m 55s\tremaining: 15m 3s\n",
      "8150:\ttest: 0.9538771\ttest1: 0.9475833\tbest: 0.9475833 (8150)\ttotal: 1h 5m 59s\tremaining: 14m 58s\n",
      "8160:\ttest: 0.9539234\ttest1: 0.9476280\tbest: 0.9476280 (8160)\ttotal: 1h 6m 5s\tremaining: 14m 53s\n",
      "8170:\ttest: 0.9539619\ttest1: 0.9476633\tbest: 0.9476633 (8170)\ttotal: 1h 6m 9s\tremaining: 14m 48s\n",
      "8180:\ttest: 0.9540053\ttest1: 0.9477086\tbest: 0.9477086 (8180)\ttotal: 1h 6m 13s\tremaining: 14m 43s\n",
      "8190:\ttest: 0.9540330\ttest1: 0.9477328\tbest: 0.9477328 (8190)\ttotal: 1h 6m 18s\tremaining: 14m 38s\n",
      "8200:\ttest: 0.9541073\ttest1: 0.9477962\tbest: 0.9477962 (8200)\ttotal: 1h 6m 23s\tremaining: 14m 33s\n",
      "8210:\ttest: 0.9541485\ttest1: 0.9478356\tbest: 0.9478356 (8210)\ttotal: 1h 6m 28s\tremaining: 14m 29s\n",
      "8220:\ttest: 0.9542035\ttest1: 0.9478841\tbest: 0.9478841 (8220)\ttotal: 1h 6m 33s\tremaining: 14m 24s\n",
      "8230:\ttest: 0.9542334\ttest1: 0.9479140\tbest: 0.9479140 (8230)\ttotal: 1h 6m 38s\tremaining: 14m 19s\n",
      "8240:\ttest: 0.9542788\ttest1: 0.9479657\tbest: 0.9479657 (8240)\ttotal: 1h 6m 44s\tremaining: 14m 14s\n",
      "8250:\ttest: 0.9543302\ttest1: 0.9480218\tbest: 0.9480218 (8250)\ttotal: 1h 6m 50s\tremaining: 14m 10s\n",
      "8260:\ttest: 0.9543785\ttest1: 0.9480746\tbest: 0.9480746 (8260)\ttotal: 1h 6m 54s\tremaining: 14m 5s\n",
      "8270:\ttest: 0.9544114\ttest1: 0.9481085\tbest: 0.9481085 (8270)\ttotal: 1h 6m 59s\tremaining: 14m\n",
      "8280:\ttest: 0.9544511\ttest1: 0.9481483\tbest: 0.9481483 (8280)\ttotal: 1h 7m 4s\tremaining: 13m 55s\n",
      "8290:\ttest: 0.9544705\ttest1: 0.9481629\tbest: 0.9481629 (8290)\ttotal: 1h 7m 9s\tremaining: 13m 50s\n",
      "8300:\ttest: 0.9545313\ttest1: 0.9482258\tbest: 0.9482258 (8300)\ttotal: 1h 7m 14s\tremaining: 13m 45s\n",
      "8310:\ttest: 0.9545913\ttest1: 0.9482925\tbest: 0.9482925 (8310)\ttotal: 1h 7m 20s\tremaining: 13m 41s\n",
      "8320:\ttest: 0.9546085\ttest1: 0.9483080\tbest: 0.9483080 (8320)\ttotal: 1h 7m 25s\tremaining: 13m 36s\n",
      "8330:\ttest: 0.9546667\ttest1: 0.9483576\tbest: 0.9483576 (8330)\ttotal: 1h 7m 30s\tremaining: 13m 31s\n",
      "8340:\ttest: 0.9547174\ttest1: 0.9484070\tbest: 0.9484070 (8340)\ttotal: 1h 7m 35s\tremaining: 13m 26s\n",
      "8350:\ttest: 0.9547560\ttest1: 0.9484473\tbest: 0.9484484 (8349)\ttotal: 1h 7m 40s\tremaining: 13m 21s\n",
      "8360:\ttest: 0.9547789\ttest1: 0.9484655\tbest: 0.9484655 (8360)\ttotal: 1h 7m 45s\tremaining: 13m 17s\n",
      "8370:\ttest: 0.9548094\ttest1: 0.9484969\tbest: 0.9484969 (8370)\ttotal: 1h 7m 50s\tremaining: 13m 12s\n",
      "8380:\ttest: 0.9548520\ttest1: 0.9485280\tbest: 0.9485280 (8380)\ttotal: 1h 7m 55s\tremaining: 13m 7s\n",
      "8390:\ttest: 0.9548866\ttest1: 0.9485652\tbest: 0.9485652 (8390)\ttotal: 1h 8m\tremaining: 13m 2s\n",
      "8400:\ttest: 0.9549351\ttest1: 0.9486165\tbest: 0.9486173 (8399)\ttotal: 1h 8m 5s\tremaining: 12m 57s\n",
      "8410:\ttest: 0.9549467\ttest1: 0.9486264\tbest: 0.9486265 (8409)\ttotal: 1h 8m 10s\tremaining: 12m 52s\n",
      "8420:\ttest: 0.9549781\ttest1: 0.9486554\tbest: 0.9486554 (8420)\ttotal: 1h 8m 14s\tremaining: 12m 47s\n",
      "8430:\ttest: 0.9550196\ttest1: 0.9486978\tbest: 0.9486987 (8429)\ttotal: 1h 8m 18s\tremaining: 12m 42s\n",
      "8440:\ttest: 0.9550468\ttest1: 0.9487299\tbest: 0.9487299 (8440)\ttotal: 1h 8m 22s\tremaining: 12m 37s\n",
      "8450:\ttest: 0.9550819\ttest1: 0.9487656\tbest: 0.9487656 (8450)\ttotal: 1h 8m 27s\tremaining: 12m 32s\n",
      "8460:\ttest: 0.9551443\ttest1: 0.9488182\tbest: 0.9488182 (8460)\ttotal: 1h 8m 32s\tremaining: 12m 28s\n",
      "8470:\ttest: 0.9551974\ttest1: 0.9488647\tbest: 0.9488647 (8470)\ttotal: 1h 8m 36s\tremaining: 12m 23s\n",
      "8480:\ttest: 0.9552690\ttest1: 0.9489344\tbest: 0.9489344 (8480)\ttotal: 1h 8m 41s\tremaining: 12m 18s\n",
      "8490:\ttest: 0.9553172\ttest1: 0.9489853\tbest: 0.9489853 (8490)\ttotal: 1h 8m 46s\tremaining: 12m 13s\n",
      "8500:\ttest: 0.9553466\ttest1: 0.9490078\tbest: 0.9490102 (8499)\ttotal: 1h 8m 52s\tremaining: 12m 8s\n",
      "8510:\ttest: 0.9553846\ttest1: 0.9490411\tbest: 0.9490411 (8510)\ttotal: 1h 8m 57s\tremaining: 12m 3s\n",
      "8520:\ttest: 0.9554224\ttest1: 0.9490699\tbest: 0.9490699 (8520)\ttotal: 1h 9m 2s\tremaining: 11m 58s\n",
      "8530:\ttest: 0.9554781\ttest1: 0.9491221\tbest: 0.9491221 (8530)\ttotal: 1h 9m 7s\tremaining: 11m 54s\n",
      "8540:\ttest: 0.9555054\ttest1: 0.9491533\tbest: 0.9491533 (8540)\ttotal: 1h 9m 12s\tremaining: 11m 49s\n"
     ]
    },
    {
     "name": "stdout",
     "output_type": "stream",
     "text": [
      "8550:\ttest: 0.9555586\ttest1: 0.9492004\tbest: 0.9492004 (8550)\ttotal: 1h 9m 17s\tremaining: 11m 44s\n",
      "8560:\ttest: 0.9555879\ttest1: 0.9492281\tbest: 0.9492281 (8560)\ttotal: 1h 9m 22s\tremaining: 11m 39s\n",
      "8570:\ttest: 0.9556264\ttest1: 0.9492619\tbest: 0.9492619 (8570)\ttotal: 1h 9m 27s\tremaining: 11m 34s\n",
      "8580:\ttest: 0.9556663\ttest1: 0.9493008\tbest: 0.9493008 (8580)\ttotal: 1h 9m 32s\tremaining: 11m 30s\n",
      "8590:\ttest: 0.9557280\ttest1: 0.9493575\tbest: 0.9493575 (8590)\ttotal: 1h 9m 37s\tremaining: 11m 25s\n",
      "8600:\ttest: 0.9557816\ttest1: 0.9494017\tbest: 0.9494017 (8600)\ttotal: 1h 9m 42s\tremaining: 11m 20s\n",
      "8610:\ttest: 0.9558428\ttest1: 0.9494557\tbest: 0.9494557 (8610)\ttotal: 1h 9m 47s\tremaining: 11m 15s\n",
      "8620:\ttest: 0.9558790\ttest1: 0.9494896\tbest: 0.9494896 (8620)\ttotal: 1h 9m 52s\tremaining: 11m 10s\n",
      "8630:\ttest: 0.9559030\ttest1: 0.9495169\tbest: 0.9495169 (8630)\ttotal: 1h 9m 57s\tremaining: 11m 5s\n",
      "8640:\ttest: 0.9559409\ttest1: 0.9495544\tbest: 0.9495580 (8638)\ttotal: 1h 10m 1s\tremaining: 11m\n",
      "8650:\ttest: 0.9559766\ttest1: 0.9495907\tbest: 0.9495907 (8650)\ttotal: 1h 10m 7s\tremaining: 10m 56s\n",
      "8660:\ttest: 0.9560106\ttest1: 0.9496268\tbest: 0.9496268 (8660)\ttotal: 1h 10m 12s\tremaining: 10m 51s\n",
      "8670:\ttest: 0.9560525\ttest1: 0.9496604\tbest: 0.9496607 (8669)\ttotal: 1h 10m 17s\tremaining: 10m 46s\n",
      "8680:\ttest: 0.9561067\ttest1: 0.9497091\tbest: 0.9497091 (8680)\ttotal: 1h 10m 21s\tremaining: 10m 41s\n",
      "8690:\ttest: 0.9561570\ttest1: 0.9497606\tbest: 0.9497606 (8690)\ttotal: 1h 10m 27s\tremaining: 10m 36s\n",
      "8700:\ttest: 0.9561949\ttest1: 0.9498047\tbest: 0.9498047 (8700)\ttotal: 1h 10m 30s\tremaining: 10m 31s\n",
      "8710:\ttest: 0.9562457\ttest1: 0.9498577\tbest: 0.9498577 (8710)\ttotal: 1h 10m 35s\tremaining: 10m 26s\n",
      "8720:\ttest: 0.9562669\ttest1: 0.9498721\tbest: 0.9498722 (8719)\ttotal: 1h 10m 39s\tremaining: 10m 21s\n",
      "8730:\ttest: 0.9563151\ttest1: 0.9499241\tbest: 0.9499241 (8730)\ttotal: 1h 10m 44s\tremaining: 10m 16s\n",
      "8740:\ttest: 0.9563654\ttest1: 0.9499708\tbest: 0.9499708 (8740)\ttotal: 1h 10m 49s\tremaining: 10m 12s\n",
      "8750:\ttest: 0.9563986\ttest1: 0.9500076\tbest: 0.9500076 (8750)\ttotal: 1h 10m 53s\tremaining: 10m 7s\n",
      "8760:\ttest: 0.9564364\ttest1: 0.9500472\tbest: 0.9500472 (8760)\ttotal: 1h 10m 58s\tremaining: 10m 2s\n",
      "8770:\ttest: 0.9564920\ttest1: 0.9500993\tbest: 0.9500993 (8770)\ttotal: 1h 11m 2s\tremaining: 9m 57s\n",
      "8780:\ttest: 0.9565382\ttest1: 0.9501484\tbest: 0.9501484 (8780)\ttotal: 1h 11m 7s\tremaining: 9m 52s\n",
      "8790:\ttest: 0.9565679\ttest1: 0.9501784\tbest: 0.9501784 (8789)\ttotal: 1h 11m 12s\tremaining: 9m 47s\n",
      "8800:\ttest: 0.9565990\ttest1: 0.9502112\tbest: 0.9502112 (8800)\ttotal: 1h 11m 16s\tremaining: 9m 42s\n",
      "8810:\ttest: 0.9566309\ttest1: 0.9502426\tbest: 0.9502426 (8810)\ttotal: 1h 11m 22s\tremaining: 9m 37s\n",
      "8820:\ttest: 0.9566453\ttest1: 0.9502533\tbest: 0.9502533 (8820)\ttotal: 1h 11m 26s\tremaining: 9m 32s\n",
      "8830:\ttest: 0.9566730\ttest1: 0.9502760\tbest: 0.9502760 (8830)\ttotal: 1h 11m 31s\tremaining: 9m 28s\n",
      "8840:\ttest: 0.9567183\ttest1: 0.9503187\tbest: 0.9503192 (8839)\ttotal: 1h 11m 35s\tremaining: 9m 23s\n",
      "8850:\ttest: 0.9567547\ttest1: 0.9503500\tbest: 0.9503500 (8850)\ttotal: 1h 11m 40s\tremaining: 9m 18s\n",
      "8860:\ttest: 0.9567867\ttest1: 0.9503788\tbest: 0.9503800 (8859)\ttotal: 1h 11m 44s\tremaining: 9m 13s\n",
      "8870:\ttest: 0.9568266\ttest1: 0.9504136\tbest: 0.9504136 (8870)\ttotal: 1h 11m 49s\tremaining: 9m 8s\n",
      "8880:\ttest: 0.9568719\ttest1: 0.9504593\tbest: 0.9504593 (8880)\ttotal: 1h 11m 54s\tremaining: 9m 3s\n",
      "8890:\ttest: 0.9569019\ttest1: 0.9504861\tbest: 0.9504861 (8890)\ttotal: 1h 11m 59s\tremaining: 8m 58s\n",
      "8900:\ttest: 0.9569373\ttest1: 0.9505139\tbest: 0.9505150 (8899)\ttotal: 1h 12m 4s\tremaining: 8m 53s\n",
      "8910:\ttest: 0.9569636\ttest1: 0.9505398\tbest: 0.9505398 (8910)\ttotal: 1h 12m 9s\tremaining: 8m 49s\n",
      "8920:\ttest: 0.9569911\ttest1: 0.9505629\tbest: 0.9505629 (8920)\ttotal: 1h 12m 14s\tremaining: 8m 44s\n",
      "8930:\ttest: 0.9570289\ttest1: 0.9505989\tbest: 0.9505989 (8930)\ttotal: 1h 12m 19s\tremaining: 8m 39s\n",
      "8940:\ttest: 0.9570605\ttest1: 0.9506277\tbest: 0.9506277 (8940)\ttotal: 1h 12m 23s\tremaining: 8m 34s\n",
      "8950:\ttest: 0.9570748\ttest1: 0.9506417\tbest: 0.9506417 (8950)\ttotal: 1h 12m 27s\tremaining: 8m 29s\n",
      "8960:\ttest: 0.9571294\ttest1: 0.9506956\tbest: 0.9506956 (8960)\ttotal: 1h 12m 33s\tremaining: 8m 24s\n",
      "8970:\ttest: 0.9571467\ttest1: 0.9507127\tbest: 0.9507127 (8970)\ttotal: 1h 12m 38s\tremaining: 8m 19s\n",
      "8980:\ttest: 0.9571779\ttest1: 0.9507432\tbest: 0.9507434 (8979)\ttotal: 1h 12m 43s\tremaining: 8m 15s\n",
      "8990:\ttest: 0.9572228\ttest1: 0.9507844\tbest: 0.9507844 (8990)\ttotal: 1h 12m 47s\tremaining: 8m 10s\n",
      "9000:\ttest: 0.9572584\ttest1: 0.9508179\tbest: 0.9508179 (9000)\ttotal: 1h 12m 53s\tremaining: 8m 5s\n",
      "9010:\ttest: 0.9572981\ttest1: 0.9508559\tbest: 0.9508559 (9010)\ttotal: 1h 12m 58s\tremaining: 8m\n",
      "9020:\ttest: 0.9573363\ttest1: 0.9508940\tbest: 0.9508940 (9020)\ttotal: 1h 13m 3s\tremaining: 7m 55s\n",
      "9030:\ttest: 0.9573528\ttest1: 0.9509070\tbest: 0.9509072 (9029)\ttotal: 1h 13m 9s\tremaining: 7m 50s\n",
      "9040:\ttest: 0.9573751\ttest1: 0.9509226\tbest: 0.9509227 (9039)\ttotal: 1h 13m 14s\tremaining: 7m 46s\n",
      "9050:\ttest: 0.9574376\ttest1: 0.9509854\tbest: 0.9509854 (9050)\ttotal: 1h 13m 18s\tremaining: 7m 41s\n",
      "9060:\ttest: 0.9574609\ttest1: 0.9510080\tbest: 0.9510080 (9060)\ttotal: 1h 13m 23s\tremaining: 7m 36s\n",
      "9070:\ttest: 0.9574927\ttest1: 0.9510410\tbest: 0.9510410 (9070)\ttotal: 1h 13m 28s\tremaining: 7m 31s\n",
      "9080:\ttest: 0.9575493\ttest1: 0.9511033\tbest: 0.9511033 (9080)\ttotal: 1h 13m 33s\tremaining: 7m 26s\n",
      "9090:\ttest: 0.9575948\ttest1: 0.9511533\tbest: 0.9511533 (9090)\ttotal: 1h 13m 39s\tremaining: 7m 21s\n",
      "9100:\ttest: 0.9576253\ttest1: 0.9511835\tbest: 0.9511835 (9100)\ttotal: 1h 13m 43s\tremaining: 7m 16s\n",
      "9110:\ttest: 0.9576544\ttest1: 0.9512087\tbest: 0.9512087 (9110)\ttotal: 1h 13m 49s\tremaining: 7m 12s\n",
      "9120:\ttest: 0.9576977\ttest1: 0.9512514\tbest: 0.9512514 (9120)\ttotal: 1h 13m 53s\tremaining: 7m 7s\n",
      "9130:\ttest: 0.9577457\ttest1: 0.9513015\tbest: 0.9513015 (9130)\ttotal: 1h 13m 58s\tremaining: 7m 2s\n",
      "9140:\ttest: 0.9577893\ttest1: 0.9513446\tbest: 0.9513446 (9140)\ttotal: 1h 14m 1s\tremaining: 6m 57s\n",
      "9150:\ttest: 0.9578341\ttest1: 0.9513828\tbest: 0.9513828 (9150)\ttotal: 1h 14m 5s\tremaining: 6m 52s\n",
      "9160:\ttest: 0.9578641\ttest1: 0.9514144\tbest: 0.9514144 (9160)\ttotal: 1h 14m 10s\tremaining: 6m 47s\n",
      "9170:\ttest: 0.9578960\ttest1: 0.9514458\tbest: 0.9514458 (9170)\ttotal: 1h 14m 16s\tremaining: 6m 42s\n",
      "9180:\ttest: 0.9579169\ttest1: 0.9514711\tbest: 0.9514711 (9180)\ttotal: 1h 14m 22s\tremaining: 6m 38s\n",
      "9190:\ttest: 0.9579702\ttest1: 0.9515206\tbest: 0.9515206 (9190)\ttotal: 1h 14m 27s\tremaining: 6m 33s\n",
      "9200:\ttest: 0.9580030\ttest1: 0.9515510\tbest: 0.9515510 (9200)\ttotal: 1h 14m 32s\tremaining: 6m 28s\n",
      "9210:\ttest: 0.9580414\ttest1: 0.9515933\tbest: 0.9515933 (9210)\ttotal: 1h 14m 37s\tremaining: 6m 23s\n",
      "9220:\ttest: 0.9580867\ttest1: 0.9516392\tbest: 0.9516392 (9220)\ttotal: 1h 14m 42s\tremaining: 6m 18s\n",
      "9230:\ttest: 0.9581260\ttest1: 0.9516828\tbest: 0.9516828 (9230)\ttotal: 1h 14m 47s\tremaining: 6m 13s\n",
      "9240:\ttest: 0.9581612\ttest1: 0.9517236\tbest: 0.9517239 (9239)\ttotal: 1h 14m 52s\tremaining: 6m 8s\n",
      "9250:\ttest: 0.9581938\ttest1: 0.9517565\tbest: 0.9517565 (9250)\ttotal: 1h 14m 56s\tremaining: 6m 4s\n",
      "9260:\ttest: 0.9582297\ttest1: 0.9517947\tbest: 0.9517947 (9260)\ttotal: 1h 15m 2s\tremaining: 5m 59s\n",
      "9270:\ttest: 0.9582624\ttest1: 0.9518318\tbest: 0.9518318 (9270)\ttotal: 1h 15m 7s\tremaining: 5m 54s\n",
      "9280:\ttest: 0.9583159\ttest1: 0.9518929\tbest: 0.9518949 (9279)\ttotal: 1h 15m 12s\tremaining: 5m 49s\n",
      "9290:\ttest: 0.9583505\ttest1: 0.9519226\tbest: 0.9519226 (9290)\ttotal: 1h 15m 17s\tremaining: 5m 44s\n",
      "9300:\ttest: 0.9583932\ttest1: 0.9519609\tbest: 0.9519609 (9300)\ttotal: 1h 15m 22s\tremaining: 5m 39s\n",
      "9310:\ttest: 0.9584273\ttest1: 0.9519880\tbest: 0.9519880 (9310)\ttotal: 1h 15m 27s\tremaining: 5m 35s\n",
      "9320:\ttest: 0.9584731\ttest1: 0.9520348\tbest: 0.9520348 (9320)\ttotal: 1h 15m 32s\tremaining: 5m 30s\n",
      "9330:\ttest: 0.9585190\ttest1: 0.9520750\tbest: 0.9520750 (9330)\ttotal: 1h 15m 37s\tremaining: 5m 25s\n",
      "9340:\ttest: 0.9585395\ttest1: 0.9520913\tbest: 0.9520913 (9340)\ttotal: 1h 15m 41s\tremaining: 5m 20s\n",
      "9350:\ttest: 0.9585751\ttest1: 0.9521247\tbest: 0.9521247 (9350)\ttotal: 1h 15m 47s\tremaining: 5m 15s\n",
      "9360:\ttest: 0.9586026\ttest1: 0.9521504\tbest: 0.9521504 (9360)\ttotal: 1h 15m 52s\tremaining: 5m 10s\n",
      "9370:\ttest: 0.9586402\ttest1: 0.9521868\tbest: 0.9521870 (9369)\ttotal: 1h 15m 57s\tremaining: 5m 5s\n",
      "9380:\ttest: 0.9586869\ttest1: 0.9522342\tbest: 0.9522342 (9380)\ttotal: 1h 16m 1s\tremaining: 5m\n"
     ]
    },
    {
     "name": "stdout",
     "output_type": "stream",
     "text": [
      "9390:\ttest: 0.9587487\ttest1: 0.9522959\tbest: 0.9522959 (9390)\ttotal: 1h 16m 6s\tremaining: 4m 56s\n",
      "9400:\ttest: 0.9587775\ttest1: 0.9523194\tbest: 0.9523194 (9400)\ttotal: 1h 16m 10s\tremaining: 4m 51s\n",
      "9410:\ttest: 0.9588038\ttest1: 0.9523434\tbest: 0.9523434 (9410)\ttotal: 1h 16m 15s\tremaining: 4m 46s\n",
      "9420:\ttest: 0.9588326\ttest1: 0.9523713\tbest: 0.9523713 (9420)\ttotal: 1h 16m 20s\tremaining: 4m 41s\n",
      "9430:\ttest: 0.9588694\ttest1: 0.9524096\tbest: 0.9524096 (9430)\ttotal: 1h 16m 25s\tremaining: 4m 36s\n",
      "9440:\ttest: 0.9589200\ttest1: 0.9524608\tbest: 0.9524608 (9440)\ttotal: 1h 16m 30s\tremaining: 4m 31s\n",
      "9450:\ttest: 0.9589707\ttest1: 0.9525098\tbest: 0.9525098 (9450)\ttotal: 1h 16m 34s\tremaining: 4m 26s\n",
      "9460:\ttest: 0.9590079\ttest1: 0.9525491\tbest: 0.9525491 (9460)\ttotal: 1h 16m 38s\tremaining: 4m 21s\n",
      "9470:\ttest: 0.9590352\ttest1: 0.9525732\tbest: 0.9525738 (9469)\ttotal: 1h 16m 42s\tremaining: 4m 17s\n",
      "9480:\ttest: 0.9590715\ttest1: 0.9526085\tbest: 0.9526085 (9480)\ttotal: 1h 16m 46s\tremaining: 4m 12s\n",
      "9490:\ttest: 0.9591072\ttest1: 0.9526454\tbest: 0.9526454 (9490)\ttotal: 1h 16m 51s\tremaining: 4m 7s\n",
      "9500:\ttest: 0.9591327\ttest1: 0.9526693\tbest: 0.9526693 (9500)\ttotal: 1h 16m 55s\tremaining: 4m 2s\n",
      "9510:\ttest: 0.9591451\ttest1: 0.9526820\tbest: 0.9526820 (9510)\ttotal: 1h 16m 59s\tremaining: 3m 57s\n",
      "9520:\ttest: 0.9591780\ttest1: 0.9527130\tbest: 0.9527130 (9520)\ttotal: 1h 17m 4s\tremaining: 3m 52s\n",
      "9530:\ttest: 0.9592074\ttest1: 0.9527331\tbest: 0.9527331 (9530)\ttotal: 1h 17m 9s\tremaining: 3m 47s\n",
      "9540:\ttest: 0.9592361\ttest1: 0.9527634\tbest: 0.9527634 (9540)\ttotal: 1h 17m 12s\tremaining: 3m 42s\n",
      "9550:\ttest: 0.9592541\ttest1: 0.9527774\tbest: 0.9527774 (9550)\ttotal: 1h 17m 17s\tremaining: 3m 37s\n",
      "9560:\ttest: 0.9592707\ttest1: 0.9527968\tbest: 0.9527968 (9560)\ttotal: 1h 17m 20s\tremaining: 3m 33s\n",
      "9570:\ttest: 0.9592990\ttest1: 0.9528264\tbest: 0.9528264 (9570)\ttotal: 1h 17m 24s\tremaining: 3m 28s\n",
      "9580:\ttest: 0.9593373\ttest1: 0.9528603\tbest: 0.9528603 (9580)\ttotal: 1h 17m 28s\tremaining: 3m 23s\n",
      "9590:\ttest: 0.9593772\ttest1: 0.9528987\tbest: 0.9528987 (9590)\ttotal: 1h 17m 33s\tremaining: 3m 18s\n",
      "9600:\ttest: 0.9594099\ttest1: 0.9529267\tbest: 0.9529287 (9599)\ttotal: 1h 17m 37s\tremaining: 3m 13s\n",
      "9610:\ttest: 0.9594559\ttest1: 0.9529727\tbest: 0.9529727 (9610)\ttotal: 1h 17m 41s\tremaining: 3m 8s\n",
      "9620:\ttest: 0.9594926\ttest1: 0.9530027\tbest: 0.9530027 (9620)\ttotal: 1h 17m 46s\tremaining: 3m 3s\n",
      "9630:\ttest: 0.9595277\ttest1: 0.9530358\tbest: 0.9530358 (9629)\ttotal: 1h 17m 49s\tremaining: 2m 58s\n",
      "9640:\ttest: 0.9595746\ttest1: 0.9530866\tbest: 0.9530866 (9640)\ttotal: 1h 17m 55s\tremaining: 2m 54s\n",
      "9650:\ttest: 0.9595922\ttest1: 0.9531039\tbest: 0.9531050 (9649)\ttotal: 1h 17m 59s\tremaining: 2m 49s\n",
      "9660:\ttest: 0.9596164\ttest1: 0.9531263\tbest: 0.9531263 (9660)\ttotal: 1h 18m 4s\tremaining: 2m 44s\n",
      "9670:\ttest: 0.9596378\ttest1: 0.9531460\tbest: 0.9531460 (9670)\ttotal: 1h 18m 9s\tremaining: 2m 39s\n",
      "9680:\ttest: 0.9596729\ttest1: 0.9531806\tbest: 0.9531807 (9679)\ttotal: 1h 18m 13s\tremaining: 2m 34s\n",
      "9690:\ttest: 0.9597027\ttest1: 0.9532004\tbest: 0.9532004 (9690)\ttotal: 1h 18m 19s\tremaining: 2m 29s\n",
      "9700:\ttest: 0.9597149\ttest1: 0.9532136\tbest: 0.9532136 (9700)\ttotal: 1h 18m 24s\tremaining: 2m 24s\n",
      "9710:\ttest: 0.9597428\ttest1: 0.9532400\tbest: 0.9532400 (9710)\ttotal: 1h 18m 29s\tremaining: 2m 20s\n",
      "9720:\ttest: 0.9597815\ttest1: 0.9532690\tbest: 0.9532690 (9720)\ttotal: 1h 18m 33s\tremaining: 2m 15s\n",
      "9730:\ttest: 0.9598262\ttest1: 0.9533070\tbest: 0.9533070 (9730)\ttotal: 1h 18m 38s\tremaining: 2m 10s\n",
      "9740:\ttest: 0.9598535\ttest1: 0.9533283\tbest: 0.9533287 (9739)\ttotal: 1h 18m 42s\tremaining: 2m 5s\n",
      "9750:\ttest: 0.9598796\ttest1: 0.9533588\tbest: 0.9533588 (9750)\ttotal: 1h 18m 47s\tremaining: 2m\n",
      "9760:\ttest: 0.9599016\ttest1: 0.9533803\tbest: 0.9533803 (9760)\ttotal: 1h 18m 50s\tremaining: 1m 55s\n",
      "9770:\ttest: 0.9599445\ttest1: 0.9534180\tbest: 0.9534180 (9770)\ttotal: 1h 18m 53s\tremaining: 1m 50s\n",
      "9780:\ttest: 0.9599673\ttest1: 0.9534452\tbest: 0.9534459 (9778)\ttotal: 1h 18m 58s\tremaining: 1m 46s\n",
      "9790:\ttest: 0.9599911\ttest1: 0.9534711\tbest: 0.9534711 (9790)\ttotal: 1h 19m 1s\tremaining: 1m 41s\n",
      "9800:\ttest: 0.9600162\ttest1: 0.9534947\tbest: 0.9534948 (9798)\ttotal: 1h 19m 5s\tremaining: 1m 36s\n",
      "9810:\ttest: 0.9600418\ttest1: 0.9535227\tbest: 0.9535240 (9808)\ttotal: 1h 19m 9s\tremaining: 1m 31s\n",
      "9820:\ttest: 0.9600582\ttest1: 0.9535354\tbest: 0.9535354 (9820)\ttotal: 1h 19m 14s\tremaining: 1m 26s\n",
      "9830:\ttest: 0.9600937\ttest1: 0.9535690\tbest: 0.9535692 (9829)\ttotal: 1h 19m 19s\tremaining: 1m 21s\n",
      "9840:\ttest: 0.9601176\ttest1: 0.9535917\tbest: 0.9535917 (9840)\ttotal: 1h 19m 22s\tremaining: 1m 16s\n",
      "9850:\ttest: 0.9601476\ttest1: 0.9536155\tbest: 0.9536155 (9850)\ttotal: 1h 19m 26s\tremaining: 1m 12s\n",
      "9860:\ttest: 0.9601854\ttest1: 0.9536536\tbest: 0.9536536 (9860)\ttotal: 1h 19m 31s\tremaining: 1m 7s\n",
      "9870:\ttest: 0.9602069\ttest1: 0.9536735\tbest: 0.9536735 (9870)\ttotal: 1h 19m 36s\tremaining: 1m 2s\n",
      "9880:\ttest: 0.9602345\ttest1: 0.9537001\tbest: 0.9537001 (9880)\ttotal: 1h 19m 40s\tremaining: 57.6s\n",
      "9890:\ttest: 0.9602796\ttest1: 0.9537483\tbest: 0.9537483 (9890)\ttotal: 1h 19m 45s\tremaining: 52.7s\n",
      "9900:\ttest: 0.9603023\ttest1: 0.9537708\tbest: 0.9537713 (9899)\ttotal: 1h 19m 50s\tremaining: 47.9s\n",
      "9910:\ttest: 0.9603148\ttest1: 0.9537798\tbest: 0.9537809 (9907)\ttotal: 1h 19m 54s\tremaining: 43.1s\n",
      "9920:\ttest: 0.9603330\ttest1: 0.9537947\tbest: 0.9537955 (9917)\ttotal: 1h 19m 58s\tremaining: 38.2s\n",
      "9930:\ttest: 0.9603464\ttest1: 0.9538075\tbest: 0.9538075 (9930)\ttotal: 1h 20m 2s\tremaining: 33.4s\n",
      "9940:\ttest: 0.9603868\ttest1: 0.9538476\tbest: 0.9538476 (9940)\ttotal: 1h 20m 6s\tremaining: 28.5s\n",
      "9950:\ttest: 0.9604075\ttest1: 0.9538700\tbest: 0.9538700 (9950)\ttotal: 1h 20m 10s\tremaining: 23.7s\n",
      "9960:\ttest: 0.9604168\ttest1: 0.9538764\tbest: 0.9538764 (9960)\ttotal: 1h 20m 14s\tremaining: 18.9s\n",
      "9970:\ttest: 0.9604482\ttest1: 0.9539101\tbest: 0.9539101 (9970)\ttotal: 1h 20m 18s\tremaining: 14s\n",
      "9980:\ttest: 0.9604717\ttest1: 0.9539284\tbest: 0.9539284 (9980)\ttotal: 1h 20m 22s\tremaining: 9.18s\n",
      "9990:\ttest: 0.9605020\ttest1: 0.9539554\tbest: 0.9539554 (9990)\ttotal: 1h 20m 26s\tremaining: 4.35s\n",
      "9999:\ttest: 0.9605143\ttest1: 0.9539686\tbest: 0.9539686 (9999)\ttotal: 1h 20m 30s\tremaining: 0us\n",
      "\n",
      "bestTest = 0.9539685918\n",
      "bestIteration = 9999\n",
      "\n"
     ]
    },
    {
     "data": {
      "text/plain": [
       "<catboost.core.CatBoostClassifier at 0x20406bd400>"
      ]
     },
     "execution_count": 64,
     "metadata": {},
     "output_type": "execute_result"
    }
   ],
   "source": [
    "cb_model.fit(\n",
    "    x_train[numerical_features],\n",
    "    y_train,\n",
    "    # cat_features = new_categorical_features,\n",
    "    eval_set=eval_sets)"
   ]
  },
  {
   "cell_type": "markdown",
   "metadata": {},
   "source": [
    "    bestTest = 0.8436279973    bestIteration = 999\n"
   ]
  },
  {
   "cell_type": "code",
   "execution_count": 65,
   "metadata": {},
   "outputs": [],
   "source": [
    "y_pred_train_cb = cb_model.predict(train_df[numerical_features])"
   ]
  },
  {
   "cell_type": "code",
   "execution_count": 66,
   "metadata": {},
   "outputs": [],
   "source": [
    "# make predictions for test data   (Тестовая выборка)\n",
    "x = X_test.values\n",
    "y_pred_cb = cb_model.predict(x)\n",
    "output_cb = pd.DataFrame({'APPLICATION_NUMBER': ids, 'TARGET': y_pred_cb})"
   ]
  },
  {
   "cell_type": "code",
   "execution_count": 67,
   "metadata": {},
   "outputs": [
    {
     "data": {
      "text/html": [
       "<div>\n",
       "<style scoped>\n",
       "    .dataframe tbody tr th:only-of-type {\n",
       "        vertical-align: middle;\n",
       "    }\n",
       "\n",
       "    .dataframe tbody tr th {\n",
       "        vertical-align: top;\n",
       "    }\n",
       "\n",
       "    .dataframe thead th {\n",
       "        text-align: right;\n",
       "    }\n",
       "</style>\n",
       "<table border=\"1\" class=\"dataframe\">\n",
       "  <thead>\n",
       "    <tr style=\"text-align: right;\">\n",
       "      <th></th>\n",
       "      <th>APPLICATION_NUMBER</th>\n",
       "      <th>TARGET</th>\n",
       "    </tr>\n",
       "  </thead>\n",
       "  <tbody>\n",
       "    <tr>\n",
       "      <th>0</th>\n",
       "      <td>123724268</td>\n",
       "      <td>0</td>\n",
       "    </tr>\n",
       "    <tr>\n",
       "      <th>1</th>\n",
       "      <td>123456549</td>\n",
       "      <td>0</td>\n",
       "    </tr>\n",
       "    <tr>\n",
       "      <th>2</th>\n",
       "      <td>123456549</td>\n",
       "      <td>0</td>\n",
       "    </tr>\n",
       "    <tr>\n",
       "      <th>3</th>\n",
       "      <td>123456549</td>\n",
       "      <td>0</td>\n",
       "    </tr>\n",
       "    <tr>\n",
       "      <th>4</th>\n",
       "      <td>123456549</td>\n",
       "      <td>0</td>\n",
       "    </tr>\n",
       "    <tr>\n",
       "      <th>5</th>\n",
       "      <td>123428178</td>\n",
       "      <td>0</td>\n",
       "    </tr>\n",
       "    <tr>\n",
       "      <th>6</th>\n",
       "      <td>123428178</td>\n",
       "      <td>0</td>\n",
       "    </tr>\n",
       "    <tr>\n",
       "      <th>7</th>\n",
       "      <td>123428178</td>\n",
       "      <td>0</td>\n",
       "    </tr>\n",
       "    <tr>\n",
       "      <th>8</th>\n",
       "      <td>123428178</td>\n",
       "      <td>0</td>\n",
       "    </tr>\n",
       "    <tr>\n",
       "      <th>9</th>\n",
       "      <td>123428178</td>\n",
       "      <td>0</td>\n",
       "    </tr>\n",
       "  </tbody>\n",
       "</table>\n",
       "</div>"
      ],
      "text/plain": [
       "   APPLICATION_NUMBER  TARGET\n",
       "0           123724268       0\n",
       "1           123456549       0\n",
       "2           123456549       0\n",
       "3           123456549       0\n",
       "4           123456549       0\n",
       "5           123428178       0\n",
       "6           123428178       0\n",
       "7           123428178       0\n",
       "8           123428178       0\n",
       "9           123428178       0"
      ]
     },
     "execution_count": 67,
     "metadata": {},
     "output_type": "execute_result"
    }
   ],
   "source": [
    "output_cb.head(10)"
   ]
  },
  {
   "cell_type": "code",
   "execution_count": 68,
   "metadata": {},
   "outputs": [
    {
     "data": {
      "text/plain": [
       "0    2420411\n",
       "1      16392\n",
       "Name: TARGET, dtype: int64"
      ]
     },
     "execution_count": 68,
     "metadata": {},
     "output_type": "execute_result"
    }
   ],
   "source": [
    "output_cb['TARGET'].value_counts()  # Количество различных значений признака 'TARGET'"
   ]
  },
  {
   "cell_type": "markdown",
   "metadata": {},
   "source": [
    "### Оценка качества модели"
   ]
  },
  {
   "cell_type": "code",
   "execution_count": 70,
   "metadata": {},
   "outputs": [
    {
     "name": "stdout",
     "output_type": "stream",
     "text": [
      "train_score=0.7767423095417059\n",
      "test_score=0.7695052642551211\n"
     ]
    }
   ],
   "source": [
    "train_score = roc_auc_score(y_train, cb_model.predict(x_train[numerical_features]))\n",
    "test_score = roc_auc_score(y_test, cb_model.predict(x_test[numerical_features]))\n",
    "\n",
    "print(f'train_score={train_score}')\n",
    "print(f'test_score={test_score}')"
   ]
  },
  {
   "cell_type": "markdown",
   "metadata": {},
   "source": [
    "### Prediction Correlation"
   ]
  },
  {
   "cell_type": "markdown",
   "metadata": {},
   "source": [
    "__Корреляция на тренировочной выборке__"
   ]
  },
  {
   "cell_type": "code",
   "execution_count": 73,
   "metadata": {},
   "outputs": [
    {
     "data": {
      "text/plain": [
       "<AxesSubplot:>"
      ]
     },
     "execution_count": 73,
     "metadata": {},
     "output_type": "execute_result"
    },
    {
     "data": {
      "image/png": "[encoded data removed]",
      "text/plain": [
       "<Figure size 720x720 with 2 Axes>"
      ]
     },
     "metadata": {
      "needs_background": "light"
     },
     "output_type": "display_data"
    }
   ],
   "source": [
    "import seaborn as sns\n",
    "\n",
    "# scores = pd.DataFrame({\n",
    "#     'lgbm_numerical': model_lgb.predict(x_train[numerical_features]),\n",
    "#     'xgb_numerical': xgb_model.predict(x_train[numerical_features]),\n",
    "#     'cb_numerical': cb_model.predict(x_train[numerical_features])\n",
    "# })\n",
    "\n",
    "# scores = pd.DataFrame({\n",
    "#     'lgbm_numerical': model_lgb.predict(train_df[numerical_features]),\n",
    "#     'xgb_numerical': xgb_model.predict(train_df[numerical_features]),\n",
    "#     'cb_numerical': cb_model.predict(train_df[numerical_features])\n",
    "# })\n",
    "\n",
    "scores = pd.DataFrame({\n",
    "    'lgbm_numerical': y_pred_train_lgb,\n",
    "    'xgb_numerical': y_pred_train_xgb,\n",
    "    'cb_numerical': y_pred_train_cb\n",
    "})\n",
    "\n",
    "corr = scores.corr()\n",
    "mask = np.zeros_like(corr, dtype=np.bool)\n",
    "mask[np.triu_indices_from(mask)] = True\n",
    "\n",
    "fig, axes = plt.subplots(1, 1, figsize=(10, 10))\n",
    "sns.heatmap(corr, mask=mask, annot=True, fmt=\".4f\", cmap=\"viridis\", ax=axes)"
   ]
  },
  {
   "cell_type": "markdown",
   "metadata": {},
   "source": [
    "__Корреляция на тестовой выборке__"
   ]
  },
  {
   "cell_type": "code",
   "execution_count": 74,
   "metadata": {},
   "outputs": [
    {
     "data": {
      "text/plain": [
       "<AxesSubplot:>"
      ]
     },
     "execution_count": 74,
     "metadata": {},
     "output_type": "execute_result"
    },
    {
     "data": {
      "image/png": "[encoded data removed]",
      "text/plain": [
       "<Figure size 720x720 with 2 Axes>"
      ]
     },
     "metadata": {
      "needs_background": "light"
     },
     "output_type": "display_data"
    }
   ],
   "source": [
    "scores = pd.DataFrame({\n",
    "    'lgbm_numerical_test': y_pred_lgb,\n",
    "    'xgb_numerical_test': y_pred_xgb,\n",
    "    'cb_numerical': y_pred_cb\n",
    "})\n",
    "\n",
    "corr = scores.corr()\n",
    "mask = np.zeros_like(corr, dtype=np.bool)\n",
    "mask[np.triu_indices_from(mask)] = True\n",
    "\n",
    "fig, axes = plt.subplots(1, 1, figsize=(10, 10))\n",
    "sns.heatmap(corr, mask=mask, annot=True, fmt=\".4f\", cmap=\"viridis\", ax=axes)"
   ]
  },
  {
   "cell_type": "code",
   "execution_count": 75,
   "metadata": {},
   "outputs": [],
   "source": [
    "scores = pd.DataFrame({\n",
    "    'lgbm_numerical': y_pred_train_lgb,\n",
    "    'xgb_numerical': y_pred_train_xgb,\n",
    "    'cb_numerical': y_pred_train_cb\n",
    "})"
   ]
  },
  {
   "cell_type": "markdown",
   "metadata": {},
   "source": [
    "__AMean__"
   ]
  },
  {
   "cell_type": "code",
   "execution_count": 76,
   "metadata": {},
   "outputs": [
    {
     "name": "stdout",
     "output_type": "stream",
     "text": [
      "Score = 0.8665\n"
     ]
    }
   ],
   "source": [
    "# y = train_df['TARGET']\n",
    "scores_mean = scores.mean(axis=1)\n",
    "# score = roc_auc_score(y_train, scores_mean)\n",
    "score = roc_auc_score(y, scores_mean)\n",
    "print(f\"Score = {round(score, 4)}\")"
   ]
  },
  {
   "cell_type": "markdown",
   "metadata": {},
   "source": [
    "__GMean__"
   ]
  },
  {
   "cell_type": "code",
   "execution_count": 78,
   "metadata": {},
   "outputs": [
    {
     "name": "stderr",
     "output_type": "stream",
     "text": [
      "C:\\ProgramData\\Anaconda3\\lib\\site-packages\\scipy\\stats\\stats.py:402: RuntimeWarning: divide by zero encountered in log\n",
      "  log_a = np.log(np.array(a, dtype=dtype))\n"
     ]
    },
    {
     "name": "stdout",
     "output_type": "stream",
     "text": [
      "Score = 0.6663\n"
     ]
    }
   ],
   "source": [
    "#scores_meean = scores.gmean(axis=1)\n",
    "scores_mean = gmean(scores, axis=1)\n",
    "# score = roc_auc_score(target, scores_mean)\n",
    "#score = roc_auc_score(y_train, scores_mean)\n",
    "score = roc_auc_score(y, scores_mean)\n",
    "print(f\"Score = {round(score, 4)}\")"
   ]
  },
  {
   "cell_type": "markdown",
   "metadata": {},
   "source": [
    "__Rankdata__"
   ]
  },
  {
   "cell_type": "code",
   "execution_count": 79,
   "metadata": {},
   "outputs": [
    {
     "name": "stdout",
     "output_type": "stream",
     "text": [
      "Score = 0.8665\n"
     ]
    }
   ],
   "source": [
    "scores_mean = scores.rank().mean(axis=1)\n",
    "#score = roc_auc_score(y_train, scores_mean)\n",
    "score = roc_auc_score(y, scores_mean)\n",
    "print(f\"Score = {round(score, 4)}\")"
   ]
  },
  {
   "cell_type": "code",
   "execution_count": 80,
   "metadata": {},
   "outputs": [
    {
     "name": "stdout",
     "output_type": "stream",
     "text": [
      "Score = 0.8665\n"
     ]
    }
   ],
   "source": [
    "scores_mean = gmean(scores.rank(), axis=1)\n",
    "#score = roc_auc_score(y_train, scores_mean)\n",
    "score = roc_auc_score(y, scores_mean)\n",
    "#score_meean = scores.rank().gmean(axis=1)\n",
    "print(f\"Score = {round(score, 4)}\")"
   ]
  },
  {
   "cell_type": "markdown",
   "metadata": {},
   "source": [
    "## Задание 4:<a class=\"anchor\" id=\"task4\"></a>"
   ]
  },
  {
   "cell_type": "markdown",
   "metadata": {},
   "source": [
    "(опция) Объединить OOF-прогнозы для трех моделей и обучить алгоритм Логистической регрессии (и любой другой, на ваше усмотрение). Сделать выводы о достигаемом качестве, сравнить достигаемое качество с качеством отдельных моделей и моделей, полученных в п.2 и п.4."
   ]
  },
  {
   "cell_type": "markdown",
   "metadata": {},
   "source": [
    "## Задание 5:<a class=\"anchor\" id=\"task5\"></a>"
   ]
  },
  {
   "cell_type": "markdown",
   "metadata": {},
   "source": [
    "(опция) Обучить алгоритмRandomForest (желательно подтюнить параметры) и добавить к построенным ранее моделям. Выполнить задание 5."
   ]
  },
  {
   "cell_type": "code",
   "execution_count": null,
   "metadata": {},
   "outputs": [],
   "source": []
  }
 ],
 "metadata": {
  "kernelspec": {
   "display_name": "Python 3",
   "language": "python",
   "name": "python3"
  },
  "language_info": {
   "codemirror_mode": {
    "name": "ipython",
    "version": 3
   },
   "file_extension": ".py",
   "mimetype": "text/x-python",
   "name": "python",
   "nbconvert_exporter": "python",
   "pygments_lexer": "ipython3",
   "version": "3.8.5"
  }
 },
 "nbformat": 4,
 "nbformat_minor": 4
}
